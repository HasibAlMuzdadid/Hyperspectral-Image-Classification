{
 "cells": [
  {
   "cell_type": "code",
   "execution_count": 1,
   "metadata": {},
   "outputs": [],
   "source": [
    "import numpy as np\n",
    "import matplotlib.pyplot as plt\n",
    "import pandas as pd\n",
    "from sklearn import decomposition\n",
    "from sklearn.preprocessing import MinMaxScaler\n",
    "from sklearn.decomposition import PCA\n",
    "import seaborn as sns\n",
    "from scipy.io import loadmat"
   ]
  },
  {
   "cell_type": "code",
   "execution_count": 2,
   "metadata": {},
   "outputs": [],
   "source": [
    "X = loadmat('Indian_pines_corrected.mat')['indian_pines_corrected']\n",
    "y = loadmat('Indian_pines_gt.mat')['indian_pines_gt']"
   ]
  },
  {
   "cell_type": "code",
   "execution_count": 3,
   "metadata": {},
   "outputs": [
    {
     "name": "stdout",
     "output_type": "stream",
     "text": [
      "X: (145, 145, 200)\n",
      "y: (145, 145)\n"
     ]
    }
   ],
   "source": [
    "print(\"X:\", (X.shape))\n",
    "print(\"y:\", (y.shape))"
   ]
  },
  {
   "cell_type": "code",
   "execution_count": 4,
   "metadata": {},
   "outputs": [
    {
     "data": {
      "text/plain": [
       "array([ 0,  1,  2,  3,  4,  5,  6,  7,  8,  9, 10, 11, 12, 13, 14, 15, 16],\n",
       "      dtype=uint8)"
      ]
     },
     "execution_count": 4,
     "metadata": {},
     "output_type": "execute_result"
    }
   ],
   "source": [
    "np.unique(y)"
   ]
  },
  {
   "cell_type": "code",
   "execution_count": 5,
   "metadata": {},
   "outputs": [
    {
     "data": {
      "image/png": "[encoded data removed]",
      "text/plain": [
       "<Figure size 576x432 with 2 Axes>"
      ]
     },
     "metadata": {
      "needs_background": "light"
     },
     "output_type": "display_data"
    }
   ],
   "source": [
    "plt.figure(figsize=(8, 6))\n",
    "plt.imshow(y, cmap='jet')\n",
    "plt.colorbar()\n",
    "plt.axis('off')\n",
    "plt.title('Ground Truth')\n",
    "plt.gca().legend(['0', '1', '2', '3', '4', '5', '6', '7', '8', '9','10', '11', '12', '13', '14', '15', '16'], loc='upper left')\n",
    "#plt.savefig('ground_truth.png')\n",
    "plt.show()"
   ]
  },
  {
   "cell_type": "code",
   "execution_count": 6,
   "metadata": {},
   "outputs": [],
   "source": [
    "_,F,S = X.shape"
   ]
  },
  {
   "cell_type": "code",
   "execution_count": 7,
   "metadata": {},
   "outputs": [
    {
     "name": "stdout",
     "output_type": "stream",
     "text": [
      "145    200\n"
     ]
    }
   ],
   "source": [
    "print(F,\"  \",S)"
   ]
  },
  {
   "cell_type": "code",
   "execution_count": 8,
   "metadata": {},
   "outputs": [
    {
     "name": "stdout",
     "output_type": "stream",
     "text": [
      "(145, 145, 36)\n",
      "(145, 145, 66)\n",
      "(145, 145, 98)\n"
     ]
    }
   ],
   "source": [
    "D1= X[:,:,0:36] \n",
    "print(D1.shape)\n",
    "D2= X[:,:,36:102] \n",
    "print(D2.shape)\n",
    "D3= X[:,:,102:] \n",
    "print(D3.shape)"
   ]
  },
  {
   "cell_type": "code",
   "execution_count": 10,
   "metadata": {},
   "outputs": [
    {
     "name": "stdout",
     "output_type": "stream",
     "text": [
      "145    36\n",
      "145    66\n",
      "145    98\n"
     ]
    }
   ],
   "source": [
    "_,F1,S1 = D1.shape\n",
    "_,F2,S2 = D2.shape\n",
    "_,F3,S3 = D3.shape\n",
    "print(F1,\"  \",S1)\n",
    "print(F2,\"  \",S2)\n",
    "print(F3,\"  \",S3)"
   ]
  },
  {
   "cell_type": "code",
   "execution_count": 11,
   "metadata": {},
   "outputs": [
    {
     "data": {
      "text/plain": [
       "(145, 145)"
      ]
     },
     "execution_count": 11,
     "metadata": {},
     "output_type": "execute_result"
    }
   ],
   "source": [
    "M = X.T.mean(axis=0)\n",
    "M.shape"
   ]
  },
  {
   "cell_type": "code",
   "execution_count": 12,
   "metadata": {},
   "outputs": [
    {
     "data": {
      "text/plain": [
       "(145, 145)"
      ]
     },
     "execution_count": 12,
     "metadata": {},
     "output_type": "execute_result"
    }
   ],
   "source": [
    "M=M.T;\n",
    "M.shape"
   ]
  },
  {
   "cell_type": "code",
   "execution_count": 13,
   "metadata": {},
   "outputs": [
    {
     "data": {
      "text/plain": [
       "(145, 145)"
      ]
     },
     "execution_count": 13,
     "metadata": {},
     "output_type": "execute_result"
    }
   ],
   "source": [
    "M1=D1.T.mean(axis=0)\n",
    "M1.shape"
   ]
  },
  {
   "cell_type": "code",
   "execution_count": 14,
   "metadata": {},
   "outputs": [
    {
     "data": {
      "text/plain": [
       "(145, 145)"
      ]
     },
     "execution_count": 14,
     "metadata": {},
     "output_type": "execute_result"
    }
   ],
   "source": [
    "M1=M1.T;\n",
    "M1.shape"
   ]
  },
  {
   "cell_type": "code",
   "execution_count": 15,
   "metadata": {},
   "outputs": [
    {
     "data": {
      "text/plain": [
       "(145, 145)"
      ]
     },
     "execution_count": 15,
     "metadata": {},
     "output_type": "execute_result"
    }
   ],
   "source": [
    "M2=D2.T.mean(axis=0)\n",
    "M2.shape"
   ]
  },
  {
   "cell_type": "code",
   "execution_count": 16,
   "metadata": {},
   "outputs": [
    {
     "data": {
      "text/plain": [
       "(145, 145)"
      ]
     },
     "execution_count": 16,
     "metadata": {},
     "output_type": "execute_result"
    }
   ],
   "source": [
    "M2=M2.T;\n",
    "M2.shape"
   ]
  },
  {
   "cell_type": "code",
   "execution_count": 17,
   "metadata": {},
   "outputs": [
    {
     "data": {
      "text/plain": [
       "(145, 145)"
      ]
     },
     "execution_count": 17,
     "metadata": {},
     "output_type": "execute_result"
    }
   ],
   "source": [
    "M3=D3.T.mean(axis=0)\n",
    "M3.shape"
   ]
  },
  {
   "cell_type": "code",
   "execution_count": 18,
   "metadata": {},
   "outputs": [
    {
     "data": {
      "text/plain": [
       "(145, 145)"
      ]
     },
     "execution_count": 18,
     "metadata": {},
     "output_type": "execute_result"
    }
   ],
   "source": [
    "M3=M3.T;\n",
    "M3.shape"
   ]
  },
  {
   "cell_type": "code",
   "execution_count": 19,
   "metadata": {},
   "outputs": [
    {
     "data": {
      "text/plain": [
       "(145, 145, 36)"
      ]
     },
     "execution_count": 19,
     "metadata": {},
     "output_type": "execute_result"
    }
   ],
   "source": [
    "np.stack([M1 for _ in range(S1)], axis=2).shape"
   ]
  },
  {
   "cell_type": "code",
   "execution_count": 20,
   "metadata": {},
   "outputs": [
    {
     "data": {
      "text/plain": [
       "(21025, 36)"
      ]
     },
     "execution_count": 20,
     "metadata": {},
     "output_type": "execute_result"
    }
   ],
   "source": [
    "I1 = (D1 - np.stack([M1 for _ in range(S1)], axis=2)); \n",
    "I1 = I1.reshape(I1.shape[0]*I1.shape[1], I1.shape[2])\n",
    "I1.shape"
   ]
  },
  {
   "cell_type": "code",
   "execution_count": 21,
   "metadata": {},
   "outputs": [
    {
     "data": {
      "text/plain": [
       "(21025, 66)"
      ]
     },
     "execution_count": 21,
     "metadata": {},
     "output_type": "execute_result"
    }
   ],
   "source": [
    "I2 = (D2 - np.stack([M2 for _ in range(S2)], axis=2)); \n",
    "I2 = I2.reshape(I2.shape[0]*I2.shape[1], I2.shape[2])\n",
    "I2.shape"
   ]
  },
  {
   "cell_type": "code",
   "execution_count": 22,
   "metadata": {},
   "outputs": [
    {
     "data": {
      "text/plain": [
       "(21025, 98)"
      ]
     },
     "execution_count": 22,
     "metadata": {},
     "output_type": "execute_result"
    }
   ],
   "source": [
    "I3 = (D3 - np.stack([M3 for _ in range(S3)], axis=2)); \n",
    "I3 = I3.reshape(I3.shape[0]*I3.shape[1], I3.shape[2])\n",
    "I3.shape"
   ]
  },
  {
   "cell_type": "code",
   "execution_count": 23,
   "metadata": {},
   "outputs": [],
   "source": [
    "def applyPCA(X, numComponents, isReshape = True, drawPlot = False, layerNo = 1):\n",
    "    if isReshape == True:\n",
    "        newX = np.reshape(X, (-1, X.shape[2]))\n",
    "        pca = PCA(n_components=numComponents, whiten=True)\n",
    "        newX = pca.fit_transform(newX)\n",
    "        newX = np.reshape(newX, (X.shape[0],X.shape[1], numComponents))\n",
    "    else: \n",
    "        pca = PCA(n_components=numComponents, svd_solver='full')\n",
    "        newX = pca.fit_transform(X)\n",
    "        if drawPlot == True:\n",
    "            drawPCAPlot(pca.explained_variance_ratio_,numComponents, layerNo)\n",
    "    return newX, pca.explained_variance_ratio_"
   ]
  },
  {
   "cell_type": "code",
   "execution_count": 24,
   "metadata": {},
   "outputs": [
    {
     "data": {
      "text/plain": [
       "(21025, 24)"
      ]
     },
     "execution_count": 24,
     "metadata": {},
     "output_type": "execute_result"
    }
   ],
   "source": [
    "SX1,pca1 = applyPCA(I1,numComponents = 0.99,isReshape = False)\n",
    "SX1.shape"
   ]
  },
  {
   "cell_type": "code",
   "execution_count": 25,
   "metadata": {},
   "outputs": [
    {
     "data": {
      "text/plain": [
       "(21025, 23)"
      ]
     },
     "execution_count": 25,
     "metadata": {},
     "output_type": "execute_result"
    }
   ],
   "source": [
    "SX2,pca2 = applyPCA(I2,numComponents = 0.99,isReshape = False)\n",
    "SX2.shape"
   ]
  },
  {
   "cell_type": "code",
   "execution_count": 26,
   "metadata": {},
   "outputs": [
    {
     "data": {
      "text/plain": [
       "(21025, 2)"
      ]
     },
     "execution_count": 26,
     "metadata": {},
     "output_type": "execute_result"
    }
   ],
   "source": [
    "SX3,pca3 = applyPCA(I3,numComponents = 0.99,isReshape = False)\n",
    "SX3.shape"
   ]
  },
  {
   "cell_type": "code",
   "execution_count": 27,
   "metadata": {},
   "outputs": [
    {
     "data": {
      "text/plain": [
       "(21025, 49)"
      ]
     },
     "execution_count": 27,
     "metadata": {},
     "output_type": "execute_result"
    }
   ],
   "source": [
    "SX= np.concatenate([SX1.T,SX2.T,SX3.T])\n",
    "SX = SX.T\n",
    "SX.shape"
   ]
  },
  {
   "cell_type": "code",
   "execution_count": 28,
   "metadata": {},
   "outputs": [
    {
     "data": {
      "text/plain": [
       "array([0.66058245, 0.0635636 , 0.04970123, 0.04234367, 0.03031121,\n",
       "       0.02422677, 0.02201408, 0.01901576, 0.01562553, 0.00972479,\n",
       "       0.00850695, 0.0073779 , 0.00571073, 0.00483182, 0.00355988,\n",
       "       0.0032634 , 0.00320752, 0.00295587, 0.00292503, 0.00284339,\n",
       "       0.00247453, 0.00232589, 0.0019893 , 0.00147348])"
      ]
     },
     "execution_count": 28,
     "metadata": {},
     "output_type": "execute_result"
    }
   ],
   "source": [
    "pca1"
   ]
  },
  {
   "cell_type": "code",
   "execution_count": 29,
   "metadata": {},
   "outputs": [
    {
     "data": {
      "text/plain": [
       "array([0.331, 0.601, 0.823, 0.844, 0.861, 0.876, 0.89 , 0.9  , 0.91 ,\n",
       "       0.918, 0.926, 0.933, 0.939, 0.945, 0.95 , 0.955, 0.959, 0.962,\n",
       "       0.965, 0.968, 0.971, 0.973, 0.975, 0.977, 0.979, 0.981, 0.982,\n",
       "       0.983, 0.984, 0.985, 0.986, 0.987, 0.988, 0.989, 0.99 , 0.991,\n",
       "       0.992, 0.993, 0.994, 0.995, 0.996, 0.997, 0.997, 0.997, 0.997,\n",
       "       0.997, 0.997, 0.997, 0.997])"
      ]
     },
     "execution_count": 29,
     "metadata": {},
     "output_type": "execute_result"
    }
   ],
   "source": [
    "pca_var = []\n",
    "pca_var = np.concatenate([pca1,pca2,pca3])\n",
    "pca_var = sorted(pca_var, reverse = True)\n",
    "MAX = max(np.cumsum(pca_var))\n",
    "pca_var = np.round((pca_var)/MAX,3)\n",
    "np.cumsum(pca_var)"
   ]
  },
  {
   "cell_type": "code",
   "execution_count": 30,
   "metadata": {},
   "outputs": [
    {
     "name": "stdout",
     "output_type": "stream",
     "text": [
      "[0.331 0.27  0.222 0.021 0.017 0.015 0.014 0.01  0.01  0.008 0.008 0.007\n",
      " 0.006 0.006 0.005 0.005 0.004 0.003 0.003 0.003 0.003 0.002 0.002 0.002\n",
      " 0.002 0.002 0.001 0.001 0.001 0.001 0.001 0.001 0.001 0.001 0.001 0.001\n",
      " 0.001 0.001 0.001 0.001 0.001 0.001 0.    0.    0.    0.    0.    0.\n",
      " 0.   ]\n"
     ]
    },
    {
     "data": {
      "image/png": "[encoded data removed]",
      "text/plain": [
       "<Figure size 432x288 with 1 Axes>"
      ]
     },
     "metadata": {
      "needs_background": "light"
     },
     "output_type": "display_data"
    }
   ],
   "source": [
    "print(pca_var)\n",
    "plt.figure()\n",
    "plt.plot(np.cumsum(pca_var))\n",
    "plt.xlabel('Number of Components')\n",
    "plt.ylabel('Cumulative Variance') #for each component\n",
    "#plt.title('Inidian_pines Dataset Explained Variance')\n",
    "plt.savefig('indian_pines_explainedvariance_final1')\n",
    "plt.show()"
   ]
  },
  {
   "cell_type": "code",
   "execution_count": 31,
   "metadata": {},
   "outputs": [],
   "source": [
    "y = y.ravel()"
   ]
  },
  {
   "cell_type": "code",
   "execution_count": 32,
   "metadata": {},
   "outputs": [
    {
     "name": "stdout",
     "output_type": "stream",
     "text": [
      "(21025, 49)\n",
      "(21025,)\n"
     ]
    }
   ],
   "source": [
    "print(SX.shape)\n",
    "print(y.shape)"
   ]
  },
  {
   "cell_type": "code",
   "execution_count": 33,
   "metadata": {},
   "outputs": [],
   "source": [
    "X = (SX[y>0,:])\n",
    "Y = (y[y>0])"
   ]
  },
  {
   "cell_type": "code",
   "execution_count": 34,
   "metadata": {},
   "outputs": [
    {
     "name": "stdout",
     "output_type": "stream",
     "text": [
      "(10249, 49)\n",
      "(10249,)\n"
     ]
    }
   ],
   "source": [
    "print(X.shape)\n",
    "print(Y.shape)"
   ]
  },
  {
   "cell_type": "code",
   "execution_count": 35,
   "metadata": {},
   "outputs": [],
   "source": [
    "from sklearn.model_selection import train_test_split\n",
    "X_train, X_test, y_train, y_test = train_test_split(X, Y, random_state = 10, test_size = 0.25, stratify=Y )"
   ]
  },
  {
   "cell_type": "code",
   "execution_count": 36,
   "metadata": {},
   "outputs": [
    {
     "name": "stdout",
     "output_type": "stream",
     "text": [
      "(7686, 49)\n",
      "(2563, 49)\n"
     ]
    }
   ],
   "source": [
    "print(X_train.shape)\n",
    "print(X_test.shape)"
   ]
  },
  {
   "cell_type": "code",
   "execution_count": 37,
   "metadata": {},
   "outputs": [
    {
     "name": "stdout",
     "output_type": "stream",
     "text": [
      "       0\n",
      "1     35\n",
      "2   1071\n",
      "3    622\n",
      "4    178\n",
      "5    362\n",
      "6    547\n",
      "7     21\n",
      "8    358\n",
      "9     15\n",
      "10   729\n",
      "11  1841\n",
      "12   445\n",
      "13   154\n",
      "14   949\n",
      "15   289\n",
      "16    70\n",
      "      0\n",
      "1    11\n",
      "2   357\n",
      "3   208\n",
      "4    59\n",
      "5   121\n",
      "6   183\n",
      "7     7\n",
      "8   120\n",
      "9     5\n",
      "10  243\n",
      "11  614\n",
      "12  148\n",
      "13   51\n",
      "14  316\n",
      "15   97\n",
      "16   23\n"
     ]
    }
   ],
   "source": [
    "label_tr,counts_tr=np.unique(y_train,return_counts=True)\n",
    "label_te,counts_te=np.unique(y_test,return_counts=True)\n",
    "print(pd.DataFrame(counts_tr,label_tr))\n",
    "print(pd.DataFrame(counts_te,label_te))"
   ]
  },
  {
   "cell_type": "code",
   "execution_count": 38,
   "metadata": {},
   "outputs": [],
   "source": [
    "#Applying Scalar to train and test Dataset\n",
    "\n",
    "from sklearn import preprocessing\n",
    "scaler = preprocessing.StandardScaler().fit(X_train) \n",
    "X_train= scaler.transform(X_train)\n",
    "X_test=scaler.transform(X_test)"
   ]
  },
  {
   "cell_type": "code",
   "execution_count": 39,
   "metadata": {},
   "outputs": [],
   "source": [
    "#Appplying SVM \n",
    "\n",
    "from sklearn.svm import SVC\n",
    "from sklearn import metrics"
   ]
  },
  {
   "cell_type": "code",
   "execution_count": 40,
   "metadata": {},
   "outputs": [
    {
     "name": "stdout",
     "output_type": "stream",
     "text": [
      "----------------------------------------------------------------\n",
      "C_train=  1  Best C_train =  1  gamma_train =  0.001  best_gamma_train=  0.001  Accuracy_train =  0.6344002081707  Best Accuracy_train =  0.6344002081707 \n",
      "\n",
      "C=  1  Best C =  1  gamma =  0.001  best_gamma=  0.001  Accuracy =  0.6180257510729614  Best Accuracy =  0.6180257510729614 \n",
      "\n",
      "----------------------------------------------------------------\n",
      "C_train=  1  Best C_train =  1  gamma_train =  0.006  best_gamma_train=  0.006  Accuracy_train =  0.7569607077803799  Best Accuracy_train =  0.7569607077803799 \n",
      "\n",
      "C=  1  Best C =  1  gamma =  0.006  best_gamma=  0.006  Accuracy =  0.7284432305891534  Best Accuracy =  0.7284432305891534 \n",
      "\n",
      "----------------------------------------------------------------\n",
      "C_train=  1  Best C_train =  1  gamma_train =  0.011  best_gamma_train=  0.011  Accuracy_train =  0.7950819672131147  Best Accuracy_train =  0.7950819672131147 \n",
      "\n",
      "C=  1  Best C =  1  gamma =  0.011  best_gamma=  0.011  Accuracy =  0.7557549746390948  Best Accuracy =  0.7557549746390948 \n",
      "\n",
      "----------------------------------------------------------------\n",
      "C_train=  1  Best C_train =  1  gamma_train =  0.016  best_gamma_train=  0.016  Accuracy_train =  0.8178506375227687  Best Accuracy_train =  0.8178506375227687 \n",
      "\n",
      "C=  1  Best C =  1  gamma =  0.016  best_gamma=  0.016  Accuracy =  0.7635583300819352  Best Accuracy =  0.7635583300819352 \n",
      "\n",
      "----------------------------------------------------------------\n",
      "C_train=  1  Best C_train =  1  gamma_train =  0.021  best_gamma_train=  0.021  Accuracy_train =  0.8294301327088213  Best Accuracy_train =  0.8294301327088213 \n",
      "\n",
      "C=  1  Best C =  1  gamma =  0.021  best_gamma=  0.021  Accuracy =  0.7666796722590714  Best Accuracy =  0.7666796722590714 \n",
      "\n",
      "----------------------------------------------------------------\n",
      "C_train=  1  Best C_train =  1  gamma_train =  0.026000000000000002  best_gamma_train=  0.026000000000000002  Accuracy_train =  0.8410096278948738  Best Accuracy_train =  0.8410096278948738 \n",
      "\n",
      "C=  1  Best C =  1  gamma =  0.026000000000000002  best_gamma=  0.021  Accuracy =  0.7651190011705034  Best Accuracy =  0.7666796722590714 \n",
      "\n",
      "----------------------------------------------------------------\n",
      "C_train=  1  Best C_train =  1  gamma_train =  0.031  best_gamma_train=  0.031  Accuracy_train =  0.848816029143898  Best Accuracy_train =  0.848816029143898 \n",
      "\n",
      "C=  1  Best C =  1  gamma =  0.031  best_gamma=  0.021  Accuracy =  0.7635583300819352  Best Accuracy =  0.7666796722590714 \n",
      "\n",
      "----------------------------------------------------------------\n",
      "C_train=  1  Best C_train =  1  gamma_train =  0.036000000000000004  best_gamma_train=  0.036000000000000004  Accuracy_train =  0.8550611501431173  Best Accuracy_train =  0.8550611501431173 \n",
      "\n",
      "C=  1  Best C =  1  gamma =  0.036000000000000004  best_gamma=  0.021  Accuracy =  0.7604369879047991  Best Accuracy =  0.7666796722590714 \n",
      "\n",
      "----------------------------------------------------------------\n",
      "C_train=  1  Best C_train =  1  gamma_train =  0.041  best_gamma_train=  0.041  Accuracy_train =  0.8618266978922716  Best Accuracy_train =  0.8618266978922716 \n",
      "\n",
      "C=  1  Best C =  1  gamma =  0.041  best_gamma=  0.021  Accuracy =  0.7553648068669528  Best Accuracy =  0.7666796722590714 \n",
      "\n",
      "----------------------------------------------------------------\n",
      "C_train=  1  Best C_train =  1  gamma_train =  0.046  best_gamma_train=  0.046  Accuracy_train =  0.8683320322664585  Best Accuracy_train =  0.8683320322664585 \n",
      "\n",
      "C=  1  Best C =  1  gamma =  0.046  best_gamma=  0.021  Accuracy =  0.7514631291455326  Best Accuracy =  0.7666796722590714 \n",
      "\n",
      "----------------------------------------------------------------\n",
      "C_train=  1  Best C_train =  1  gamma_train =  0.051000000000000004  best_gamma_train=  0.051000000000000004  Accuracy_train =  0.8736664064532917  Best Accuracy_train =  0.8736664064532917 \n",
      "\n",
      "C=  1  Best C =  1  gamma =  0.051000000000000004  best_gamma=  0.021  Accuracy =  0.7463909481076864  Best Accuracy =  0.7666796722590714 \n",
      "\n",
      "----------------------------------------------------------------\n",
      "C_train=  1  Best C_train =  1  gamma_train =  0.056  best_gamma_train=  0.056  Accuracy_train =  0.8776997137652875  Best Accuracy_train =  0.8776997137652875 \n",
      "\n",
      "C=  1  Best C =  1  gamma =  0.056  best_gamma=  0.021  Accuracy =  0.7432696059305501  Best Accuracy =  0.7666796722590714 \n",
      "\n",
      "----------------------------------------------------------------\n",
      "C_train=  1  Best C_train =  1  gamma_train =  0.061  best_gamma_train=  0.061  Accuracy_train =  0.8822534478272184  Best Accuracy_train =  0.8822534478272184 \n",
      "\n",
      "C=  1  Best C =  1  gamma =  0.061  best_gamma=  0.021  Accuracy =  0.740928599297698  Best Accuracy =  0.7666796722590714 \n",
      "\n",
      "----------------------------------------------------------------\n",
      "C_train=  1  Best C_train =  1  gamma_train =  0.066  best_gamma_train=  0.066  Accuracy_train =  0.887327608639084  Best Accuracy_train =  0.887327608639084 \n",
      "\n",
      "C=  1  Best C =  1  gamma =  0.066  best_gamma=  0.021  Accuracy =  0.7374170893484199  Best Accuracy =  0.7666796722590714 \n",
      "\n",
      "----------------------------------------------------------------\n",
      "C_train=  1  Best C_train =  1  gamma_train =  0.07100000000000001  best_gamma_train=  0.07100000000000001  Accuracy_train =  0.8912308092635961  Best Accuracy_train =  0.8912308092635961 \n",
      "\n",
      "C=  1  Best C =  1  gamma =  0.07100000000000001  best_gamma=  0.021  Accuracy =  0.7358564182598517  Best Accuracy =  0.7666796722590714 \n",
      "\n",
      "----------------------------------------------------------------\n",
      "C_train=  1  Best C_train =  1  gamma_train =  0.076  best_gamma_train=  0.076  Accuracy_train =  0.8951340098881082  Best Accuracy_train =  0.8951340098881082 \n",
      "\n",
      "C=  1  Best C =  1  gamma =  0.076  best_gamma=  0.021  Accuracy =  0.7311744049941474  Best Accuracy =  0.7666796722590714 \n",
      "\n",
      "----------------------------------------------------------------\n",
      "C_train=  1  Best C_train =  1  gamma_train =  0.081  best_gamma_train=  0.081  Accuracy_train =  0.8986468904501691  Best Accuracy_train =  0.8986468904501691 \n",
      "\n",
      "C=  1  Best C =  1  gamma =  0.081  best_gamma=  0.021  Accuracy =  0.7276628950448693  Best Accuracy =  0.7666796722590714 \n",
      "\n",
      "----------------------------------------------------------------\n",
      "C_train=  1  Best C_train =  1  gamma_train =  0.08600000000000001  best_gamma_train=  0.08600000000000001  Accuracy_train =  0.9013791308873276  Best Accuracy_train =  0.9013791308873276 \n",
      "\n",
      "C=  1  Best C =  1  gamma =  0.08600000000000001  best_gamma=  0.021  Accuracy =  0.7241513850955911  Best Accuracy =  0.7666796722590714 \n",
      "\n",
      "----------------------------------------------------------------\n",
      "C_train=  1  Best C_train =  1  gamma_train =  0.091  best_gamma_train=  0.091  Accuracy_train =  0.9048920114493885  Best Accuracy_train =  0.9048920114493885 \n",
      "\n",
      "C=  1  Best C =  1  gamma =  0.091  best_gamma=  0.021  Accuracy =  0.7206398751463129  Best Accuracy =  0.7666796722590714 \n",
      "\n",
      "----------------------------------------------------------------\n",
      "C_train=  1  Best C_train =  1  gamma_train =  0.096  best_gamma_train=  0.096  Accuracy_train =  0.9073640385115795  Best Accuracy_train =  0.9073640385115795 \n",
      "\n",
      "C=  1  Best C =  1  gamma =  0.096  best_gamma=  0.021  Accuracy =  0.7159578618806086  Best Accuracy =  0.7666796722590714 \n",
      "\n",
      "----------------------------------------------------------------\n",
      "C_train=  26  Best C_train =  1  gamma_train =  0.001  best_gamma_train=  0.096  Accuracy_train =  0.8168097840228987  Best Accuracy_train =  0.9073640385115795 \n",
      "\n",
      "C=  26  Best C =  26  gamma =  0.001  best_gamma=  0.001  Accuracy =  0.7889192352711666  Best Accuracy =  0.7889192352711666 \n",
      "\n",
      "----------------------------------------------------------------\n",
      "C_train=  26  Best C_train =  26  gamma_train =  0.006  best_gamma_train=  0.006  Accuracy_train =  0.9215456674473068  Best Accuracy_train =  0.9215456674473068 \n",
      "\n",
      "C=  26  Best C =  26  gamma =  0.006  best_gamma=  0.006  Accuracy =  0.8396410456496294  Best Accuracy =  0.8396410456496294 \n",
      "\n",
      "----------------------------------------------------------------\n",
      "C_train=  26  Best C_train =  26  gamma_train =  0.011  best_gamma_train=  0.011  Accuracy_train =  0.9534218058808223  Best Accuracy_train =  0.9534218058808223 \n",
      "\n",
      "C=  26  Best C =  26  gamma =  0.011  best_gamma=  0.011  Accuracy =  0.8451033944596177  Best Accuracy =  0.8451033944596177 \n",
      "\n",
      "----------------------------------------------------------------\n"
     ]
    },
    {
     "name": "stdout",
     "output_type": "stream",
     "text": [
      "C_train=  26  Best C_train =  26  gamma_train =  0.016  best_gamma_train=  0.016  Accuracy_train =  0.9729378090033828  Best Accuracy_train =  0.9729378090033828 \n",
      "\n",
      "C=  26  Best C =  26  gamma =  0.016  best_gamma=  0.011  Accuracy =  0.8443230589153335  Best Accuracy =  0.8451033944596177 \n",
      "\n",
      "----------------------------------------------------------------\n",
      "C_train=  26  Best C_train =  26  gamma_train =  0.021  best_gamma_train=  0.021  Accuracy_train =  0.9845173041894353  Best Accuracy_train =  0.9845173041894353 \n",
      "\n",
      "C=  26  Best C =  26  gamma =  0.021  best_gamma=  0.011  Accuracy =  0.8408115489660554  Best Accuracy =  0.8451033944596177 \n",
      "\n",
      "----------------------------------------------------------------\n",
      "C_train=  26  Best C_train =  26  gamma_train =  0.026000000000000002  best_gamma_train=  0.026000000000000002  Accuracy_train =  0.9902419984387197  Best Accuracy_train =  0.9902419984387197 \n",
      "\n",
      "C=  26  Best C =  26  gamma =  0.026000000000000002  best_gamma=  0.011  Accuracy =  0.8341786968396411  Best Accuracy =  0.8451033944596177 \n",
      "\n",
      "----------------------------------------------------------------\n",
      "C_train=  26  Best C_train =  26  gamma_train =  0.031  best_gamma_train=  0.031  Accuracy_train =  0.9929742388758782  Best Accuracy_train =  0.9929742388758782 \n",
      "\n",
      "C=  26  Best C =  26  gamma =  0.031  best_gamma=  0.011  Accuracy =  0.8302770191182208  Best Accuracy =  0.8451033944596177 \n",
      "\n",
      "----------------------------------------------------------------\n",
      "C_train=  26  Best C_train =  26  gamma_train =  0.036000000000000004  best_gamma_train=  0.036000000000000004  Accuracy_train =  0.9957064793130367  Best Accuracy_train =  0.9957064793130367 \n",
      "\n",
      "C=  26  Best C =  26  gamma =  0.036000000000000004  best_gamma=  0.011  Accuracy =  0.8283261802575107  Best Accuracy =  0.8451033944596177 \n",
      "\n",
      "----------------------------------------------------------------\n",
      "C_train=  26  Best C_train =  26  gamma_train =  0.041  best_gamma_train=  0.041  Accuracy_train =  0.998048399687744  Best Accuracy_train =  0.998048399687744 \n",
      "\n",
      "C=  26  Best C =  26  gamma =  0.041  best_gamma=  0.011  Accuracy =  0.815840811548966  Best Accuracy =  0.8451033944596177 \n",
      "\n",
      "----------------------------------------------------------------\n",
      "C_train=  26  Best C_train =  26  gamma_train =  0.046  best_gamma_train=  0.046  Accuracy_train =  0.9989591465001301  Best Accuracy_train =  0.9989591465001301 \n",
      "\n",
      "C=  26  Best C =  26  gamma =  0.046  best_gamma=  0.011  Accuracy =  0.8084276238782676  Best Accuracy =  0.8451033944596177 \n",
      "\n",
      "----------------------------------------------------------------\n",
      "C_train=  26  Best C_train =  26  gamma_train =  0.051000000000000004  best_gamma_train=  0.051000000000000004  Accuracy_train =  0.9993494665625813  Best Accuracy_train =  0.9993494665625813 \n",
      "\n",
      "C=  26  Best C =  26  gamma =  0.051000000000000004  best_gamma=  0.011  Accuracy =  0.8010144362075693  Best Accuracy =  0.8451033944596177 \n",
      "\n",
      "----------------------------------------------------------------\n",
      "C_train=  26  Best C_train =  26  gamma_train =  0.056  best_gamma_train=  0.056  Accuracy_train =  0.9996096799375488  Best Accuracy_train =  0.9996096799375488 \n",
      "\n",
      "C=  26  Best C =  26  gamma =  0.056  best_gamma=  0.011  Accuracy =  0.7939914163090128  Best Accuracy =  0.8451033944596177 \n",
      "\n",
      "----------------------------------------------------------------\n",
      "C_train=  26  Best C_train =  26  gamma_train =  0.061  best_gamma_train=  0.061  Accuracy_train =  0.9997397866250325  Best Accuracy_train =  0.9997397866250325 \n",
      "\n",
      "C=  26  Best C =  26  gamma =  0.061  best_gamma=  0.011  Accuracy =  0.7885290674990246  Best Accuracy =  0.8451033944596177 \n",
      "\n",
      "----------------------------------------------------------------\n",
      "C_train=  26  Best C_train =  26  gamma_train =  0.066  best_gamma_train=  0.066  Accuracy_train =  0.9998698933125163  Best Accuracy_train =  0.9998698933125163 \n",
      "\n",
      "C=  26  Best C =  26  gamma =  0.066  best_gamma=  0.011  Accuracy =  0.7834568864611783  Best Accuracy =  0.8451033944596177 \n",
      "\n",
      "----------------------------------------------------------------\n",
      "C_train=  26  Best C_train =  26  gamma_train =  0.07100000000000001  best_gamma_train=  0.066  Accuracy_train =  0.9998698933125163  Best Accuracy_train =  0.9998698933125163 \n",
      "\n",
      "C=  26  Best C =  26  gamma =  0.07100000000000001  best_gamma=  0.011  Accuracy =  0.777214202106906  Best Accuracy =  0.8451033944596177 \n",
      "\n",
      "----------------------------------------------------------------\n",
      "C_train=  26  Best C_train =  26  gamma_train =  0.076  best_gamma_train=  0.076  Accuracy_train =  1.0  Best Accuracy_train =  1.0 \n",
      "\n",
      "C=  26  Best C =  26  gamma =  0.076  best_gamma=  0.011  Accuracy =  0.7698010144362075  Best Accuracy =  0.8451033944596177 \n",
      "\n",
      "----------------------------------------------------------------\n",
      "C_train=  26  Best C_train =  26  gamma_train =  0.081  best_gamma_train=  0.076  Accuracy_train =  1.0  Best Accuracy_train =  1.0 \n",
      "\n",
      "C=  26  Best C =  26  gamma =  0.081  best_gamma=  0.011  Accuracy =  0.7635583300819352  Best Accuracy =  0.8451033944596177 \n",
      "\n",
      "----------------------------------------------------------------\n",
      "C_train=  26  Best C_train =  26  gamma_train =  0.08600000000000001  best_gamma_train=  0.076  Accuracy_train =  1.0  Best Accuracy_train =  1.0 \n",
      "\n",
      "C=  26  Best C =  26  gamma =  0.08600000000000001  best_gamma=  0.011  Accuracy =  0.7580959812719469  Best Accuracy =  0.8451033944596177 \n",
      "\n",
      "----------------------------------------------------------------\n",
      "C_train=  26  Best C_train =  26  gamma_train =  0.091  best_gamma_train=  0.076  Accuracy_train =  1.0  Best Accuracy_train =  1.0 \n",
      "\n",
      "C=  26  Best C =  26  gamma =  0.091  best_gamma=  0.011  Accuracy =  0.7518532969176746  Best Accuracy =  0.8451033944596177 \n",
      "\n",
      "----------------------------------------------------------------\n",
      "C_train=  26  Best C_train =  26  gamma_train =  0.096  best_gamma_train=  0.076  Accuracy_train =  1.0  Best Accuracy_train =  1.0 \n",
      "\n",
      "C=  26  Best C =  26  gamma =  0.096  best_gamma=  0.011  Accuracy =  0.7487319547405384  Best Accuracy =  0.8451033944596177 \n",
      "\n",
      "----------------------------------------------------------------\n",
      "C_train=  51  Best C_train =  26  gamma_train =  0.001  best_gamma_train=  0.076  Accuracy_train =  0.8471246422066094  Best Accuracy_train =  1.0 \n",
      "\n",
      "C=  51  Best C =  26  gamma =  0.001  best_gamma=  0.011  Accuracy =  0.8107686305111198  Best Accuracy =  0.8451033944596177 \n",
      "\n",
      "----------------------------------------------------------------\n",
      "C_train=  51  Best C_train =  26  gamma_train =  0.006  best_gamma_train=  0.076  Accuracy_train =  0.943663804319542  Best Accuracy_train =  1.0 \n",
      "\n",
      "C=  51  Best C =  51  gamma =  0.006  best_gamma=  0.006  Accuracy =  0.8478345688646118  Best Accuracy =  0.8478345688646118 \n",
      "\n",
      "----------------------------------------------------------------\n",
      "C_train=  51  Best C_train =  26  gamma_train =  0.011  best_gamma_train=  0.076  Accuracy_train =  0.9737184491282852  Best Accuracy_train =  1.0 \n",
      "\n",
      "C=  51  Best C =  51  gamma =  0.011  best_gamma=  0.006  Accuracy =  0.8462738977760437  Best Accuracy =  0.8478345688646118 \n",
      "\n",
      "----------------------------------------------------------------\n",
      "C_train=  51  Best C_train =  26  gamma_train =  0.016  best_gamma_train=  0.076  Accuracy_train =  0.9859484777517564  Best Accuracy_train =  1.0 \n",
      "\n",
      "C=  51  Best C =  51  gamma =  0.016  best_gamma=  0.006  Accuracy =  0.8443230589153335  Best Accuracy =  0.8478345688646118 \n",
      "\n",
      "----------------------------------------------------------------\n",
      "C_train=  51  Best C_train =  26  gamma_train =  0.021  best_gamma_train=  0.076  Accuracy_train =  0.9931043455633619  Best Accuracy_train =  1.0 \n",
      "\n",
      "C=  51  Best C =  51  gamma =  0.021  best_gamma=  0.006  Accuracy =  0.8408115489660554  Best Accuracy =  0.8478345688646118 \n",
      "\n",
      "----------------------------------------------------------------\n",
      "C_train=  51  Best C_train =  26  gamma_train =  0.026000000000000002  best_gamma_train=  0.076  Accuracy_train =  0.9963570127504554  Best Accuracy_train =  1.0 \n",
      "\n",
      "C=  51  Best C =  51  gamma =  0.026000000000000002  best_gamma=  0.006  Accuracy =  0.8341786968396411  Best Accuracy =  0.8478345688646118 \n",
      "\n",
      "----------------------------------------------------------------\n",
      "C_train=  51  Best C_train =  26  gamma_train =  0.031  best_gamma_train=  0.076  Accuracy_train =  0.9989591465001301  Best Accuracy_train =  1.0 \n",
      "\n",
      "C=  51  Best C =  51  gamma =  0.031  best_gamma=  0.006  Accuracy =  0.8302770191182208  Best Accuracy =  0.8478345688646118 \n",
      "\n",
      "----------------------------------------------------------------\n"
     ]
    },
    {
     "name": "stdout",
     "output_type": "stream",
     "text": [
      "C_train=  51  Best C_train =  26  gamma_train =  0.036000000000000004  best_gamma_train=  0.076  Accuracy_train =  0.9993494665625813  Best Accuracy_train =  1.0 \n",
      "\n",
      "C=  51  Best C =  51  gamma =  0.036000000000000004  best_gamma=  0.006  Accuracy =  0.8271556769410847  Best Accuracy =  0.8478345688646118 \n",
      "\n",
      "----------------------------------------------------------------\n",
      "C_train=  51  Best C_train =  26  gamma_train =  0.041  best_gamma_train=  0.076  Accuracy_train =  0.9997397866250325  Best Accuracy_train =  1.0 \n",
      "\n",
      "C=  51  Best C =  51  gamma =  0.041  best_gamma=  0.006  Accuracy =  0.8162309793211081  Best Accuracy =  0.8478345688646118 \n",
      "\n",
      "----------------------------------------------------------------\n",
      "C_train=  51  Best C_train =  26  gamma_train =  0.046  best_gamma_train=  0.076  Accuracy_train =  0.9998698933125163  Best Accuracy_train =  1.0 \n",
      "\n",
      "C=  51  Best C =  51  gamma =  0.046  best_gamma=  0.006  Accuracy =  0.8084276238782676  Best Accuracy =  0.8478345688646118 \n",
      "\n",
      "----------------------------------------------------------------\n",
      "C_train=  51  Best C_train =  26  gamma_train =  0.051000000000000004  best_gamma_train=  0.076  Accuracy_train =  1.0  Best Accuracy_train =  1.0 \n",
      "\n",
      "C=  51  Best C =  51  gamma =  0.051000000000000004  best_gamma=  0.006  Accuracy =  0.7998439328911432  Best Accuracy =  0.8478345688646118 \n",
      "\n",
      "----------------------------------------------------------------\n",
      "C_train=  51  Best C_train =  26  gamma_train =  0.056  best_gamma_train=  0.076  Accuracy_train =  1.0  Best Accuracy_train =  1.0 \n",
      "\n",
      "C=  51  Best C =  51  gamma =  0.056  best_gamma=  0.006  Accuracy =  0.7932110807647288  Best Accuracy =  0.8478345688646118 \n",
      "\n",
      "----------------------------------------------------------------\n",
      "C_train=  51  Best C_train =  26  gamma_train =  0.061  best_gamma_train=  0.076  Accuracy_train =  1.0  Best Accuracy_train =  1.0 \n",
      "\n",
      "C=  51  Best C =  51  gamma =  0.061  best_gamma=  0.006  Accuracy =  0.7881388997268826  Best Accuracy =  0.8478345688646118 \n",
      "\n",
      "----------------------------------------------------------------\n",
      "C_train=  51  Best C_train =  26  gamma_train =  0.066  best_gamma_train=  0.076  Accuracy_train =  1.0  Best Accuracy_train =  1.0 \n",
      "\n",
      "C=  51  Best C =  51  gamma =  0.066  best_gamma=  0.006  Accuracy =  0.7846273897776044  Best Accuracy =  0.8478345688646118 \n",
      "\n",
      "----------------------------------------------------------------\n",
      "C_train=  51  Best C_train =  26  gamma_train =  0.07100000000000001  best_gamma_train=  0.076  Accuracy_train =  1.0  Best Accuracy_train =  1.0 \n",
      "\n",
      "C=  51  Best C =  51  gamma =  0.07100000000000001  best_gamma=  0.006  Accuracy =  0.77799453765119  Best Accuracy =  0.8478345688646118 \n",
      "\n",
      "----------------------------------------------------------------\n",
      "C_train=  51  Best C_train =  26  gamma_train =  0.076  best_gamma_train=  0.076  Accuracy_train =  1.0  Best Accuracy_train =  1.0 \n",
      "\n",
      "C=  51  Best C =  51  gamma =  0.076  best_gamma=  0.006  Accuracy =  0.7705813499804917  Best Accuracy =  0.8478345688646118 \n",
      "\n",
      "----------------------------------------------------------------\n",
      "C_train=  51  Best C_train =  26  gamma_train =  0.081  best_gamma_train=  0.076  Accuracy_train =  1.0  Best Accuracy_train =  1.0 \n",
      "\n",
      "C=  51  Best C =  51  gamma =  0.081  best_gamma=  0.006  Accuracy =  0.7639484978540773  Best Accuracy =  0.8478345688646118 \n",
      "\n",
      "----------------------------------------------------------------\n",
      "C_train=  51  Best C_train =  26  gamma_train =  0.08600000000000001  best_gamma_train=  0.076  Accuracy_train =  1.0  Best Accuracy_train =  1.0 \n",
      "\n",
      "C=  51  Best C =  51  gamma =  0.08600000000000001  best_gamma=  0.006  Accuracy =  0.7580959812719469  Best Accuracy =  0.8478345688646118 \n",
      "\n",
      "----------------------------------------------------------------\n",
      "C_train=  51  Best C_train =  26  gamma_train =  0.091  best_gamma_train=  0.076  Accuracy_train =  1.0  Best Accuracy_train =  1.0 \n",
      "\n",
      "C=  51  Best C =  51  gamma =  0.091  best_gamma=  0.006  Accuracy =  0.7518532969176746  Best Accuracy =  0.8478345688646118 \n",
      "\n",
      "----------------------------------------------------------------\n",
      "C_train=  51  Best C_train =  26  gamma_train =  0.096  best_gamma_train=  0.076  Accuracy_train =  1.0  Best Accuracy_train =  1.0 \n",
      "\n",
      "C=  51  Best C =  51  gamma =  0.096  best_gamma=  0.006  Accuracy =  0.7487319547405384  Best Accuracy =  0.8478345688646118 \n",
      "\n",
      "----------------------------------------------------------------\n",
      "C_train=  76  Best C_train =  26  gamma_train =  0.001  best_gamma_train=  0.076  Accuracy_train =  0.8627374447046579  Best Accuracy_train =  1.0 \n",
      "\n",
      "C=  76  Best C =  51  gamma =  0.001  best_gamma=  0.006  Accuracy =  0.8181818181818182  Best Accuracy =  0.8478345688646118 \n",
      "\n",
      "----------------------------------------------------------------\n",
      "C_train=  76  Best C_train =  26  gamma_train =  0.006  best_gamma_train=  0.076  Accuracy_train =  0.9553734061930783  Best Accuracy_train =  1.0 \n",
      "\n",
      "C=  76  Best C =  51  gamma =  0.006  best_gamma=  0.006  Accuracy =  0.8466640655481857  Best Accuracy =  0.8478345688646118 \n",
      "\n",
      "----------------------------------------------------------------\n",
      "C_train=  76  Best C_train =  26  gamma_train =  0.011  best_gamma_train=  0.076  Accuracy_train =  0.9808743169398907  Best Accuracy_train =  1.0 \n",
      "\n",
      "C=  76  Best C =  51  gamma =  0.011  best_gamma=  0.006  Accuracy =  0.8458837300039017  Best Accuracy =  0.8478345688646118 \n",
      "\n",
      "----------------------------------------------------------------\n",
      "C_train=  76  Best C_train =  26  gamma_train =  0.016  best_gamma_train=  0.076  Accuracy_train =  0.9912828519385897  Best Accuracy_train =  1.0 \n",
      "\n",
      "C=  76  Best C =  51  gamma =  0.016  best_gamma=  0.006  Accuracy =  0.8466640655481857  Best Accuracy =  0.8478345688646118 \n",
      "\n",
      "----------------------------------------------------------------\n",
      "C_train=  76  Best C_train =  26  gamma_train =  0.021  best_gamma_train=  0.076  Accuracy_train =  0.9963570127504554  Best Accuracy_train =  1.0 \n",
      "\n",
      "C=  76  Best C =  51  gamma =  0.021  best_gamma=  0.006  Accuracy =  0.8373000390167772  Best Accuracy =  0.8478345688646118 \n",
      "\n",
      "----------------------------------------------------------------\n",
      "C_train=  76  Best C_train =  26  gamma_train =  0.026000000000000002  best_gamma_train=  0.076  Accuracy_train =  0.9988290398126464  Best Accuracy_train =  1.0 \n",
      "\n",
      "C=  76  Best C =  51  gamma =  0.026000000000000002  best_gamma=  0.006  Accuracy =  0.8318376902067889  Best Accuracy =  0.8478345688646118 \n",
      "\n",
      "----------------------------------------------------------------\n",
      "C_train=  76  Best C_train =  26  gamma_train =  0.031  best_gamma_train=  0.076  Accuracy_train =  0.9993494665625813  Best Accuracy_train =  1.0 \n",
      "\n",
      "C=  76  Best C =  51  gamma =  0.031  best_gamma=  0.006  Accuracy =  0.8267655091689426  Best Accuracy =  0.8478345688646118 \n",
      "\n",
      "----------------------------------------------------------------\n",
      "C_train=  76  Best C_train =  26  gamma_train =  0.036000000000000004  best_gamma_train=  0.076  Accuracy_train =  0.9998698933125163  Best Accuracy_train =  1.0 \n",
      "\n",
      "C=  76  Best C =  51  gamma =  0.036000000000000004  best_gamma=  0.006  Accuracy =  0.8228638314475224  Best Accuracy =  0.8478345688646118 \n",
      "\n",
      "----------------------------------------------------------------\n",
      "C_train=  76  Best C_train =  26  gamma_train =  0.041  best_gamma_train=  0.076  Accuracy_train =  1.0  Best Accuracy_train =  1.0 \n",
      "\n",
      "C=  76  Best C =  51  gamma =  0.041  best_gamma=  0.006  Accuracy =  0.815060476004682  Best Accuracy =  0.8478345688646118 \n",
      "\n",
      "----------------------------------------------------------------\n",
      "C_train=  76  Best C_train =  26  gamma_train =  0.046  best_gamma_train=  0.076  Accuracy_train =  1.0  Best Accuracy_train =  1.0 \n",
      "\n",
      "C=  76  Best C =  51  gamma =  0.046  best_gamma=  0.006  Accuracy =  0.8076472883339836  Best Accuracy =  0.8478345688646118 \n",
      "\n",
      "----------------------------------------------------------------\n",
      "C_train=  76  Best C_train =  26  gamma_train =  0.051000000000000004  best_gamma_train=  0.076  Accuracy_train =  1.0  Best Accuracy_train =  1.0 \n",
      "\n",
      "C=  76  Best C =  51  gamma =  0.051000000000000004  best_gamma=  0.006  Accuracy =  0.8006242684354272  Best Accuracy =  0.8478345688646118 \n",
      "\n",
      "----------------------------------------------------------------\n"
     ]
    },
    {
     "name": "stdout",
     "output_type": "stream",
     "text": [
      "C_train=  76  Best C_train =  26  gamma_train =  0.056  best_gamma_train=  0.076  Accuracy_train =  1.0  Best Accuracy_train =  1.0 \n",
      "\n",
      "C=  76  Best C =  51  gamma =  0.056  best_gamma=  0.006  Accuracy =  0.7932110807647288  Best Accuracy =  0.8478345688646118 \n",
      "\n",
      "----------------------------------------------------------------\n",
      "C_train=  76  Best C_train =  26  gamma_train =  0.061  best_gamma_train=  0.076  Accuracy_train =  1.0  Best Accuracy_train =  1.0 \n",
      "\n",
      "C=  76  Best C =  51  gamma =  0.061  best_gamma=  0.006  Accuracy =  0.7881388997268826  Best Accuracy =  0.8478345688646118 \n",
      "\n",
      "----------------------------------------------------------------\n",
      "C_train=  76  Best C_train =  26  gamma_train =  0.066  best_gamma_train=  0.076  Accuracy_train =  1.0  Best Accuracy_train =  1.0 \n",
      "\n",
      "C=  76  Best C =  51  gamma =  0.066  best_gamma=  0.006  Accuracy =  0.7846273897776044  Best Accuracy =  0.8478345688646118 \n",
      "\n",
      "----------------------------------------------------------------\n",
      "C_train=  76  Best C_train =  26  gamma_train =  0.07100000000000001  best_gamma_train=  0.076  Accuracy_train =  1.0  Best Accuracy_train =  1.0 \n",
      "\n",
      "C=  76  Best C =  51  gamma =  0.07100000000000001  best_gamma=  0.006  Accuracy =  0.77799453765119  Best Accuracy =  0.8478345688646118 \n",
      "\n",
      "----------------------------------------------------------------\n",
      "C_train=  76  Best C_train =  26  gamma_train =  0.076  best_gamma_train=  0.076  Accuracy_train =  1.0  Best Accuracy_train =  1.0 \n",
      "\n",
      "C=  76  Best C =  51  gamma =  0.076  best_gamma=  0.006  Accuracy =  0.7705813499804917  Best Accuracy =  0.8478345688646118 \n",
      "\n",
      "----------------------------------------------------------------\n",
      "C_train=  76  Best C_train =  26  gamma_train =  0.081  best_gamma_train=  0.076  Accuracy_train =  1.0  Best Accuracy_train =  1.0 \n",
      "\n",
      "C=  76  Best C =  51  gamma =  0.081  best_gamma=  0.006  Accuracy =  0.7639484978540773  Best Accuracy =  0.8478345688646118 \n",
      "\n",
      "----------------------------------------------------------------\n",
      "C_train=  76  Best C_train =  26  gamma_train =  0.08600000000000001  best_gamma_train=  0.076  Accuracy_train =  1.0  Best Accuracy_train =  1.0 \n",
      "\n",
      "C=  76  Best C =  51  gamma =  0.08600000000000001  best_gamma=  0.006  Accuracy =  0.7580959812719469  Best Accuracy =  0.8478345688646118 \n",
      "\n",
      "----------------------------------------------------------------\n",
      "C_train=  76  Best C_train =  26  gamma_train =  0.091  best_gamma_train=  0.076  Accuracy_train =  1.0  Best Accuracy_train =  1.0 \n",
      "\n",
      "C=  76  Best C =  51  gamma =  0.091  best_gamma=  0.006  Accuracy =  0.7518532969176746  Best Accuracy =  0.8478345688646118 \n",
      "\n",
      "----------------------------------------------------------------\n",
      "C_train=  76  Best C_train =  26  gamma_train =  0.096  best_gamma_train=  0.076  Accuracy_train =  1.0  Best Accuracy_train =  1.0 \n",
      "\n",
      "C=  76  Best C =  51  gamma =  0.096  best_gamma=  0.006  Accuracy =  0.7487319547405384  Best Accuracy =  0.8478345688646118 \n",
      "\n",
      "----------------------------------------------------------------\n",
      "C_train=  101  Best C_train =  26  gamma_train =  0.001  best_gamma_train=  0.076  Accuracy_train =  0.8717148061410357  Best Accuracy_train =  1.0 \n",
      "\n",
      "C=  101  Best C =  51  gamma =  0.001  best_gamma=  0.006  Accuracy =  0.8267655091689426  Best Accuracy =  0.8478345688646118 \n",
      "\n",
      "----------------------------------------------------------------\n",
      "C_train=  101  Best C_train =  26  gamma_train =  0.006  best_gamma_train=  0.076  Accuracy_train =  0.9626593806921676  Best Accuracy_train =  1.0 \n",
      "\n",
      "C=  101  Best C =  101  gamma =  0.006  best_gamma=  0.006  Accuracy =  0.8493952399531799  Best Accuracy =  0.8493952399531799 \n",
      "\n",
      "----------------------------------------------------------------\n",
      "C_train=  101  Best C_train =  26  gamma_train =  0.011  best_gamma_train=  0.076  Accuracy_train =  0.9843871975019516  Best Accuracy_train =  1.0 \n",
      "\n",
      "C=  101  Best C =  101  gamma =  0.011  best_gamma=  0.006  Accuracy =  0.8478345688646118  Best Accuracy =  0.8493952399531799 \n",
      "\n",
      "----------------------------------------------------------------\n",
      "C_train=  101  Best C_train =  26  gamma_train =  0.016  best_gamma_train=  0.076  Accuracy_train =  0.9944054124381994  Best Accuracy_train =  1.0 \n",
      "\n",
      "C=  101  Best C =  101  gamma =  0.016  best_gamma=  0.006  Accuracy =  0.8423722200546235  Best Accuracy =  0.8493952399531799 \n",
      "\n",
      "----------------------------------------------------------------\n",
      "C_train=  101  Best C_train =  26  gamma_train =  0.021  best_gamma_train=  0.076  Accuracy_train =  0.9981785063752276  Best Accuracy_train =  1.0 \n",
      "\n",
      "C=  101  Best C =  101  gamma =  0.021  best_gamma=  0.006  Accuracy =  0.8376902067889193  Best Accuracy =  0.8493952399531799 \n",
      "\n",
      "----------------------------------------------------------------\n",
      "C_train=  101  Best C_train =  26  gamma_train =  0.026000000000000002  best_gamma_train=  0.076  Accuracy_train =  0.9993494665625813  Best Accuracy_train =  1.0 \n",
      "\n",
      "C=  101  Best C =  101  gamma =  0.026000000000000002  best_gamma=  0.006  Accuracy =  0.8310573546625049  Best Accuracy =  0.8493952399531799 \n",
      "\n",
      "----------------------------------------------------------------\n",
      "C_train=  101  Best C_train =  26  gamma_train =  0.031  best_gamma_train=  0.076  Accuracy_train =  0.9998698933125163  Best Accuracy_train =  1.0 \n",
      "\n",
      "C=  101  Best C =  101  gamma =  0.031  best_gamma=  0.006  Accuracy =  0.8271556769410847  Best Accuracy =  0.8493952399531799 \n",
      "\n",
      "----------------------------------------------------------------\n",
      "C_train=  101  Best C_train =  26  gamma_train =  0.036000000000000004  best_gamma_train=  0.076  Accuracy_train =  1.0  Best Accuracy_train =  1.0 \n",
      "\n",
      "C=  101  Best C =  101  gamma =  0.036000000000000004  best_gamma=  0.006  Accuracy =  0.8213031603589543  Best Accuracy =  0.8493952399531799 \n",
      "\n",
      "----------------------------------------------------------------\n",
      "C_train=  101  Best C_train =  26  gamma_train =  0.041  best_gamma_train=  0.076  Accuracy_train =  1.0  Best Accuracy_train =  1.0 \n",
      "\n",
      "C=  101  Best C =  101  gamma =  0.041  best_gamma=  0.006  Accuracy =  0.815060476004682  Best Accuracy =  0.8493952399531799 \n",
      "\n",
      "----------------------------------------------------------------\n",
      "C_train=  101  Best C_train =  26  gamma_train =  0.046  best_gamma_train=  0.076  Accuracy_train =  1.0  Best Accuracy_train =  1.0 \n",
      "\n",
      "C=  101  Best C =  101  gamma =  0.046  best_gamma=  0.006  Accuracy =  0.8076472883339836  Best Accuracy =  0.8493952399531799 \n",
      "\n",
      "----------------------------------------------------------------\n",
      "C_train=  101  Best C_train =  26  gamma_train =  0.051000000000000004  best_gamma_train=  0.076  Accuracy_train =  1.0  Best Accuracy_train =  1.0 \n",
      "\n",
      "C=  101  Best C =  101  gamma =  0.051000000000000004  best_gamma=  0.006  Accuracy =  0.8006242684354272  Best Accuracy =  0.8493952399531799 \n",
      "\n",
      "----------------------------------------------------------------\n",
      "C_train=  101  Best C_train =  26  gamma_train =  0.056  best_gamma_train=  0.076  Accuracy_train =  1.0  Best Accuracy_train =  1.0 \n",
      "\n",
      "C=  101  Best C =  101  gamma =  0.056  best_gamma=  0.006  Accuracy =  0.7932110807647288  Best Accuracy =  0.8493952399531799 \n",
      "\n",
      "----------------------------------------------------------------\n",
      "C_train=  101  Best C_train =  26  gamma_train =  0.061  best_gamma_train=  0.076  Accuracy_train =  1.0  Best Accuracy_train =  1.0 \n",
      "\n",
      "C=  101  Best C =  101  gamma =  0.061  best_gamma=  0.006  Accuracy =  0.7881388997268826  Best Accuracy =  0.8493952399531799 \n",
      "\n",
      "----------------------------------------------------------------\n",
      "C_train=  101  Best C_train =  26  gamma_train =  0.066  best_gamma_train=  0.076  Accuracy_train =  1.0  Best Accuracy_train =  1.0 \n",
      "\n",
      "C=  101  Best C =  101  gamma =  0.066  best_gamma=  0.006  Accuracy =  0.7846273897776044  Best Accuracy =  0.8493952399531799 \n",
      "\n",
      "----------------------------------------------------------------\n",
      "C_train=  101  Best C_train =  26  gamma_train =  0.07100000000000001  best_gamma_train=  0.076  Accuracy_train =  1.0  Best Accuracy_train =  1.0 \n",
      "\n",
      "C=  101  Best C =  101  gamma =  0.07100000000000001  best_gamma=  0.006  Accuracy =  0.77799453765119  Best Accuracy =  0.8493952399531799 \n",
      "\n",
      "----------------------------------------------------------------\n",
      "C_train=  101  Best C_train =  26  gamma_train =  0.076  best_gamma_train=  0.076  Accuracy_train =  1.0  Best Accuracy_train =  1.0 \n",
      "\n",
      "C=  101  Best C =  101  gamma =  0.076  best_gamma=  0.006  Accuracy =  0.7705813499804917  Best Accuracy =  0.8493952399531799 \n",
      "\n",
      "----------------------------------------------------------------\n"
     ]
    },
    {
     "name": "stdout",
     "output_type": "stream",
     "text": [
      "C_train=  101  Best C_train =  26  gamma_train =  0.081  best_gamma_train=  0.076  Accuracy_train =  1.0  Best Accuracy_train =  1.0 \n",
      "\n",
      "C=  101  Best C =  101  gamma =  0.081  best_gamma=  0.006  Accuracy =  0.7639484978540773  Best Accuracy =  0.8493952399531799 \n",
      "\n",
      "----------------------------------------------------------------\n",
      "C_train=  101  Best C_train =  26  gamma_train =  0.08600000000000001  best_gamma_train=  0.076  Accuracy_train =  1.0  Best Accuracy_train =  1.0 \n",
      "\n",
      "C=  101  Best C =  101  gamma =  0.08600000000000001  best_gamma=  0.006  Accuracy =  0.7580959812719469  Best Accuracy =  0.8493952399531799 \n",
      "\n",
      "----------------------------------------------------------------\n",
      "C_train=  101  Best C_train =  26  gamma_train =  0.091  best_gamma_train=  0.076  Accuracy_train =  1.0  Best Accuracy_train =  1.0 \n",
      "\n",
      "C=  101  Best C =  101  gamma =  0.091  best_gamma=  0.006  Accuracy =  0.7518532969176746  Best Accuracy =  0.8493952399531799 \n",
      "\n",
      "----------------------------------------------------------------\n",
      "C_train=  101  Best C_train =  26  gamma_train =  0.096  best_gamma_train=  0.076  Accuracy_train =  1.0  Best Accuracy_train =  1.0 \n",
      "\n",
      "C=  101  Best C =  101  gamma =  0.096  best_gamma=  0.006  Accuracy =  0.7487319547405384  Best Accuracy =  0.8493952399531799 \n",
      "\n"
     ]
    }
   ],
   "source": [
    "classifiers = []\n",
    "\n",
    "Train_acc=[]\n",
    "Valid_acc=[]\n",
    "accuracy = -1\n",
    "accuracy_train = -1\n",
    "for C in np.arange(1,102,25):\n",
    "    for gamma in np.arange(0.001,0.1,0.005):\n",
    "        \n",
    "        clf = SVC(C=C, gamma=gamma)\n",
    "        print(\"----------------------------------------------------------------\")\n",
    "        clf.fit(X_train, y_train)\n",
    "        classifiers.append((C, gamma, clf))\n",
    "        y_pred = clf.predict(X_train)\n",
    "        acc_train =metrics.accuracy_score(y_train, y_pred)\n",
    "        Train_acc.append(acc_train)\n",
    "        y_pred = clf.predict(X_test)\n",
    "        acc=metrics.accuracy_score(y_test, y_pred)\n",
    "        Valid_acc.append(acc)\n",
    "        if (acc_train>accuracy_train):\n",
    "            \n",
    "            accuracy_train=acc_train\n",
    "            best_c_train = C\n",
    "            best_g_train=gamma\n",
    "        print(\"C_train= \",C,\" Best C_train = \",best_c_train,\" gamma_train = \",gamma,\" best_gamma_train= \",best_g_train,\" Accuracy_train = \",acc_train,\" Best Accuracy_train = \",accuracy_train,\"\\n\")\n",
    "\n",
    "        if (acc>accuracy):\n",
    "            accuracy=acc\n",
    "            best_c = C\n",
    "            best_g=gamma\n",
    "        \n",
    "        print(\"C= \",C,\" Best C = \",best_c,\" gamma = \",gamma,\" best_gamma= \",best_g,\" Accuracy = \",acc,\" Best Accuracy = \",accuracy,\"\\n\")\n",
    "        \n",
    "        "
   ]
  },
  {
   "cell_type": "code",
   "execution_count": 41,
   "metadata": {},
   "outputs": [],
   "source": [
    "clf = SVC(C=101,gamma=0.006,decision_function_shape='ovo')"
   ]
  },
  {
   "cell_type": "code",
   "execution_count": 42,
   "metadata": {},
   "outputs": [
    {
     "data": {
      "text/plain": [
       "SVC(C=101, cache_size=200, class_weight=None, coef0=0.0,\n",
       "    decision_function_shape='ovo', degree=3, gamma=0.006, kernel='rbf',\n",
       "    max_iter=-1, probability=False, random_state=None, shrinking=True,\n",
       "    tol=0.001, verbose=False)"
      ]
     },
     "execution_count": 42,
     "metadata": {},
     "output_type": "execute_result"
    }
   ],
   "source": [
    "clf.fit(X_train, y_train)"
   ]
  },
  {
   "cell_type": "code",
   "execution_count": 43,
   "metadata": {},
   "outputs": [],
   "source": [
    "y_pred = clf.predict(X_test)"
   ]
  },
  {
   "cell_type": "code",
   "execution_count": 44,
   "metadata": {},
   "outputs": [
    {
     "name": "stdout",
     "output_type": "stream",
     "text": [
      "Accuracy : 84.93952399531798\n"
     ]
    }
   ],
   "source": [
    "print(\"Accuracy :\",metrics.accuracy_score(y_pred, y_test)*100)"
   ]
  },
  {
   "cell_type": "code",
   "execution_count": 45,
   "metadata": {},
   "outputs": [
    {
     "name": "stdout",
     "output_type": "stream",
     "text": [
      "Cohen Kappa Score : 82.78018760255245\n"
     ]
    }
   ],
   "source": [
    "from sklearn.metrics import cohen_kappa_score\n",
    "print(\"Cohen Kappa Score :\",cohen_kappa_score(y_pred, y_test)*100)"
   ]
  },
  {
   "cell_type": "code",
   "execution_count": 48,
   "metadata": {},
   "outputs": [
    {
     "name": "stdout",
     "output_type": "stream",
     "text": [
      "[[  9   0   0   0   1   0   0   0   0   0   1   0   0   0   0   0]\n",
      " [  0 295   8   2   1   0   0   0   0  14  35   1   0   0   1   0]\n",
      " [  0  17 138   6   0   0   0   0   0   1  39   7   0   0   0   0]\n",
      " [  0   5   9  40   0   1   0   1   0   1   2   0   0   0   0   0]\n",
      " [  0   1   0   3 110   0   1   0   0   0   2   1   0   1   2   0]\n",
      " [  0   0   0   0   1 170   0   0   0   2   0   0   0   0  10   0]\n",
      " [  0   0   0   0   0   0   6   1   0   0   0   0   0   0   0   0]\n",
      " [  0   0   0   0   0   0   0 120   0   0   0   0   0   0   0   0]\n",
      " [  0   0   0   0   0   1   0   0   4   0   0   0   0   0   0   0]\n",
      " [  0  10  11   0   0   0   0   0   0 190  30   2   0   0   0   0]\n",
      " [  0  28  14   2   1   0   1   0   0  31 532   5   0   0   0   0]\n",
      " [  0   3   9   2   1   0   0   0   0   4   5 124   0   0   0   0]\n",
      " [  0   0   0   0   0   0   0   0   0   0   0   0  51   0   0   0]\n",
      " [  0   0   0   0   3   0   0   0   0   0   0   0   1 301  11   0]\n",
      " [  0   1   1   1   3   5   0   0   0   0   1   0   1  20  64   0]\n",
      " [  0   0   0   0   0   0   0   0   0   0   0   0   0   0   0  23]]\n"
     ]
    }
   ],
   "source": [
    "from sklearn.metrics import confusion_matrix,classification_report\n",
    "mat = confusion_matrix(y_pred, y_test)\n",
    "pd.DataFrame(mat)\n",
    "print(confusion_matrix(y_test, y_pred ))\n",
    "#print(classification_report(y_test, y_pred ))"
   ]
  },
  {
   "cell_type": "code",
   "execution_count": 49,
   "metadata": {},
   "outputs": [
    {
     "name": "stdout",
     "output_type": "stream",
     "text": [
      "              precision    recall  f1-score   support\n",
      "\n",
      "           1       1.00      0.82      0.90        11\n",
      "           2       0.82      0.83      0.82       357\n",
      "           3       0.73      0.66      0.69       208\n",
      "           4       0.71      0.68      0.70        59\n",
      "           5       0.91      0.91      0.91       121\n",
      "           6       0.96      0.93      0.94       183\n",
      "           7       0.75      0.86      0.80         7\n",
      "           8       0.98      1.00      0.99       120\n",
      "           9       1.00      0.80      0.89         5\n",
      "          10       0.78      0.78      0.78       243\n",
      "          11       0.82      0.87      0.84       614\n",
      "          12       0.89      0.84      0.86       148\n",
      "          13       0.96      1.00      0.98        51\n",
      "          14       0.93      0.95      0.94       316\n",
      "          15       0.73      0.66      0.69        97\n",
      "          16       1.00      1.00      1.00        23\n",
      "\n",
      "    accuracy                           0.85      2563\n",
      "   macro avg       0.87      0.85      0.86      2563\n",
      "weighted avg       0.85      0.85      0.85      2563\n",
      "\n"
     ]
    }
   ],
   "source": [
    "print(classification_report(y_test, y_pred ))"
   ]
  },
  {
   "cell_type": "code",
   "execution_count": null,
   "metadata": {},
   "outputs": [],
   "source": []
  }
 ],
 "metadata": {
  "kernelspec": {
   "display_name": "Python 3",
   "language": "python",
   "name": "python3"
  },
  "language_info": {
   "codemirror_mode": {
    "name": "ipython",
    "version": 3
   },
   "file_extension": ".py",
   "mimetype": "text/x-python",
   "name": "python",
   "nbconvert_exporter": "python",
   "pygments_lexer": "ipython3",
   "version": "3.7.4"
  }
 },
 "nbformat": 4,
 "nbformat_minor": 2
}
