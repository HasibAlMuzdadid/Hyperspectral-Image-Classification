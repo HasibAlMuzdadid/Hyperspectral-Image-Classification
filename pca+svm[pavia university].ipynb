{
 "cells": [
  {
   "cell_type": "code",
   "execution_count": 1,
   "metadata": {},
   "outputs": [],
   "source": [
    "import numpy as np\n",
    "import matplotlib.pyplot as plt\n",
    "import pandas as pd\n",
    "from sklearn import decomposition\n",
    "from sklearn.preprocessing import MinMaxScaler\n",
    "from sklearn.decomposition import PCA\n",
    "import seaborn as sns\n",
    "from scipy.io import loadmat"
   ]
  },
  {
   "cell_type": "code",
   "execution_count": 2,
   "metadata": {},
   "outputs": [],
   "source": [
    "X = loadmat('PaviaU.mat')['paviaU']\n",
    "y = loadmat('PaviaU_gt.mat')['paviaU_gt']"
   ]
  },
  {
   "cell_type": "code",
   "execution_count": 3,
   "metadata": {},
   "outputs": [
    {
     "name": "stdout",
     "output_type": "stream",
     "text": [
      "X: (610, 340, 103)\n",
      "y: (610, 340)\n"
     ]
    }
   ],
   "source": [
    "print(\"X:\", (X.shape))\n",
    "print(\"y:\", (y.shape))"
   ]
  },
  {
   "cell_type": "code",
   "execution_count": 4,
   "metadata": {},
   "outputs": [
    {
     "data": {
      "text/plain": [
       "array([0, 1, 2, 3, 4, 5, 6, 7, 8, 9], dtype=uint8)"
      ]
     },
     "execution_count": 4,
     "metadata": {},
     "output_type": "execute_result"
    }
   ],
   "source": [
    "np.unique(y)"
   ]
  },
  {
   "cell_type": "code",
   "execution_count": 5,
   "metadata": {},
   "outputs": [
    {
     "data": {
      "image/png": "[encoded data removed]",
      "text/plain": [
       "<Figure size 720x720 with 2 Axes>"
      ]
     },
     "metadata": {
      "needs_background": "light"
     },
     "output_type": "display_data"
    }
   ],
   "source": [
    "plt.figure(figsize=(10, 10))\n",
    "plt.imshow(y, cmap='jet')\n",
    "plt.colorbar()\n",
    "plt.axis('off')\n",
    "plt.title('Ground Truth')\n",
    "plt.gca().legend(['0', '1', '2', '3', '4', '5', '6', '7', '8', '9'], loc='upper left')\n",
    "#plt.savefig('ground_truth.png')\n",
    "plt.show()"
   ]
  },
  {
   "cell_type": "code",
   "execution_count": 6,
   "metadata": {},
   "outputs": [],
   "source": [
    "X = X.reshape(X.shape[0]*X.shape[1], X.shape[2])"
   ]
  },
  {
   "cell_type": "code",
   "execution_count": 7,
   "metadata": {},
   "outputs": [],
   "source": [
    "y = y.ravel()"
   ]
  },
  {
   "cell_type": "code",
   "execution_count": 8,
   "metadata": {},
   "outputs": [
    {
     "name": "stdout",
     "output_type": "stream",
     "text": [
      "X: (207400, 103)\n",
      "y: (207400,)\n"
     ]
    }
   ],
   "source": [
    "print(\"X:\", (X.shape))\n",
    "print(\"y:\", (y.shape))"
   ]
  },
  {
   "cell_type": "code",
   "execution_count": 9,
   "metadata": {},
   "outputs": [
    {
     "name": "stdout",
     "output_type": "stream",
     "text": [
      "[0 1 2 3 4 5 6 7 8 9]\n",
      "[164624   6631  18649   2099   3064   1345   5029   1330   3682    947]\n"
     ]
    }
   ],
   "source": [
    "label,counts=np.unique(y,return_counts=True)\n",
    "print(label)\n",
    "print(counts)"
   ]
  },
  {
   "cell_type": "code",
   "execution_count": 10,
   "metadata": {},
   "outputs": [],
   "source": [
    "# Standardizing the features\n",
    "from sklearn.preprocessing import StandardScaler\n",
    "scaler_model = StandardScaler()\n",
    "scaler_model.fit(X.astype(float))\n",
    "X=scaler_model.transform(X)"
   ]
  },
  {
   "cell_type": "code",
   "execution_count": 11,
   "metadata": {},
   "outputs": [
    {
     "name": "stdout",
     "output_type": "stream",
     "text": [
      "X: (207400, 103)\n"
     ]
    }
   ],
   "source": [
    "print(\"X:\", (X.shape))"
   ]
  },
  {
   "cell_type": "code",
   "execution_count": 12,
   "metadata": {},
   "outputs": [],
   "source": [
    "X = (X[y>0,:])\n",
    "Y = (y[y>0])"
   ]
  },
  {
   "cell_type": "code",
   "execution_count": 13,
   "metadata": {},
   "outputs": [
    {
     "name": "stdout",
     "output_type": "stream",
     "text": [
      "(42776, 103)\n",
      "(42776,)\n"
     ]
    }
   ],
   "source": [
    "print(X.shape)\n",
    "print(Y.shape)"
   ]
  },
  {
   "cell_type": "code",
   "execution_count": 14,
   "metadata": {},
   "outputs": [],
   "source": [
    "pca = PCA(n_components=0.998)"
   ]
  },
  {
   "cell_type": "code",
   "execution_count": 15,
   "metadata": {},
   "outputs": [],
   "source": [
    "X = pca.fit_transform(X)\n"
   ]
  },
  {
   "cell_type": "code",
   "execution_count": 16,
   "metadata": {},
   "outputs": [
    {
     "data": {
      "text/plain": [
       "array([0.6522034 , 0.93150029, 0.98759194, 0.99201315, 0.99462326,\n",
       "       0.99605318, 0.99714842, 0.99783991, 0.9982363 ])"
      ]
     },
     "execution_count": 16,
     "metadata": {},
     "output_type": "execute_result"
    }
   ],
   "source": [
    "np.cumsum(pca.explained_variance_ratio_)"
   ]
  },
  {
   "cell_type": "code",
   "execution_count": 17,
   "metadata": {},
   "outputs": [
    {
     "name": "stdout",
     "output_type": "stream",
     "text": [
      "(42776, 9)\n",
      "9\n"
     ]
    }
   ],
   "source": [
    "print(X.shape)\n",
    "print(pca.n_components_)"
   ]
  },
  {
   "cell_type": "code",
   "execution_count": 18,
   "metadata": {},
   "outputs": [],
   "source": [
    "from sklearn.model_selection import train_test_split\n",
    "X_train, X_test, y_train, y_test = train_test_split(X, Y, random_state = 10, test_size = 0.25, stratify=Y )"
   ]
  },
  {
   "cell_type": "code",
   "execution_count": 19,
   "metadata": {},
   "outputs": [
    {
     "name": "stdout",
     "output_type": "stream",
     "text": [
      "(32082, 9)\n",
      "(10694, 9)\n"
     ]
    }
   ],
   "source": [
    "print(X_train.shape)\n",
    "print(X_test.shape)"
   ]
  },
  {
   "cell_type": "code",
   "execution_count": 20,
   "metadata": {},
   "outputs": [
    {
     "name": "stdout",
     "output_type": "stream",
     "text": [
      "       0\n",
      "1   4973\n",
      "2  13987\n",
      "3   1574\n",
      "4   2298\n",
      "5   1009\n",
      "6   3772\n",
      "7    997\n",
      "8   2762\n",
      "9    710\n",
      "      0\n",
      "1  1658\n",
      "2  4662\n",
      "3   525\n",
      "4   766\n",
      "5   336\n",
      "6  1257\n",
      "7   333\n",
      "8   920\n",
      "9   237\n"
     ]
    }
   ],
   "source": [
    "label_tr,counts_tr=np.unique(y_train,return_counts=True)\n",
    "label_te,counts_te=np.unique(y_test,return_counts=True)\n",
    "print(pd.DataFrame(counts_tr,label_tr))\n",
    "print(pd.DataFrame(counts_te,label_te))"
   ]
  },
  {
   "cell_type": "code",
   "execution_count": 21,
   "metadata": {},
   "outputs": [],
   "source": [
    "#Applying Scalar to train and test Dataset\n",
    "\n",
    "from sklearn import preprocessing\n",
    "scaler = preprocessing.StandardScaler().fit(X_train) \n",
    "X_train= scaler.transform(X_train)\n",
    "X_test=scaler.transform(X_test)"
   ]
  },
  {
   "cell_type": "code",
   "execution_count": 34,
   "metadata": {},
   "outputs": [
    {
     "name": "stdout",
     "output_type": "stream",
     "text": [
      "9\n"
     ]
    },
    {
     "data": {
      "image/png": "[encoded data removed]",
      "text/plain": [
       "<Figure size 432x288 with 1 Axes>"
      ]
     },
     "metadata": {
      "needs_background": "light"
     },
     "output_type": "display_data"
    }
   ],
   "source": [
    "print(pca.n_components_)\n",
    "plt.figure()\n",
    "plt.plot(np.cumsum(pca.explained_variance_ratio_))\n",
    "plt.xlabel('Number of Components')\n",
    "plt.ylabel('Cumulative Variance') #for each component\n",
    "#plt.title('Inidian_pines Dataset Explained Variance')\n",
    "plt.savefig('Pavia_University_Explainedvariance_Final')\n",
    "plt.show()"
   ]
  },
  {
   "cell_type": "code",
   "execution_count": 23,
   "metadata": {},
   "outputs": [],
   "source": [
    "#Appplying SVM \n",
    "\n",
    "from sklearn.svm import SVC"
   ]
  },
  {
   "cell_type": "code",
   "execution_count": 24,
   "metadata": {},
   "outputs": [],
   "source": [
    "from sklearn import metrics"
   ]
  },
  {
   "cell_type": "code",
   "execution_count": 25,
   "metadata": {},
   "outputs": [
    {
     "name": "stdout",
     "output_type": "stream",
     "text": [
      "----------------------------------------------------------------\n",
      "C_train=  1  Best C_train =  1  gamma_train =  0.001  best_gamma_train=  0.001  Accuracy_train =  0.7917523845146811  Best Accuracy_train =  0.7917523845146811 \n",
      "\n",
      "C=  1  Best C =  1  gamma =  0.001  best_gamma=  0.001  Accuracy =  0.7877314381896391  Best Accuracy =  0.7877314381896391 \n",
      "\n",
      "----------------------------------------------------------------\n",
      "C_train=  1  Best C_train =  1  gamma_train =  0.006  best_gamma_train=  0.006  Accuracy_train =  0.833800885231594  Best Accuracy_train =  0.833800885231594 \n",
      "\n",
      "C=  1  Best C =  1  gamma =  0.006  best_gamma=  0.006  Accuracy =  0.8289695156162334  Best Accuracy =  0.8289695156162334 \n",
      "\n",
      "----------------------------------------------------------------\n",
      "C_train=  1  Best C_train =  1  gamma_train =  0.011  best_gamma_train=  0.011  Accuracy_train =  0.8436506452216196  Best Accuracy_train =  0.8436506452216196 \n",
      "\n",
      "C=  1  Best C =  1  gamma =  0.011  best_gamma=  0.011  Accuracy =  0.840564802693099  Best Accuracy =  0.840564802693099 \n",
      "\n",
      "----------------------------------------------------------------\n",
      "C_train=  1  Best C_train =  1  gamma_train =  0.016  best_gamma_train=  0.016  Accuracy_train =  0.8489495667352409  Best Accuracy_train =  0.8489495667352409 \n",
      "\n",
      "C=  1  Best C =  1  gamma =  0.016  best_gamma=  0.016  Accuracy =  0.8471105292687489  Best Accuracy =  0.8471105292687489 \n",
      "\n",
      "----------------------------------------------------------------\n",
      "C_train=  1  Best C_train =  1  gamma_train =  0.021  best_gamma_train=  0.021  Accuracy_train =  0.8542173181223116  Best Accuracy_train =  0.8542173181223116 \n",
      "\n",
      "C=  1  Best C =  1  gamma =  0.021  best_gamma=  0.021  Accuracy =  0.852534131288573  Best Accuracy =  0.852534131288573 \n",
      "\n",
      "----------------------------------------------------------------\n",
      "C_train=  1  Best C_train =  1  gamma_train =  0.026000000000000002  best_gamma_train=  0.026000000000000002  Accuracy_train =  0.8619475095068886  Best Accuracy_train =  0.8619475095068886 \n",
      "\n",
      "C=  1  Best C =  1  gamma =  0.026000000000000002  best_gamma=  0.026000000000000002  Accuracy =  0.8602954927997007  Best Accuracy =  0.8602954927997007 \n",
      "\n",
      "----------------------------------------------------------------\n",
      "C_train=  1  Best C_train =  1  gamma_train =  0.031  best_gamma_train=  0.031  Accuracy_train =  0.8686179165887413  Best Accuracy_train =  0.8686179165887413 \n",
      "\n",
      "C=  1  Best C =  1  gamma =  0.031  best_gamma=  0.031  Accuracy =  0.8667477089956985  Best Accuracy =  0.8667477089956985 \n",
      "\n",
      "----------------------------------------------------------------\n",
      "C_train=  1  Best C_train =  1  gamma_train =  0.036000000000000004  best_gamma_train=  0.036000000000000004  Accuracy_train =  0.8729505641792906  Best Accuracy_train =  0.8729505641792906 \n",
      "\n",
      "C=  1  Best C =  1  gamma =  0.036000000000000004  best_gamma=  0.036000000000000004  Accuracy =  0.8700205722835235  Best Accuracy =  0.8700205722835235 \n",
      "\n",
      "----------------------------------------------------------------\n",
      "C_train=  1  Best C_train =  1  gamma_train =  0.041  best_gamma_train=  0.041  Accuracy_train =  0.876067576834362  Best Accuracy_train =  0.876067576834362 \n",
      "\n",
      "C=  1  Best C =  1  gamma =  0.041  best_gamma=  0.041  Accuracy =  0.873012904432392  Best Accuracy =  0.873012904432392 \n",
      "\n",
      "----------------------------------------------------------------\n",
      "C_train=  1  Best C_train =  1  gamma_train =  0.046  best_gamma_train=  0.046  Accuracy_train =  0.8784988467053176  Best Accuracy_train =  0.8784988467053176 \n",
      "\n",
      "C=  1  Best C =  1  gamma =  0.046  best_gamma=  0.046  Accuracy =  0.875631195062652  Best Accuracy =  0.875631195062652 \n",
      "\n",
      "----------------------------------------------------------------\n",
      "C_train=  1  Best C_train =  1  gamma_train =  0.051000000000000004  best_gamma_train=  0.051000000000000004  Accuracy_train =  0.8802132036656068  Best Accuracy_train =  0.8802132036656068 \n",
      "\n",
      "C=  1  Best C =  1  gamma =  0.051000000000000004  best_gamma=  0.051000000000000004  Accuracy =  0.8767533196184777  Best Accuracy =  0.8767533196184777 \n",
      "\n",
      "----------------------------------------------------------------\n",
      "C_train=  1  Best C_train =  1  gamma_train =  0.056  best_gamma_train=  0.056  Accuracy_train =  0.8821145813852004  Best Accuracy_train =  0.8821145813852004 \n",
      "\n",
      "C=  1  Best C =  1  gamma =  0.056  best_gamma=  0.056  Accuracy =  0.8779689545539555  Best Accuracy =  0.8779689545539555 \n",
      "\n",
      "----------------------------------------------------------------\n",
      "C_train=  1  Best C_train =  1  gamma_train =  0.061  best_gamma_train=  0.061  Accuracy_train =  0.8833925565737797  Best Accuracy_train =  0.8833925565737797 \n",
      "\n",
      "C=  1  Best C =  1  gamma =  0.061  best_gamma=  0.061  Accuracy =  0.8799326725266504  Best Accuracy =  0.8799326725266504 \n",
      "\n",
      "----------------------------------------------------------------\n",
      "C_train=  1  Best C_train =  1  gamma_train =  0.066  best_gamma_train=  0.066  Accuracy_train =  0.8840471292313447  Best Accuracy_train =  0.8840471292313447 \n",
      "\n",
      "C=  1  Best C =  1  gamma =  0.066  best_gamma=  0.061  Accuracy =  0.878997568730129  Best Accuracy =  0.8799326725266504 \n",
      "\n",
      "----------------------------------------------------------------\n",
      "C_train=  1  Best C_train =  1  gamma_train =  0.07100000000000001  best_gamma_train=  0.07100000000000001  Accuracy_train =  0.8845458512561561  Best Accuracy_train =  0.8845458512561561 \n",
      "\n",
      "C=  1  Best C =  1  gamma =  0.07100000000000001  best_gamma=  0.07100000000000001  Accuracy =  0.8803067140452591  Best Accuracy =  0.8803067140452591 \n",
      "\n",
      "----------------------------------------------------------------\n",
      "C_train=  1  Best C_train =  1  gamma_train =  0.076  best_gamma_train=  0.076  Accuracy_train =  0.8854186147995761  Best Accuracy_train =  0.8854186147995761 \n",
      "\n",
      "C=  1  Best C =  1  gamma =  0.076  best_gamma=  0.076  Accuracy =  0.8807742659435197  Best Accuracy =  0.8807742659435197 \n",
      "\n",
      "----------------------------------------------------------------\n",
      "C_train=  1  Best C_train =  1  gamma_train =  0.081  best_gamma_train=  0.081  Accuracy_train =  0.8865407393554018  Best Accuracy_train =  0.8865407393554018 \n",
      "\n",
      "C=  1  Best C =  1  gamma =  0.081  best_gamma=  0.081  Accuracy =  0.880961286702824  Best Accuracy =  0.880961286702824 \n",
      "\n",
      "----------------------------------------------------------------\n",
      "C_train=  1  Best C_train =  1  gamma_train =  0.08600000000000001  best_gamma_train=  0.08600000000000001  Accuracy_train =  0.8877252041643289  Best Accuracy_train =  0.8877252041643289 \n",
      "\n",
      "C=  1  Best C =  1  gamma =  0.08600000000000001  best_gamma=  0.08600000000000001  Accuracy =  0.8815223489807369  Best Accuracy =  0.8815223489807369 \n",
      "\n",
      "----------------------------------------------------------------\n",
      "C_train=  1  Best C_train =  1  gamma_train =  0.091  best_gamma_train=  0.091  Accuracy_train =  0.8884732872015461  Best Accuracy_train =  0.8884732872015461 \n",
      "\n",
      "C=  1  Best C =  1  gamma =  0.091  best_gamma=  0.091  Accuracy =  0.8818028801196933  Best Accuracy =  0.8818028801196933 \n",
      "\n",
      "----------------------------------------------------------------\n",
      "C_train=  1  Best C_train =  1  gamma_train =  0.096  best_gamma_train=  0.096  Accuracy_train =  0.8893148806184153  Best Accuracy_train =  0.8893148806184153 \n",
      "\n",
      "C=  1  Best C =  1  gamma =  0.096  best_gamma=  0.096  Accuracy =  0.8830185150551711  Best Accuracy =  0.8830185150551711 \n",
      "\n",
      "----------------------------------------------------------------\n",
      "C_train=  26  Best C_train =  1  gamma_train =  0.001  best_gamma_train=  0.096  Accuracy_train =  0.8447415996508946  Best Accuracy_train =  0.8893148806184153 \n",
      "\n",
      "C=  26  Best C =  1  gamma =  0.001  best_gamma=  0.096  Accuracy =  0.841312885730316  Best Accuracy =  0.8830185150551711 \n",
      "\n",
      "----------------------------------------------------------------\n",
      "C_train=  26  Best C_train =  1  gamma_train =  0.006  best_gamma_train=  0.096  Accuracy_train =  0.8810547970824761  Best Accuracy_train =  0.8893148806184153 \n",
      "\n",
      "C=  26  Best C =  1  gamma =  0.006  best_gamma=  0.096  Accuracy =  0.8779689545539555  Best Accuracy =  0.8830185150551711 \n",
      "\n",
      "----------------------------------------------------------------\n",
      "C_train=  26  Best C_train =  1  gamma_train =  0.011  best_gamma_train=  0.096  Accuracy_train =  0.8885667975811982  Best Accuracy_train =  0.8893148806184153 \n",
      "\n",
      "C=  26  Best C =  26  gamma =  0.011  best_gamma=  0.011  Accuracy =  0.8843276603703011  Best Accuracy =  0.8843276603703011 \n",
      "\n",
      "----------------------------------------------------------------\n"
     ]
    },
    {
     "name": "stdout",
     "output_type": "stream",
     "text": [
      "C_train=  26  Best C_train =  26  gamma_train =  0.016  best_gamma_train=  0.016  Accuracy_train =  0.8925565737796896  Best Accuracy_train =  0.8925565737796896 \n",
      "\n",
      "C=  26  Best C =  26  gamma =  0.016  best_gamma=  0.016  Accuracy =  0.8885356274546474  Best Accuracy =  0.8885356274546474 \n",
      "\n",
      "----------------------------------------------------------------\n",
      "C_train=  26  Best C_train =  26  gamma_train =  0.021  best_gamma_train=  0.021  Accuracy_train =  0.8956424163082102  Best Accuracy_train =  0.8956424163082102 \n",
      "\n",
      "C=  26  Best C =  26  gamma =  0.021  best_gamma=  0.021  Accuracy =  0.8917149803628203  Best Accuracy =  0.8917149803628203 \n",
      "\n",
      "----------------------------------------------------------------\n",
      "C_train=  26  Best C_train =  26  gamma_train =  0.026000000000000002  best_gamma_train=  0.026000000000000002  Accuracy_train =  0.8986970887101802  Best Accuracy_train =  0.8986970887101802 \n",
      "\n",
      "C=  26  Best C =  26  gamma =  0.026000000000000002  best_gamma=  0.026000000000000002  Accuracy =  0.8923695530203852  Best Accuracy =  0.8923695530203852 \n",
      "\n",
      "----------------------------------------------------------------\n",
      "C_train=  26  Best C_train =  26  gamma_train =  0.031  best_gamma_train=  0.031  Accuracy_train =  0.9016270806059472  Best Accuracy_train =  0.9016270806059472 \n",
      "\n",
      "C=  26  Best C =  26  gamma =  0.031  best_gamma=  0.031  Accuracy =  0.8933046568169066  Best Accuracy =  0.8933046568169066 \n",
      "\n",
      "----------------------------------------------------------------\n",
      "C_train=  26  Best C_train =  26  gamma_train =  0.036000000000000004  best_gamma_train=  0.036000000000000004  Accuracy_train =  0.9035907985786422  Best Accuracy_train =  0.9035907985786422 \n",
      "\n",
      "C=  26  Best C =  26  gamma =  0.036000000000000004  best_gamma=  0.031  Accuracy =  0.8933046568169066  Best Accuracy =  0.8933046568169066 \n",
      "\n",
      "----------------------------------------------------------------\n",
      "C_train=  26  Best C_train =  26  gamma_train =  0.041  best_gamma_train=  0.041  Accuracy_train =  0.9049622841468736  Best Accuracy_train =  0.9049622841468736 \n",
      "\n",
      "C=  26  Best C =  26  gamma =  0.041  best_gamma=  0.041  Accuracy =  0.895455395548906  Best Accuracy =  0.895455395548906 \n",
      "\n",
      "----------------------------------------------------------------\n",
      "C_train=  26  Best C_train =  26  gamma_train =  0.046  best_gamma_train=  0.046  Accuracy_train =  0.9058662178168443  Best Accuracy_train =  0.9058662178168443 \n",
      "\n",
      "C=  26  Best C =  26  gamma =  0.046  best_gamma=  0.046  Accuracy =  0.8975126239012531  Best Accuracy =  0.8975126239012531 \n",
      "\n",
      "----------------------------------------------------------------\n",
      "C_train=  26  Best C_train =  26  gamma_train =  0.051000000000000004  best_gamma_train=  0.051000000000000004  Accuracy_train =  0.9074870643974815  Best Accuracy_train =  0.9074870643974815 \n",
      "\n",
      "C=  26  Best C =  26  gamma =  0.051000000000000004  best_gamma=  0.051000000000000004  Accuracy =  0.898167196558818  Best Accuracy =  0.898167196558818 \n",
      "\n",
      "----------------------------------------------------------------\n",
      "C_train=  26  Best C_train =  26  gamma_train =  0.056  best_gamma_train=  0.056  Accuracy_train =  0.9092637616108722  Best Accuracy_train =  0.9092637616108722 \n",
      "\n",
      "C=  26  Best C =  26  gamma =  0.056  best_gamma=  0.056  Accuracy =  0.8991958107349916  Best Accuracy =  0.8991958107349916 \n",
      "\n",
      "----------------------------------------------------------------\n",
      "C_train=  26  Best C_train =  26  gamma_train =  0.061  best_gamma_train=  0.061  Accuracy_train =  0.9105105666729006  Best Accuracy_train =  0.9105105666729006 \n",
      "\n",
      "C=  26  Best C =  26  gamma =  0.061  best_gamma=  0.061  Accuracy =  0.9005984664297737  Best Accuracy =  0.9005984664297737 \n",
      "\n",
      "----------------------------------------------------------------\n",
      "C_train=  26  Best C_train =  26  gamma_train =  0.066  best_gamma_train=  0.066  Accuracy_train =  0.9117262016083786  Best Accuracy_train =  0.9117262016083786 \n",
      "\n",
      "C=  26  Best C =  26  gamma =  0.066  best_gamma=  0.066  Accuracy =  0.9018141013652515  Best Accuracy =  0.9018141013652515 \n",
      "\n",
      "----------------------------------------------------------------\n",
      "C_train=  26  Best C_train =  26  gamma_train =  0.07100000000000001  best_gamma_train=  0.07100000000000001  Accuracy_train =  0.9134717286952185  Best Accuracy_train =  0.9134717286952185 \n",
      "\n",
      "C=  26  Best C =  26  gamma =  0.07100000000000001  best_gamma=  0.066  Accuracy =  0.9016270806059472  Best Accuracy =  0.9018141013652515 \n",
      "\n",
      "----------------------------------------------------------------\n",
      "C_train=  26  Best C_train =  26  gamma_train =  0.076  best_gamma_train=  0.076  Accuracy_train =  0.9145626831244935  Best Accuracy_train =  0.9145626831244935 \n",
      "\n",
      "C=  26  Best C =  26  gamma =  0.076  best_gamma=  0.066  Accuracy =  0.9016270806059472  Best Accuracy =  0.9018141013652515 \n",
      "\n",
      "----------------------------------------------------------------\n",
      "C_train=  26  Best C_train =  26  gamma_train =  0.081  best_gamma_train=  0.081  Accuracy_train =  0.9155601271741163  Best Accuracy_train =  0.9155601271741163 \n",
      "\n",
      "C=  26  Best C =  26  gamma =  0.081  best_gamma=  0.066  Accuracy =  0.901440059846643  Best Accuracy =  0.9018141013652515 \n",
      "\n",
      "----------------------------------------------------------------\n",
      "C_train=  26  Best C_train =  26  gamma_train =  0.08600000000000001  best_gamma_train=  0.08600000000000001  Accuracy_train =  0.916682251729942  Best Accuracy_train =  0.916682251729942 \n",
      "\n",
      "C=  26  Best C =  26  gamma =  0.08600000000000001  best_gamma=  0.066  Accuracy =  0.9016270806059472  Best Accuracy =  0.9018141013652515 \n",
      "\n",
      "----------------------------------------------------------------\n",
      "C_train=  26  Best C_train =  26  gamma_train =  0.091  best_gamma_train=  0.091  Accuracy_train =  0.917336824387507  Best Accuracy_train =  0.917336824387507 \n",
      "\n",
      "C=  26  Best C =  26  gamma =  0.091  best_gamma=  0.091  Accuracy =  0.9019076117449036  Best Accuracy =  0.9019076117449036 \n",
      "\n",
      "----------------------------------------------------------------\n",
      "C_train=  26  Best C_train =  26  gamma_train =  0.096  best_gamma_train=  0.096  Accuracy_train =  0.9183342684371298  Best Accuracy_train =  0.9183342684371298 \n",
      "\n",
      "C=  26  Best C =  26  gamma =  0.096  best_gamma=  0.091  Accuracy =  0.9009725079483822  Best Accuracy =  0.9019076117449036 \n",
      "\n",
      "----------------------------------------------------------------\n",
      "C_train=  51  Best C_train =  26  gamma_train =  0.001  best_gamma_train=  0.096  Accuracy_train =  0.8517237079982545  Best Accuracy_train =  0.9183342684371298 \n",
      "\n",
      "C=  51  Best C =  26  gamma =  0.001  best_gamma=  0.091  Accuracy =  0.8483261642042267  Best Accuracy =  0.9019076117449036 \n",
      "\n",
      "----------------------------------------------------------------\n",
      "C_train=  51  Best C_train =  26  gamma_train =  0.006  best_gamma_train=  0.096  Accuracy_train =  0.8857303160650832  Best Accuracy_train =  0.9183342684371298 \n",
      "\n",
      "C=  51  Best C =  26  gamma =  0.006  best_gamma=  0.091  Accuracy =  0.8824574527772583  Best Accuracy =  0.9019076117449036 \n",
      "\n",
      "----------------------------------------------------------------\n",
      "C_train=  51  Best C_train =  26  gamma_train =  0.011  best_gamma_train=  0.096  Accuracy_train =  0.8922448725141824  Best Accuracy_train =  0.9183342684371298 \n",
      "\n",
      "C=  51  Best C =  26  gamma =  0.011  best_gamma=  0.091  Accuracy =  0.8885356274546474  Best Accuracy =  0.9019076117449036 \n",
      "\n",
      "----------------------------------------------------------------\n",
      "C_train=  51  Best C_train =  26  gamma_train =  0.016  best_gamma_train=  0.096  Accuracy_train =  0.8963593292188766  Best Accuracy_train =  0.9183342684371298 \n",
      "\n",
      "C=  51  Best C =  26  gamma =  0.016  best_gamma=  0.091  Accuracy =  0.8919020011221246  Best Accuracy =  0.9019076117449036 \n",
      "\n",
      "----------------------------------------------------------------\n",
      "C_train=  51  Best C_train =  26  gamma_train =  0.021  best_gamma_train=  0.096  Accuracy_train =  0.9000685742784116  Best Accuracy_train =  0.9183342684371298 \n",
      "\n",
      "C=  51  Best C =  26  gamma =  0.021  best_gamma=  0.091  Accuracy =  0.8935851879558631  Best Accuracy =  0.9019076117449036 \n",
      "\n",
      "----------------------------------------------------------------\n",
      "C_train=  51  Best C_train =  26  gamma_train =  0.026000000000000002  best_gamma_train=  0.096  Accuracy_train =  0.9032167570600337  Best Accuracy_train =  0.9183342684371298 \n",
      "\n",
      "C=  51  Best C =  26  gamma =  0.026000000000000002  best_gamma=  0.091  Accuracy =  0.8935851879558631  Best Accuracy =  0.9019076117449036 \n",
      "\n",
      "----------------------------------------------------------------\n"
     ]
    },
    {
     "name": "stdout",
     "output_type": "stream",
     "text": [
      "C_train=  51  Best C_train =  26  gamma_train =  0.031  best_gamma_train=  0.096  Accuracy_train =  0.9052428152858301  Best Accuracy_train =  0.9183342684371298 \n",
      "\n",
      "C=  51  Best C =  26  gamma =  0.031  best_gamma=  0.091  Accuracy =  0.8957359266878624  Best Accuracy =  0.9019076117449036 \n",
      "\n",
      "----------------------------------------------------------------\n",
      "C_train=  51  Best C_train =  26  gamma_train =  0.036000000000000004  best_gamma_train=  0.096  Accuracy_train =  0.9067701514868151  Best Accuracy_train =  0.9183342684371298 \n",
      "\n",
      "C=  51  Best C =  26  gamma =  0.036000000000000004  best_gamma=  0.091  Accuracy =  0.8978866654198616  Best Accuracy =  0.9019076117449036 \n",
      "\n",
      "----------------------------------------------------------------\n",
      "C_train=  51  Best C_train =  26  gamma_train =  0.041  best_gamma_train=  0.096  Accuracy_train =  0.9090767408515679  Best Accuracy_train =  0.9183342684371298 \n",
      "\n",
      "C=  51  Best C =  26  gamma =  0.041  best_gamma=  0.091  Accuracy =  0.899476341873948  Best Accuracy =  0.9019076117449036 \n",
      "\n",
      "----------------------------------------------------------------\n",
      "C_train=  51  Best C_train =  26  gamma_train =  0.046  best_gamma_train=  0.096  Accuracy_train =  0.9106352471791036  Best Accuracy_train =  0.9183342684371298 \n",
      "\n",
      "C=  51  Best C =  26  gamma =  0.046  best_gamma=  0.091  Accuracy =  0.900130914531513  Best Accuracy =  0.9019076117449036 \n",
      "\n",
      "----------------------------------------------------------------\n",
      "C_train=  51  Best C_train =  26  gamma_train =  0.051000000000000004  best_gamma_train=  0.096  Accuracy_train =  0.9120690730004364  Best Accuracy_train =  0.9183342684371298 \n",
      "\n",
      "C=  51  Best C =  26  gamma =  0.051000000000000004  best_gamma=  0.091  Accuracy =  0.9016270806059472  Best Accuracy =  0.9019076117449036 \n",
      "\n",
      "----------------------------------------------------------------\n",
      "C_train=  51  Best C_train =  26  gamma_train =  0.056  best_gamma_train=  0.096  Accuracy_train =  0.9141574714793342  Best Accuracy_train =  0.9183342684371298 \n",
      "\n",
      "C=  51  Best C =  26  gamma =  0.056  best_gamma=  0.091  Accuracy =  0.9009725079483822  Best Accuracy =  0.9019076117449036 \n",
      "\n",
      "----------------------------------------------------------------\n",
      "C_train=  51  Best C_train =  26  gamma_train =  0.061  best_gamma_train=  0.096  Accuracy_train =  0.915591297300667  Best Accuracy_train =  0.9183342684371298 \n",
      "\n",
      "C=  51  Best C =  26  gamma =  0.061  best_gamma=  0.091  Accuracy =  0.9016270806059472  Best Accuracy =  0.9019076117449036 \n",
      "\n",
      "----------------------------------------------------------------\n",
      "C_train=  51  Best C_train =  26  gamma_train =  0.066  best_gamma_train=  0.096  Accuracy_train =  0.9165887413502899  Best Accuracy_train =  0.9183342684371298 \n",
      "\n",
      "C=  51  Best C =  26  gamma =  0.066  best_gamma=  0.091  Accuracy =  0.9013465494669909  Best Accuracy =  0.9019076117449036 \n",
      "\n",
      "----------------------------------------------------------------\n",
      "C_train=  51  Best C_train =  26  gamma_train =  0.07100000000000001  best_gamma_train=  0.096  Accuracy_train =  0.9178978866654198  Best Accuracy_train =  0.9183342684371298 \n",
      "\n",
      "C=  51  Best C =  26  gamma =  0.07100000000000001  best_gamma=  0.091  Accuracy =  0.9015335702262951  Best Accuracy =  0.9019076117449036 \n",
      "\n",
      "----------------------------------------------------------------\n",
      "C_train=  51  Best C_train =  51  gamma_train =  0.076  best_gamma_train=  0.076  Accuracy_train =  0.9193628826133035  Best Accuracy_train =  0.9193628826133035 \n",
      "\n",
      "C=  51  Best C =  51  gamma =  0.076  best_gamma=  0.076  Accuracy =  0.9022816532635123  Best Accuracy =  0.9022816532635123 \n",
      "\n",
      "----------------------------------------------------------------\n",
      "C_train=  51  Best C_train =  51  gamma_train =  0.081  best_gamma_train=  0.081  Accuracy_train =  0.9202044760301726  Best Accuracy_train =  0.9202044760301726 \n",
      "\n",
      "C=  51  Best C =  51  gamma =  0.081  best_gamma=  0.076  Accuracy =  0.9021881428838601  Best Accuracy =  0.9022816532635123 \n",
      "\n",
      "----------------------------------------------------------------\n",
      "C_train=  51  Best C_train =  51  gamma_train =  0.08600000000000001  best_gamma_train=  0.08600000000000001  Accuracy_train =  0.9210772395735927  Best Accuracy_train =  0.9210772395735927 \n",
      "\n",
      "C=  51  Best C =  51  gamma =  0.08600000000000001  best_gamma=  0.076  Accuracy =  0.9020011221245559  Best Accuracy =  0.9022816532635123 \n",
      "\n",
      "----------------------------------------------------------------\n",
      "C_train=  51  Best C_train =  51  gamma_train =  0.091  best_gamma_train=  0.091  Accuracy_train =  0.9223240446356212  Best Accuracy_train =  0.9223240446356212 \n",
      "\n",
      "C=  51  Best C =  51  gamma =  0.091  best_gamma=  0.076  Accuracy =  0.9018141013652515  Best Accuracy =  0.9022816532635123 \n",
      "\n",
      "----------------------------------------------------------------\n",
      "C_train=  51  Best C_train =  51  gamma_train =  0.096  best_gamma_train=  0.096  Accuracy_train =  0.9233838289383455  Best Accuracy_train =  0.9233838289383455 \n",
      "\n",
      "C=  51  Best C =  51  gamma =  0.096  best_gamma=  0.076  Accuracy =  0.9009725079483822  Best Accuracy =  0.9022816532635123 \n",
      "\n",
      "----------------------------------------------------------------\n",
      "C_train=  76  Best C_train =  51  gamma_train =  0.001  best_gamma_train=  0.096  Accuracy_train =  0.86026432267315  Best Accuracy_train =  0.9233838289383455 \n",
      "\n",
      "C=  76  Best C =  51  gamma =  0.001  best_gamma=  0.076  Accuracy =  0.8595474097624837  Best Accuracy =  0.9022816532635123 \n",
      "\n",
      "----------------------------------------------------------------\n",
      "C_train=  76  Best C_train =  51  gamma_train =  0.006  best_gamma_train=  0.096  Accuracy_train =  0.8879745651767346  Best Accuracy_train =  0.9233838289383455 \n",
      "\n",
      "C=  76  Best C =  51  gamma =  0.006  best_gamma=  0.076  Accuracy =  0.8847017018889096  Best Accuracy =  0.9022816532635123 \n",
      "\n",
      "----------------------------------------------------------------\n",
      "C_train=  76  Best C_train =  51  gamma_train =  0.011  best_gamma_train=  0.096  Accuracy_train =  0.8942085904868774  Best Accuracy_train =  0.9233838289383455 \n",
      "\n",
      "C=  76  Best C =  51  gamma =  0.011  best_gamma=  0.076  Accuracy =  0.8906863661866468  Best Accuracy =  0.9022816532635123 \n",
      "\n",
      "----------------------------------------------------------------\n",
      "C_train=  76  Best C_train =  51  gamma_train =  0.016  best_gamma_train=  0.096  Accuracy_train =  0.898821769216383  Best Accuracy_train =  0.9233838289383455 \n",
      "\n",
      "C=  76  Best C =  51  gamma =  0.016  best_gamma=  0.076  Accuracy =  0.8933046568169066  Best Accuracy =  0.9022816532635123 \n",
      "\n",
      "----------------------------------------------------------------\n",
      "C_train=  76  Best C_train =  51  gamma_train =  0.021  best_gamma_train=  0.096  Accuracy_train =  0.9026868649086716  Best Accuracy_train =  0.9233838289383455 \n",
      "\n",
      "C=  76  Best C =  51  gamma =  0.021  best_gamma=  0.076  Accuracy =  0.8939592294744717  Best Accuracy =  0.9022816532635123 \n",
      "\n",
      "----------------------------------------------------------------\n",
      "C_train=  76  Best C_train =  51  gamma_train =  0.026000000000000002  best_gamma_train=  0.096  Accuracy_train =  0.9053051555389315  Best Accuracy_train =  0.9233838289383455 \n",
      "\n",
      "C=  76  Best C =  51  gamma =  0.026000000000000002  best_gamma=  0.076  Accuracy =  0.8960164578268188  Best Accuracy =  0.9022816532635123 \n",
      "\n",
      "----------------------------------------------------------------\n",
      "C_train=  76  Best C_train =  51  gamma_train =  0.031  best_gamma_train=  0.096  Accuracy_train =  0.9068324917399164  Best Accuracy_train =  0.9233838289383455 \n",
      "\n",
      "C=  76  Best C =  51  gamma =  0.031  best_gamma=  0.076  Accuracy =  0.8980736861791659  Best Accuracy =  0.9022816532635123 \n",
      "\n",
      "----------------------------------------------------------------\n",
      "C_train=  76  Best C_train =  51  gamma_train =  0.036000000000000004  best_gamma_train=  0.096  Accuracy_train =  0.9094196122436257  Best Accuracy_train =  0.9233838289383455 \n",
      "\n",
      "C=  76  Best C =  51  gamma =  0.036000000000000004  best_gamma=  0.076  Accuracy =  0.8993828314942959  Best Accuracy =  0.9022816532635123 \n",
      "\n",
      "----------------------------------------------------------------\n",
      "C_train=  76  Best C_train =  51  gamma_train =  0.041  best_gamma_train=  0.096  Accuracy_train =  0.9113833302163207  Best Accuracy_train =  0.9233838289383455 \n",
      "\n",
      "C=  76  Best C =  51  gamma =  0.041  best_gamma=  0.076  Accuracy =  0.9006919768094258  Best Accuracy =  0.9022816532635123 \n",
      "\n",
      "----------------------------------------------------------------\n"
     ]
    },
    {
     "name": "stdout",
     "output_type": "stream",
     "text": [
      "C_train=  76  Best C_train =  51  gamma_train =  0.046  best_gamma_train=  0.096  Accuracy_train =  0.9130665170500593  Best Accuracy_train =  0.9233838289383455 \n",
      "\n",
      "C=  76  Best C =  51  gamma =  0.046  best_gamma=  0.076  Accuracy =  0.9020011221245559  Best Accuracy =  0.9022816532635123 \n",
      "\n",
      "----------------------------------------------------------------\n",
      "C_train=  76  Best C_train =  51  gamma_train =  0.051000000000000004  best_gamma_train=  0.096  Accuracy_train =  0.9147497038837977  Best Accuracy_train =  0.9233838289383455 \n",
      "\n",
      "C=  76  Best C =  51  gamma =  0.051000000000000004  best_gamma=  0.076  Accuracy =  0.902094632504208  Best Accuracy =  0.9022816532635123 \n",
      "\n",
      "----------------------------------------------------------------\n",
      "C_train=  76  Best C_train =  51  gamma_train =  0.056  best_gamma_train=  0.096  Accuracy_train =  0.9162146998316814  Best Accuracy_train =  0.9233838289383455 \n",
      "\n",
      "C=  76  Best C =  51  gamma =  0.056  best_gamma=  0.076  Accuracy =  0.9022816532635123  Best Accuracy =  0.9022816532635123 \n",
      "\n",
      "----------------------------------------------------------------\n",
      "C_train=  76  Best C_train =  51  gamma_train =  0.061  best_gamma_train=  0.096  Accuracy_train =  0.9177420360326662  Best Accuracy_train =  0.9233838289383455 \n",
      "\n",
      "C=  76  Best C =  51  gamma =  0.061  best_gamma=  0.076  Accuracy =  0.9011595287076866  Best Accuracy =  0.9022816532635123 \n",
      "\n",
      "----------------------------------------------------------------\n",
      "C_train=  76  Best C_train =  51  gamma_train =  0.066  best_gamma_train=  0.096  Accuracy_train =  0.9188329904619412  Best Accuracy_train =  0.9233838289383455 \n",
      "\n",
      "C=  76  Best C =  51  gamma =  0.066  best_gamma=  0.076  Accuracy =  0.9015335702262951  Best Accuracy =  0.9022816532635123 \n",
      "\n",
      "----------------------------------------------------------------\n",
      "C_train=  76  Best C_train =  51  gamma_train =  0.07100000000000001  best_gamma_train=  0.096  Accuracy_train =  0.9202979864098249  Best Accuracy_train =  0.9233838289383455 \n",
      "\n",
      "C=  76  Best C =  51  gamma =  0.07100000000000001  best_gamma=  0.076  Accuracy =  0.9017205909855994  Best Accuracy =  0.9022816532635123 \n",
      "\n",
      "----------------------------------------------------------------\n",
      "C_train=  76  Best C_train =  51  gamma_train =  0.076  best_gamma_train=  0.096  Accuracy_train =  0.921575961598404  Best Accuracy_train =  0.9233838289383455 \n",
      "\n",
      "C=  76  Best C =  51  gamma =  0.076  best_gamma=  0.076  Accuracy =  0.9022816532635123  Best Accuracy =  0.9022816532635123 \n",
      "\n",
      "----------------------------------------------------------------\n",
      "C_train=  76  Best C_train =  51  gamma_train =  0.081  best_gamma_train=  0.096  Accuracy_train =  0.9226045757745777  Best Accuracy_train =  0.9233838289383455 \n",
      "\n",
      "C=  76  Best C =  51  gamma =  0.081  best_gamma=  0.076  Accuracy =  0.9018141013652515  Best Accuracy =  0.9022816532635123 \n",
      "\n",
      "----------------------------------------------------------------\n",
      "C_train=  76  Best C_train =  76  gamma_train =  0.08600000000000001  best_gamma_train=  0.08600000000000001  Accuracy_train =  0.9241630821021133  Best Accuracy_train =  0.9241630821021133 \n",
      "\n",
      "C=  76  Best C =  51  gamma =  0.08600000000000001  best_gamma=  0.076  Accuracy =  0.9017205909855994  Best Accuracy =  0.9022816532635123 \n",
      "\n",
      "----------------------------------------------------------------\n",
      "C_train=  76  Best C_train =  76  gamma_train =  0.091  best_gamma_train=  0.091  Accuracy_train =  0.9256592481765475  Best Accuracy_train =  0.9256592481765475 \n",
      "\n",
      "C=  76  Best C =  51  gamma =  0.091  best_gamma=  0.076  Accuracy =  0.9011595287076866  Best Accuracy =  0.9022816532635123 \n",
      "\n",
      "----------------------------------------------------------------\n",
      "C_train=  76  Best C_train =  76  gamma_train =  0.096  best_gamma_train=  0.096  Accuracy_train =  0.9268748831120255  Best Accuracy_train =  0.9268748831120255 \n",
      "\n",
      "C=  76  Best C =  51  gamma =  0.096  best_gamma=  0.076  Accuracy =  0.9000374041518608  Best Accuracy =  0.9022816532635123 \n",
      "\n",
      "----------------------------------------------------------------\n",
      "C_train=  101  Best C_train =  76  gamma_train =  0.001  best_gamma_train=  0.096  Accuracy_train =  0.8661866467177857  Best Accuracy_train =  0.9268748831120255 \n",
      "\n",
      "C=  101  Best C =  51  gamma =  0.001  best_gamma=  0.076  Accuracy =  0.8646904806433514  Best Accuracy =  0.9022816532635123 \n",
      "\n",
      "----------------------------------------------------------------\n",
      "C_train=  101  Best C_train =  76  gamma_train =  0.006  best_gamma_train=  0.096  Accuracy_train =  0.8894707312511689  Best Accuracy_train =  0.9268748831120255 \n",
      "\n",
      "C=  101  Best C =  51  gamma =  0.006  best_gamma=  0.076  Accuracy =  0.8855432953057789  Best Accuracy =  0.9022816532635123 \n",
      "\n",
      "----------------------------------------------------------------\n",
      "C_train=  101  Best C_train =  76  gamma_train =  0.011  best_gamma_train=  0.096  Accuracy_train =  0.8956424163082102  Best Accuracy_train =  0.9268748831120255 \n",
      "\n",
      "C=  101  Best C =  51  gamma =  0.011  best_gamma=  0.076  Accuracy =  0.8916214699831682  Best Accuracy =  0.9022816532635123 \n",
      "\n",
      "----------------------------------------------------------------\n",
      "C_train=  101  Best C_train =  76  gamma_train =  0.016  best_gamma_train=  0.096  Accuracy_train =  0.9003802755439188  Best Accuracy_train =  0.9268748831120255 \n",
      "\n",
      "C=  101  Best C =  51  gamma =  0.016  best_gamma=  0.076  Accuracy =  0.893491677576211  Best Accuracy =  0.9022816532635123 \n",
      "\n",
      "----------------------------------------------------------------\n",
      "C_train=  101  Best C_train =  76  gamma_train =  0.021  best_gamma_train=  0.096  Accuracy_train =  0.9040271803503522  Best Accuracy_train =  0.9268748831120255 \n",
      "\n",
      "C=  101  Best C =  51  gamma =  0.021  best_gamma=  0.076  Accuracy =  0.8951748644099495  Best Accuracy =  0.9022816532635123 \n",
      "\n",
      "----------------------------------------------------------------\n",
      "C_train=  101  Best C_train =  76  gamma_train =  0.026000000000000002  best_gamma_train=  0.096  Accuracy_train =  0.9061779190823515  Best Accuracy_train =  0.9268748831120255 \n",
      "\n",
      "C=  101  Best C =  51  gamma =  0.026000000000000002  best_gamma=  0.076  Accuracy =  0.8980736861791659  Best Accuracy =  0.9022816532635123 \n",
      "\n",
      "----------------------------------------------------------------\n",
      "C_train=  101  Best C_train =  76  gamma_train =  0.031  best_gamma_train=  0.096  Accuracy_train =  0.9090455707250171  Best Accuracy_train =  0.9268748831120255 \n",
      "\n",
      "C=  101  Best C =  51  gamma =  0.031  best_gamma=  0.076  Accuracy =  0.8992893211146438  Best Accuracy =  0.9022816532635123 \n",
      "\n",
      "----------------------------------------------------------------\n",
      "C_train=  101  Best C_train =  76  gamma_train =  0.036000000000000004  best_gamma_train=  0.096  Accuracy_train =  0.9109781185711614  Best Accuracy_train =  0.9268748831120255 \n",
      "\n",
      "C=  101  Best C =  51  gamma =  0.036000000000000004  best_gamma=  0.076  Accuracy =  0.9003179352908173  Best Accuracy =  0.9022816532635123 \n",
      "\n",
      "----------------------------------------------------------------\n",
      "C_train=  101  Best C_train =  76  gamma_train =  0.041  best_gamma_train=  0.096  Accuracy_train =  0.9125366248986971  Best Accuracy_train =  0.9268748831120255 \n",
      "\n",
      "C=  101  Best C =  51  gamma =  0.041  best_gamma=  0.076  Accuracy =  0.9019076117449036  Best Accuracy =  0.9022816532635123 \n",
      "\n",
      "----------------------------------------------------------------\n",
      "C_train=  101  Best C_train =  76  gamma_train =  0.046  best_gamma_train=  0.096  Accuracy_train =  0.9145938532510443  Best Accuracy_train =  0.9268748831120255 \n",
      "\n",
      "C=  101  Best C =  101  gamma =  0.046  best_gamma=  0.046  Accuracy =  0.9026556947821208  Best Accuracy =  0.9026556947821208 \n",
      "\n",
      "----------------------------------------------------------------\n",
      "C_train=  101  Best C_train =  76  gamma_train =  0.051000000000000004  best_gamma_train=  0.096  Accuracy_train =  0.9161835297051306  Best Accuracy_train =  0.9268748831120255 \n",
      "\n",
      "C=  101  Best C =  101  gamma =  0.051000000000000004  best_gamma=  0.046  Accuracy =  0.9025621844024687  Best Accuracy =  0.9026556947821208 \n",
      "\n",
      "----------------------------------------------------------------\n",
      "C_train=  101  Best C_train =  76  gamma_train =  0.056  best_gamma_train=  0.096  Accuracy_train =  0.9179290567919706  Best Accuracy_train =  0.9268748831120255 \n",
      "\n",
      "C=  101  Best C =  101  gamma =  0.056  best_gamma=  0.046  Accuracy =  0.9019076117449036  Best Accuracy =  0.9026556947821208 \n",
      "\n",
      "----------------------------------------------------------------\n"
     ]
    },
    {
     "name": "stdout",
     "output_type": "stream",
     "text": [
      "C_train=  101  Best C_train =  76  gamma_train =  0.061  best_gamma_train=  0.096  Accuracy_train =  0.9193317124867527  Best Accuracy_train =  0.9268748831120255 \n",
      "\n",
      "C=  101  Best C =  101  gamma =  0.061  best_gamma=  0.046  Accuracy =  0.9021881428838601  Best Accuracy =  0.9026556947821208 \n",
      "\n",
      "----------------------------------------------------------------\n",
      "C_train=  101  Best C_train =  76  gamma_train =  0.066  best_gamma_train=  0.096  Accuracy_train =  0.9207967084346362  Best Accuracy_train =  0.9268748831120255 \n",
      "\n",
      "C=  101  Best C =  101  gamma =  0.066  best_gamma=  0.046  Accuracy =  0.9011595287076866  Best Accuracy =  0.9026556947821208 \n",
      "\n",
      "----------------------------------------------------------------\n",
      "C_train=  101  Best C_train =  76  gamma_train =  0.07100000000000001  best_gamma_train=  0.096  Accuracy_train =  0.9220435134966648  Best Accuracy_train =  0.9268748831120255 \n",
      "\n",
      "C=  101  Best C =  101  gamma =  0.07100000000000001  best_gamma=  0.046  Accuracy =  0.9015335702262951  Best Accuracy =  0.9026556947821208 \n",
      "\n",
      "----------------------------------------------------------------\n",
      "C_train=  101  Best C_train =  76  gamma_train =  0.076  best_gamma_train=  0.096  Accuracy_train =  0.9232591484321426  Best Accuracy_train =  0.9268748831120255 \n",
      "\n",
      "C=  101  Best C =  101  gamma =  0.076  best_gamma=  0.046  Accuracy =  0.9013465494669909  Best Accuracy =  0.9026556947821208 \n",
      "\n",
      "----------------------------------------------------------------\n",
      "C_train=  101  Best C_train =  76  gamma_train =  0.081  best_gamma_train=  0.096  Accuracy_train =  0.9252228664048376  Best Accuracy_train =  0.9268748831120255 \n",
      "\n",
      "C=  101  Best C =  101  gamma =  0.081  best_gamma=  0.046  Accuracy =  0.9018141013652515  Best Accuracy =  0.9026556947821208 \n",
      "\n",
      "----------------------------------------------------------------\n",
      "C_train=  101  Best C_train =  76  gamma_train =  0.08600000000000001  best_gamma_train=  0.096  Accuracy_train =  0.926594351973069  Best Accuracy_train =  0.9268748831120255 \n",
      "\n",
      "C=  101  Best C =  101  gamma =  0.08600000000000001  best_gamma=  0.046  Accuracy =  0.9008789975687301  Best Accuracy =  0.9026556947821208 \n",
      "\n",
      "----------------------------------------------------------------\n",
      "C_train=  101  Best C_train =  101  gamma_train =  0.091  best_gamma_train=  0.091  Accuracy_train =  0.9275606258961412  Best Accuracy_train =  0.9275606258961412 \n",
      "\n",
      "C=  101  Best C =  101  gamma =  0.091  best_gamma=  0.046  Accuracy =  0.8998503833925565  Best Accuracy =  0.9026556947821208 \n",
      "\n",
      "----------------------------------------------------------------\n",
      "C_train=  101  Best C_train =  101  gamma_train =  0.096  best_gamma_train=  0.096  Accuracy_train =  0.9284333894395611  Best Accuracy_train =  0.9284333894395611 \n",
      "\n",
      "C=  101  Best C =  101  gamma =  0.096  best_gamma=  0.046  Accuracy =  0.8993828314942959  Best Accuracy =  0.9026556947821208 \n",
      "\n"
     ]
    }
   ],
   "source": [
    "# C_2d_range = range(10)/0.1\n",
    "# gamma_2d_range = [0.01,0.1,0.2,0.3,1]\n",
    "classifiers = []\n",
    "# C_range=10\n",
    "# Gamma_range = 10\n",
    "Train_acc=[]\n",
    "Valid_acc=[]\n",
    "accuracy = -1\n",
    "accuracy_train = -1\n",
    "for C in np.arange(1,102,25):\n",
    "    for gamma in np.arange(0.001,0.1,0.005):\n",
    "        \n",
    "        clf = SVC(C=C, gamma=gamma)\n",
    "        print(\"----------------------------------------------------------------\")\n",
    "        clf.fit(X_train, y_train)\n",
    "        classifiers.append((C, gamma, clf))\n",
    "        y_pred = clf.predict(X_train)\n",
    "        acc_train =metrics.accuracy_score(y_train, y_pred)\n",
    "        Train_acc.append(acc_train)\n",
    "        y_pred = clf.predict(X_test)\n",
    "        acc=metrics.accuracy_score(y_test, y_pred)\n",
    "        Valid_acc.append(acc)\n",
    "        if (acc_train>accuracy_train):\n",
    "            \n",
    "            accuracy_train=acc_train\n",
    "            best_c_train = C\n",
    "            best_g_train=gamma\n",
    "        print(\"C_train= \",C,\" Best C_train = \",best_c_train,\" gamma_train = \",gamma,\" best_gamma_train= \",best_g_train,\" Accuracy_train = \",acc_train,\" Best Accuracy_train = \",accuracy_train,\"\\n\")\n",
    "\n",
    "        if (acc>accuracy):\n",
    "            accuracy=acc\n",
    "            best_c = C\n",
    "            best_g=gamma\n",
    "        \n",
    "        print(\"C= \",C,\" Best C = \",best_c,\" gamma = \",gamma,\" best_gamma= \",best_g,\" Accuracy = \",acc,\" Best Accuracy = \",accuracy,\"\\n\")\n",
    "        \n",
    "        "
   ]
  },
  {
   "cell_type": "code",
   "execution_count": 26,
   "metadata": {},
   "outputs": [],
   "source": [
    "clf = SVC(C=101,gamma=0.046,decision_function_shape='ovo')"
   ]
  },
  {
   "cell_type": "code",
   "execution_count": 27,
   "metadata": {},
   "outputs": [
    {
     "data": {
      "text/plain": [
       "SVC(C=101, cache_size=200, class_weight=None, coef0=0.0,\n",
       "    decision_function_shape='ovo', degree=3, gamma=0.046, kernel='rbf',\n",
       "    max_iter=-1, probability=False, random_state=None, shrinking=True,\n",
       "    tol=0.001, verbose=False)"
      ]
     },
     "execution_count": 27,
     "metadata": {},
     "output_type": "execute_result"
    }
   ],
   "source": [
    "clf.fit(X_train, y_train)"
   ]
  },
  {
   "cell_type": "code",
   "execution_count": 28,
   "metadata": {},
   "outputs": [],
   "source": [
    "y_pred = clf.predict(X_test)"
   ]
  },
  {
   "cell_type": "code",
   "execution_count": 29,
   "metadata": {},
   "outputs": [],
   "source": [
    "from sklearn import metrics"
   ]
  },
  {
   "cell_type": "code",
   "execution_count": 30,
   "metadata": {},
   "outputs": [
    {
     "name": "stdout",
     "output_type": "stream",
     "text": [
      "Accuracy : 90.26556947821209\n"
     ]
    }
   ],
   "source": [
    "print(\"Accuracy :\",metrics.accuracy_score(y_pred, y_test)*100)"
   ]
  },
  {
   "cell_type": "code",
   "execution_count": 31,
   "metadata": {},
   "outputs": [
    {
     "name": "stdout",
     "output_type": "stream",
     "text": [
      "Cohen Kappa Score : 86.91347621403827\n"
     ]
    }
   ],
   "source": [
    "from sklearn.metrics import cohen_kappa_score\n",
    "print(\"Cohen Kappa Score :\",cohen_kappa_score(y_pred, y_test)*100)"
   ]
  },
  {
   "cell_type": "code",
   "execution_count": 32,
   "metadata": {},
   "outputs": [
    {
     "name": "stdout",
     "output_type": "stream",
     "text": [
      "              precision    recall  f1-score   support\n",
      "\n",
      "           1       0.93      0.93      0.93      1658\n",
      "           2       0.91      0.97      0.94      4662\n",
      "           3       0.76      0.74      0.75       525\n",
      "           4       0.95      0.90      0.93       766\n",
      "           5       1.00      1.00      1.00       336\n",
      "           6       0.90      0.67      0.77      1257\n",
      "           7       0.87      0.81      0.84       333\n",
      "           8       0.83      0.88      0.85       920\n",
      "           9       1.00      1.00      1.00       237\n",
      "\n",
      "    accuracy                           0.90     10694\n",
      "   macro avg       0.91      0.88      0.89     10694\n",
      "weighted avg       0.90      0.90      0.90     10694\n",
      "\n"
     ]
    }
   ],
   "source": [
    "from sklearn.metrics import confusion_matrix,classification_report\n",
    "mat = confusion_matrix(y_pred, y_test)\n",
    "pd.DataFrame(mat)\n",
    "# print(confusion_matrix(y_test, y_pred ))\n",
    "print(classification_report(y_test, y_pred ))"
   ]
  },
  {
   "cell_type": "code",
   "execution_count": 33,
   "metadata": {},
   "outputs": [
    {
     "name": "stdout",
     "output_type": "stream",
     "text": [
      "      0     1    2    3    4    5    6    7    8\n",
      "0  1537     0   29    0    0    1   62   25    1\n",
      "1     0  4544    0   73    0  399    0    0    0\n",
      "2    36     0  387    0    0    1    1   82    0\n",
      "3     0    29    0  693    0    4    0    0    0\n",
      "4     0     0    0    0  336    0    0    0    0\n",
      "5     2    86    2    0    0  844    0    5    0\n",
      "6    40     0    0    0    0    0  270    2    0\n",
      "7    43     3  107    0    0    8    0  806    0\n",
      "8     0     0    0    0    0    0    0    0  236\n"
     ]
    }
   ],
   "source": [
    "print(pd.DataFrame(mat))"
   ]
  },
  {
   "cell_type": "code",
   "execution_count": null,
   "metadata": {},
   "outputs": [],
   "source": []
  }
 ],
 "metadata": {
  "kernelspec": {
   "display_name": "Python 3",
   "language": "python",
   "name": "python3"
  },
  "language_info": {
   "codemirror_mode": {
    "name": "ipython",
    "version": 3
   },
   "file_extension": ".py",
   "mimetype": "text/x-python",
   "name": "python",
   "nbconvert_exporter": "python",
   "pygments_lexer": "ipython3",
   "version": "3.7.4"
  }
 },
 "nbformat": 4,
 "nbformat_minor": 2
}
