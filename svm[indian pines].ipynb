{
 "cells": [
  {
   "cell_type": "code",
   "execution_count": 1,
   "metadata": {},
   "outputs": [],
   "source": [
    "import numpy as np\n",
    "import matplotlib.pyplot as plt\n",
    "import pandas as pd\n",
    "from sklearn import decomposition\n",
    "from sklearn.preprocessing import MinMaxScaler\n",
    "from sklearn.decomposition import PCA\n",
    "import seaborn as sns\n",
    "from scipy.io import loadmat"
   ]
  },
  {
   "cell_type": "code",
   "execution_count": 2,
   "metadata": {},
   "outputs": [],
   "source": [
    "X = loadmat('Indian_pines_corrected.mat')['indian_pines_corrected']\n",
    "y = loadmat('Indian_pines_gt.mat')['indian_pines_gt']"
   ]
  },
  {
   "cell_type": "code",
   "execution_count": 3,
   "metadata": {},
   "outputs": [
    {
     "name": "stdout",
     "output_type": "stream",
     "text": [
      "X: (145, 145, 200)\n",
      "y: (145, 145)\n"
     ]
    }
   ],
   "source": [
    "print(\"X:\", (X.shape))\n",
    "print(\"y:\", (y.shape))"
   ]
  },
  {
   "cell_type": "code",
   "execution_count": 4,
   "metadata": {},
   "outputs": [
    {
     "data": {
      "text/plain": [
       "array([ 0,  1,  2,  3,  4,  5,  6,  7,  8,  9, 10, 11, 12, 13, 14, 15, 16],\n",
       "      dtype=uint8)"
      ]
     },
     "execution_count": 4,
     "metadata": {},
     "output_type": "execute_result"
    }
   ],
   "source": [
    "np.unique(y)"
   ]
  },
  {
   "cell_type": "code",
   "execution_count": 5,
   "metadata": {},
   "outputs": [
    {
     "data": {
      "image/png": "[encoded data removed]",
      "text/plain": [
       "<Figure size 576x432 with 2 Axes>"
      ]
     },
     "metadata": {
      "needs_background": "light"
     },
     "output_type": "display_data"
    }
   ],
   "source": [
    "plt.figure(figsize=(8, 6))\n",
    "plt.imshow(y, cmap='jet')\n",
    "plt.colorbar()\n",
    "plt.axis('off')\n",
    "plt.title('Ground Truth')\n",
    "plt.gca().legend(['0', '1', '2', '3', '4', '5', '6', '7', '8', '9','10', '11', '12', '13', '14', '15', '16'], loc='upper left')\n",
    "#plt.savefig('ground_truth.png')\n",
    "plt.show()"
   ]
  },
  {
   "cell_type": "code",
   "execution_count": 6,
   "metadata": {},
   "outputs": [],
   "source": [
    "X = X.reshape(X.shape[0]*X.shape[1], X.shape[2])"
   ]
  },
  {
   "cell_type": "code",
   "execution_count": 7,
   "metadata": {},
   "outputs": [],
   "source": [
    "y = y.ravel()"
   ]
  },
  {
   "cell_type": "code",
   "execution_count": 8,
   "metadata": {},
   "outputs": [
    {
     "name": "stdout",
     "output_type": "stream",
     "text": [
      "X: (21025, 200)\n",
      "y: (21025,)\n"
     ]
    }
   ],
   "source": [
    "print(\"X:\", (X.shape))\n",
    "print(\"y:\", (y.shape))"
   ]
  },
  {
   "cell_type": "code",
   "execution_count": 9,
   "metadata": {},
   "outputs": [
    {
     "name": "stdout",
     "output_type": "stream",
     "text": [
      "[ 0  1  2  3  4  5  6  7  8  9 10 11 12 13 14 15 16]\n",
      "[10776    46  1428   830   237   483   730    28   478    20   972  2455\n",
      "   593   205  1265   386    93]\n"
     ]
    }
   ],
   "source": [
    "label,counts=np.unique(y,return_counts=True)\n",
    "print(label)\n",
    "print(counts)"
   ]
  },
  {
   "cell_type": "code",
   "execution_count": 10,
   "metadata": {},
   "outputs": [],
   "source": [
    "# Standardizing the features\n",
    "from sklearn.preprocessing import StandardScaler\n",
    "scaler_model = StandardScaler()\n",
    "scaler_model.fit(X.astype(float))\n",
    "X=scaler_model.transform(X)"
   ]
  },
  {
   "cell_type": "code",
   "execution_count": 11,
   "metadata": {},
   "outputs": [
    {
     "name": "stdout",
     "output_type": "stream",
     "text": [
      "(21025, 200)\n",
      "(21025,)\n"
     ]
    }
   ],
   "source": [
    "print(X.shape)\n",
    "print(y.shape)"
   ]
  },
  {
   "cell_type": "code",
   "execution_count": 12,
   "metadata": {},
   "outputs": [],
   "source": [
    "from sklearn.model_selection import train_test_split\n",
    "X_train, X_test, y_train, y_test = train_test_split(X, y, random_state = 10, test_size = 0.25, stratify=y )"
   ]
  },
  {
   "cell_type": "code",
   "execution_count": 13,
   "metadata": {},
   "outputs": [
    {
     "name": "stdout",
     "output_type": "stream",
     "text": [
      "(15768, 200)\n",
      "(5257, 200)\n"
     ]
    }
   ],
   "source": [
    "print(X_train.shape)\n",
    "print(X_test.shape)"
   ]
  },
  {
   "cell_type": "code",
   "execution_count": 24,
   "metadata": {},
   "outputs": [
    {
     "name": "stdout",
     "output_type": "stream",
     "text": [
      "       0\n",
      "0   8082\n",
      "1     35\n",
      "2   1071\n",
      "3    622\n",
      "4    178\n",
      "5    362\n",
      "6    547\n",
      "7     21\n",
      "8    358\n",
      "9     15\n",
      "10   729\n",
      "11  1841\n",
      "12   445\n",
      "13   154\n",
      "14   949\n",
      "15   289\n",
      "16    70\n",
      "       0\n",
      "0   2694\n",
      "1     11\n",
      "2    357\n",
      "3    208\n",
      "4     59\n",
      "5    121\n",
      "6    183\n",
      "7      7\n",
      "8    120\n",
      "9      5\n",
      "10   243\n",
      "11   614\n",
      "12   148\n",
      "13    51\n",
      "14   316\n",
      "15    97\n",
      "16    23\n"
     ]
    }
   ],
   "source": [
    "label_tr,counts_tr=np.unique(y_train,return_counts=True)\n",
    "label_te,counts_te=np.unique(y_test,return_counts=True)\n",
    "print(pd.DataFrame(counts_tr,label_tr))\n",
    "print(pd.DataFrame(counts_te,label_te))"
   ]
  },
  {
   "cell_type": "code",
   "execution_count": 14,
   "metadata": {},
   "outputs": [],
   "source": [
    "#Applying Scalar to train and test Dataset\n",
    "\n",
    "from sklearn import preprocessing\n",
    "scaler = preprocessing.StandardScaler().fit(X_train) \n",
    "X_train= scaler.transform(X_train)\n",
    "X_test=scaler.transform(X_test)"
   ]
  },
  {
   "cell_type": "code",
   "execution_count": 15,
   "metadata": {},
   "outputs": [],
   "source": [
    "#Appplying SVM \n",
    "\n",
    "from sklearn.svm import SVC\n",
    "from sklearn import metrics"
   ]
  },
  {
   "cell_type": "code",
   "execution_count": 16,
   "metadata": {},
   "outputs": [],
   "source": [
    "clf = SVC(C=25,gamma=0.001,decision_function_shape='ovo')"
   ]
  },
  {
   "cell_type": "code",
   "execution_count": 17,
   "metadata": {},
   "outputs": [
    {
     "data": {
      "text/plain": [
       "SVC(C=25, cache_size=200, class_weight=None, coef0=0.0,\n",
       "    decision_function_shape='ovo', degree=3, gamma=0.001, kernel='rbf',\n",
       "    max_iter=-1, probability=False, random_state=None, shrinking=True,\n",
       "    tol=0.001, verbose=False)"
      ]
     },
     "execution_count": 17,
     "metadata": {},
     "output_type": "execute_result"
    }
   ],
   "source": [
    "clf.fit(X_train, y_train)"
   ]
  },
  {
   "cell_type": "code",
   "execution_count": 18,
   "metadata": {},
   "outputs": [],
   "source": [
    "y_pred = clf.predict(X_test)"
   ]
  },
  {
   "cell_type": "code",
   "execution_count": 19,
   "metadata": {},
   "outputs": [],
   "source": [
    "from sklearn import metrics"
   ]
  },
  {
   "cell_type": "code",
   "execution_count": 20,
   "metadata": {},
   "outputs": [
    {
     "name": "stdout",
     "output_type": "stream",
     "text": [
      "Accuracy : 78.77116225984402\n"
     ]
    }
   ],
   "source": [
    "print(\"Accuracy :\",metrics.accuracy_score(y_pred, y_test)*100)"
   ]
  },
  {
   "cell_type": "code",
   "execution_count": 21,
   "metadata": {},
   "outputs": [
    {
     "name": "stdout",
     "output_type": "stream",
     "text": [
      "Cohen Kappa Score : 68.72855016019736\n"
     ]
    }
   ],
   "source": [
    "from sklearn.metrics import cohen_kappa_score\n",
    "print(\"Cohen Kappa Score :\",cohen_kappa_score(y_pred, y_test)*100)"
   ]
  },
  {
   "cell_type": "code",
   "execution_count": 22,
   "metadata": {},
   "outputs": [
    {
     "name": "stdout",
     "output_type": "stream",
     "text": [
      "              precision    recall  f1-score   support\n",
      "\n",
      "           0       0.80      0.89      0.84      2694\n",
      "           1       0.75      0.27      0.40        11\n",
      "           2       0.78      0.76      0.77       357\n",
      "           3       0.86      0.54      0.66       208\n",
      "           4       0.64      0.63      0.63        59\n",
      "           5       0.93      0.61      0.74       121\n",
      "           6       0.88      0.80      0.84       183\n",
      "           7       1.00      0.57      0.73         7\n",
      "           8       0.87      0.97      0.91       120\n",
      "           9       0.00      0.00      0.00         5\n",
      "          10       0.74      0.71      0.72       243\n",
      "          11       0.74      0.82      0.78       614\n",
      "          12       0.83      0.73      0.78       148\n",
      "          13       0.94      0.98      0.96        51\n",
      "          14       0.64      0.41      0.50       316\n",
      "          15       0.00      0.00      0.00        97\n",
      "          16       0.76      0.83      0.79        23\n",
      "\n",
      "    accuracy                           0.79      5257\n",
      "   macro avg       0.71      0.62      0.65      5257\n",
      "weighted avg       0.77      0.79      0.77      5257\n",
      "\n"
     ]
    },
    {
     "name": "stderr",
     "output_type": "stream",
     "text": [
      "C:\\Users\\THIS PC\\Anaconda3\\lib\\site-packages\\sklearn\\metrics\\classification.py:1437: UndefinedMetricWarning: Precision and F-score are ill-defined and being set to 0.0 in labels with no predicted samples.\n",
      "  'precision', 'predicted', average, warn_for)\n"
     ]
    }
   ],
   "source": [
    "from sklearn.metrics import confusion_matrix,classification_report\n",
    "mat = confusion_matrix(y_pred, y_test)\n",
    "pd.DataFrame(mat)\n",
    "# print(confusion_matrix(y_test, y_pred ))\n",
    "print(classification_report(y_test, y_pred ))"
   ]
  },
  {
   "cell_type": "code",
   "execution_count": 23,
   "metadata": {},
   "outputs": [
    {
     "name": "stdout",
     "output_type": "stream",
     "text": [
      "       0  1    2    3   4   5    6  7    8  9   10   11   12  13   14  15  16\n",
      "0   2398  5   33   29  12  47   36  3    3  5   38   80   34   1  187  93   4\n",
      "1      0  3    0    0   0   0    0  0    1  0    0    0    0   0    0   0   0\n",
      "2     50  0  270    6   4   0    0  0    0  0    3   14    0   0    0   0   0\n",
      "3      7  0    2  112   5   0    0  0    0  0    0    3    1   0    0   0   0\n",
      "4      8  0    1   10  37   0    0  0    0  0    0    0    2   0    0   0   0\n",
      "5      5  0    0    0   0  74    0  0    0  0    0    0    0   0    1   0   0\n",
      "6     20  0    0    0   1   0  147  0    0  0    0    0    0   0    0   0   0\n",
      "7      0  0    0    0   0   0    0  4    0  0    0    0    0   0    0   0   0\n",
      "8     15  3    0    0   0   0    0  0  116  0    0    0    0   0    0   0   0\n",
      "9      0  0    0    0   0   0    0  0    0  0    0    0    0   0    0   0   0\n",
      "10    27  0   22    0   0   0    0  0    0  0  173   12    1   0    0   0   0\n",
      "11    72  0   28   47   0   0    0  0    0  0   29  502    2   0    0   0   0\n",
      "12    14  0    1    4   0   0    0  0    0  0    0    3  108   0    0   0   0\n",
      "13     3  0    0    0   0   0    0  0    0  0    0    0    0  50    0   0   0\n",
      "14    69  0    0    0   0   0    0  0    0  0    0    0    0   0  128   4   0\n",
      "15     0  0    0    0   0   0    0  0    0  0    0    0    0   0    0   0   0\n",
      "16     6  0    0    0   0   0    0  0    0  0    0    0    0   0    0   0  19\n"
     ]
    }
   ],
   "source": [
    "print(pd.DataFrame(mat))"
   ]
  },
  {
   "cell_type": "code",
   "execution_count": null,
   "metadata": {},
   "outputs": [],
   "source": []
  }
 ],
 "metadata": {
  "kernelspec": {
   "display_name": "Python 3",
   "language": "python",
   "name": "python3"
  },
  "language_info": {
   "codemirror_mode": {
    "name": "ipython",
    "version": 3
   },
   "file_extension": ".py",
   "mimetype": "text/x-python",
   "name": "python",
   "nbconvert_exporter": "python",
   "pygments_lexer": "ipython3",
   "version": "3.7.4"
  }
 },
 "nbformat": 4,
 "nbformat_minor": 2
}
