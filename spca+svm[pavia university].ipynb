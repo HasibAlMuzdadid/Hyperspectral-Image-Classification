{
 "cells": [
  {
   "cell_type": "code",
   "execution_count": 1,
   "metadata": {},
   "outputs": [],
   "source": [
    "import numpy as np\n",
    "import matplotlib.pyplot as plt\n",
    "import pandas as pd\n",
    "from sklearn import decomposition\n",
    "from sklearn.preprocessing import MinMaxScaler\n",
    "from sklearn.decomposition import PCA\n",
    "import seaborn as sns\n",
    "from scipy.io import loadmat"
   ]
  },
  {
   "cell_type": "code",
   "execution_count": 2,
   "metadata": {},
   "outputs": [],
   "source": [
    "X = loadmat('PaviaU.mat')['paviaU']\n",
    "y = loadmat('PaviaU_gt.mat')['paviaU_gt']"
   ]
  },
  {
   "cell_type": "code",
   "execution_count": 3,
   "metadata": {},
   "outputs": [
    {
     "name": "stdout",
     "output_type": "stream",
     "text": [
      "X: (610, 340, 103)\n",
      "y: (610, 340)\n"
     ]
    }
   ],
   "source": [
    "print(\"X:\", (X.shape))\n",
    "print(\"y:\", (y.shape))"
   ]
  },
  {
   "cell_type": "code",
   "execution_count": 4,
   "metadata": {},
   "outputs": [
    {
     "data": {
      "text/plain": [
       "array([0, 1, 2, 3, 4, 5, 6, 7, 8, 9], dtype=uint8)"
      ]
     },
     "execution_count": 4,
     "metadata": {},
     "output_type": "execute_result"
    }
   ],
   "source": [
    "np.unique(y)"
   ]
  },
  {
   "cell_type": "code",
   "execution_count": 5,
   "metadata": {},
   "outputs": [
    {
     "data": {
      "image/png": "[encoded data removed]",
      "text/plain": [
       "<Figure size 720x720 with 2 Axes>"
      ]
     },
     "metadata": {
      "needs_background": "light"
     },
     "output_type": "display_data"
    }
   ],
   "source": [
    "plt.figure(figsize=(10, 10))\n",
    "plt.imshow(y, cmap='jet')\n",
    "plt.colorbar()\n",
    "plt.axis('off')\n",
    "plt.title('Ground Truth')\n",
    "plt.gca().legend(['0', '1', '2', '3', '4', '5', '6', '7', '8', '9'], loc='upper left')\n",
    "#plt.savefig('ground_truth.png')\n",
    "plt.show()"
   ]
  },
  {
   "cell_type": "code",
   "execution_count": 6,
   "metadata": {},
   "outputs": [
    {
     "name": "stdout",
     "output_type": "stream",
     "text": [
      "340    103\n"
     ]
    }
   ],
   "source": [
    "_,F,S = X.shape\n",
    "print(F,\"  \",S)"
   ]
  },
  {
   "cell_type": "code",
   "execution_count": 7,
   "metadata": {},
   "outputs": [
    {
     "name": "stdout",
     "output_type": "stream",
     "text": [
      "(610, 340, 36)\n",
      "(610, 340, 40)\n",
      "(610, 340, 27)\n"
     ]
    }
   ],
   "source": [
    "D1= X[:,:,0:36] \n",
    "print(D1.shape)\n",
    "D2= X[:,:,36:76] \n",
    "print(D2.shape)\n",
    "D3= X[:,:,76:] \n",
    "print(D3.shape)"
   ]
  },
  {
   "cell_type": "code",
   "execution_count": 8,
   "metadata": {},
   "outputs": [
    {
     "name": "stdout",
     "output_type": "stream",
     "text": [
      "340    36\n",
      "340    40\n",
      "340    27\n"
     ]
    }
   ],
   "source": [
    "_,F1,S1 = D1.shape\n",
    "_,F2,S2 = D2.shape\n",
    "_,F3,S3 = D3.shape\n",
    "print(F1,\"  \",S1)\n",
    "print(F2,\"  \",S2)\n",
    "print(F3,\"  \",S3)"
   ]
  },
  {
   "cell_type": "code",
   "execution_count": 9,
   "metadata": {},
   "outputs": [
    {
     "data": {
      "text/plain": [
       "(340, 610)"
      ]
     },
     "execution_count": 9,
     "metadata": {},
     "output_type": "execute_result"
    }
   ],
   "source": [
    "M = X.T.mean(axis=0)\n",
    "M.shape"
   ]
  },
  {
   "cell_type": "code",
   "execution_count": 10,
   "metadata": {},
   "outputs": [
    {
     "data": {
      "text/plain": [
       "(610, 340)"
      ]
     },
     "execution_count": 10,
     "metadata": {},
     "output_type": "execute_result"
    }
   ],
   "source": [
    "M=M.T;\n",
    "M.shape"
   ]
  },
  {
   "cell_type": "code",
   "execution_count": 11,
   "metadata": {},
   "outputs": [
    {
     "data": {
      "text/plain": [
       "(340, 610)"
      ]
     },
     "execution_count": 11,
     "metadata": {},
     "output_type": "execute_result"
    }
   ],
   "source": [
    "M1=D1.T.mean(axis=0)\n",
    "M1.shape"
   ]
  },
  {
   "cell_type": "code",
   "execution_count": 12,
   "metadata": {},
   "outputs": [
    {
     "data": {
      "text/plain": [
       "(610, 340)"
      ]
     },
     "execution_count": 12,
     "metadata": {},
     "output_type": "execute_result"
    }
   ],
   "source": [
    "M1=M1.T;\n",
    "M1.shape"
   ]
  },
  {
   "cell_type": "code",
   "execution_count": 13,
   "metadata": {},
   "outputs": [
    {
     "data": {
      "text/plain": [
       "(340, 610)"
      ]
     },
     "execution_count": 13,
     "metadata": {},
     "output_type": "execute_result"
    }
   ],
   "source": [
    "M2=D2.T.mean(axis=0)\n",
    "M2.shape"
   ]
  },
  {
   "cell_type": "code",
   "execution_count": 14,
   "metadata": {},
   "outputs": [
    {
     "data": {
      "text/plain": [
       "(610, 340)"
      ]
     },
     "execution_count": 14,
     "metadata": {},
     "output_type": "execute_result"
    }
   ],
   "source": [
    "M2=M2.T;\n",
    "M2.shape"
   ]
  },
  {
   "cell_type": "code",
   "execution_count": 15,
   "metadata": {},
   "outputs": [
    {
     "data": {
      "text/plain": [
       "(340, 610)"
      ]
     },
     "execution_count": 15,
     "metadata": {},
     "output_type": "execute_result"
    }
   ],
   "source": [
    "M3=D3.T.mean(axis=0)\n",
    "M3.shape"
   ]
  },
  {
   "cell_type": "code",
   "execution_count": 16,
   "metadata": {},
   "outputs": [
    {
     "data": {
      "text/plain": [
       "(610, 340)"
      ]
     },
     "execution_count": 16,
     "metadata": {},
     "output_type": "execute_result"
    }
   ],
   "source": [
    "M3=M3.T;\n",
    "M3.shape"
   ]
  },
  {
   "cell_type": "code",
   "execution_count": 17,
   "metadata": {},
   "outputs": [
    {
     "data": {
      "text/plain": [
       "(610, 340, 36)"
      ]
     },
     "execution_count": 17,
     "metadata": {},
     "output_type": "execute_result"
    }
   ],
   "source": [
    "np.stack([M1 for _ in range(S1)], axis=2).shape"
   ]
  },
  {
   "cell_type": "code",
   "execution_count": 18,
   "metadata": {},
   "outputs": [
    {
     "data": {
      "text/plain": [
       "(207400, 36)"
      ]
     },
     "execution_count": 18,
     "metadata": {},
     "output_type": "execute_result"
    }
   ],
   "source": [
    "I1 = (D1 - np.stack([M1 for _ in range(S1)], axis=2)); \n",
    "I1 = I1.reshape(I1.shape[0]*I1.shape[1], I1.shape[2])\n",
    "I1.shape"
   ]
  },
  {
   "cell_type": "code",
   "execution_count": 19,
   "metadata": {},
   "outputs": [
    {
     "data": {
      "text/plain": [
       "(207400, 40)"
      ]
     },
     "execution_count": 19,
     "metadata": {},
     "output_type": "execute_result"
    }
   ],
   "source": [
    "I2 = (D2 - np.stack([M2 for _ in range(S2)], axis=2)); \n",
    "I2 = I2.reshape(I2.shape[0]*I2.shape[1], I2.shape[2])\n",
    "I2.shape"
   ]
  },
  {
   "cell_type": "code",
   "execution_count": 20,
   "metadata": {},
   "outputs": [
    {
     "data": {
      "text/plain": [
       "(207400, 27)"
      ]
     },
     "execution_count": 20,
     "metadata": {},
     "output_type": "execute_result"
    }
   ],
   "source": [
    "I3 = (D3 - np.stack([M3 for _ in range(S3)], axis=2)); \n",
    "I3 = I3.reshape(I3.shape[0]*I3.shape[1], I3.shape[2])\n",
    "I3.shape"
   ]
  },
  {
   "cell_type": "code",
   "execution_count": 21,
   "metadata": {},
   "outputs": [],
   "source": [
    "def applyPCA(X, numComponents, isReshape = True, drawPlot = False, layerNo = 1):\n",
    "    if isReshape == True:\n",
    "        newX = np.reshape(X, (-1, X.shape[2]))\n",
    "        pca = PCA(n_components=numComponents, whiten=True)\n",
    "        newX = pca.fit_transform(newX)\n",
    "        newX = np.reshape(newX, (X.shape[0],X.shape[1], numComponents))\n",
    "    else: \n",
    "        pca = PCA(n_components=numComponents, svd_solver='full')\n",
    "        newX = pca.fit_transform(X)\n",
    "        if drawPlot == True:\n",
    "            drawPCAPlot(pca.explained_variance_ratio_,numComponents, layerNo)\n",
    "    return newX, pca.explained_variance_ratio_"
   ]
  },
  {
   "cell_type": "code",
   "execution_count": 22,
   "metadata": {},
   "outputs": [
    {
     "data": {
      "text/plain": [
       "(207400, 14)"
      ]
     },
     "execution_count": 22,
     "metadata": {},
     "output_type": "execute_result"
    }
   ],
   "source": [
    "SX1,pca1 = applyPCA(I1,numComponents = 0.99,isReshape = False)\n",
    "SX1.shape"
   ]
  },
  {
   "cell_type": "code",
   "execution_count": 23,
   "metadata": {},
   "outputs": [
    {
     "data": {
      "text/plain": [
       "(207400, 4)"
      ]
     },
     "execution_count": 23,
     "metadata": {},
     "output_type": "execute_result"
    }
   ],
   "source": [
    "SX2,pca2 = applyPCA(I2,numComponents = 0.99,isReshape = False)\n",
    "SX2.shape"
   ]
  },
  {
   "cell_type": "code",
   "execution_count": 24,
   "metadata": {},
   "outputs": [
    {
     "data": {
      "text/plain": [
       "(207400, 11)"
      ]
     },
     "execution_count": 24,
     "metadata": {},
     "output_type": "execute_result"
    }
   ],
   "source": [
    "SX3,pca3 = applyPCA(I3,numComponents = 0.99,isReshape = False)\n",
    "SX3.shape"
   ]
  },
  {
   "cell_type": "code",
   "execution_count": 25,
   "metadata": {},
   "outputs": [
    {
     "data": {
      "text/plain": [
       "(207400, 29)"
      ]
     },
     "execution_count": 25,
     "metadata": {},
     "output_type": "execute_result"
    }
   ],
   "source": [
    "SX= np.concatenate([SX1.T,SX2.T,SX3.T])\n",
    "SX = SX.T\n",
    "SX.shape"
   ]
  },
  {
   "cell_type": "code",
   "execution_count": 26,
   "metadata": {},
   "outputs": [
    {
     "data": {
      "text/plain": [
       "array([0.58959249, 0.24414814, 0.05682211, 0.03068244, 0.01623541,\n",
       "       0.01578731, 0.01038694, 0.00750197, 0.00551206, 0.00414083,\n",
       "       0.00341495, 0.0026966 , 0.00220566, 0.00192146])"
      ]
     },
     "execution_count": 26,
     "metadata": {},
     "output_type": "execute_result"
    }
   ],
   "source": [
    "pca1"
   ]
  },
  {
   "cell_type": "code",
   "execution_count": 27,
   "metadata": {},
   "outputs": [
    {
     "data": {
      "text/plain": [
       "array([0.276, 0.497, 0.695, 0.777, 0.851, 0.901, 0.92 , 0.936, 0.946,\n",
       "       0.953, 0.959, 0.964, 0.969, 0.974, 0.977, 0.98 , 0.983, 0.985,\n",
       "       0.987, 0.989, 0.991, 0.992, 0.993, 0.994, 0.995, 0.996, 0.997,\n",
       "       0.998, 0.999])"
      ]
     },
     "execution_count": 27,
     "metadata": {},
     "output_type": "execute_result"
    }
   ],
   "source": [
    "pca_var = []\n",
    "pca_var = np.concatenate([pca1,pca2,pca3])\n",
    "pca_var = sorted(pca_var, reverse = True)\n",
    "MAX = max(np.cumsum(pca_var))\n",
    "pca_var = np.round((pca_var)/MAX,3)\n",
    "np.cumsum(pca_var)"
   ]
  },
  {
   "cell_type": "code",
   "execution_count": 28,
   "metadata": {},
   "outputs": [
    {
     "name": "stdout",
     "output_type": "stream",
     "text": [
      "[0.276 0.221 0.198 0.082 0.074 0.05  0.019 0.016 0.01  0.007 0.006 0.005\n",
      " 0.005 0.005 0.003 0.003 0.003 0.002 0.002 0.002 0.002 0.001 0.001 0.001\n",
      " 0.001 0.001 0.001 0.001 0.001]\n"
     ]
    },
    {
     "data": {
      "image/png": "[encoded data removed]",
      "text/plain": [
       "<Figure size 432x288 with 1 Axes>"
      ]
     },
     "metadata": {
      "needs_background": "light"
     },
     "output_type": "display_data"
    }
   ],
   "source": [
    "print(pca_var)\n",
    "plt.figure()\n",
    "plt.plot(np.cumsum(pca_var))\n",
    "plt.xlabel('Number of Components')\n",
    "plt.ylabel('Cumulative Variance') #for each component\n",
    "#plt.title('Pavia University Dataset Explained Variance')\n",
    "plt.savefig('Pavia_University_explainedvariance_final1')\n",
    "plt.show()"
   ]
  },
  {
   "cell_type": "code",
   "execution_count": 29,
   "metadata": {},
   "outputs": [],
   "source": [
    "y = y.ravel()"
   ]
  },
  {
   "cell_type": "code",
   "execution_count": 30,
   "metadata": {},
   "outputs": [
    {
     "name": "stdout",
     "output_type": "stream",
     "text": [
      "(207400, 29)\n",
      "(207400,)\n"
     ]
    }
   ],
   "source": [
    "print(SX.shape)\n",
    "print(y.shape)"
   ]
  },
  {
   "cell_type": "code",
   "execution_count": 31,
   "metadata": {},
   "outputs": [],
   "source": [
    "X = (SX[y>0,:])\n",
    "Y = (y[y>0])"
   ]
  },
  {
   "cell_type": "code",
   "execution_count": 32,
   "metadata": {},
   "outputs": [
    {
     "name": "stdout",
     "output_type": "stream",
     "text": [
      "(42776, 29)\n",
      "(42776,)\n"
     ]
    }
   ],
   "source": [
    "print(X.shape)\n",
    "print(Y.shape)"
   ]
  },
  {
   "cell_type": "code",
   "execution_count": 33,
   "metadata": {},
   "outputs": [],
   "source": [
    "from sklearn.model_selection import train_test_split\n",
    "X_train, X_test, y_train, y_test = train_test_split(X, Y, random_state = 10, test_size = 0.25, stratify=Y )"
   ]
  },
  {
   "cell_type": "code",
   "execution_count": 34,
   "metadata": {},
   "outputs": [
    {
     "name": "stdout",
     "output_type": "stream",
     "text": [
      "(32082, 29)\n",
      "(10694, 29)\n"
     ]
    }
   ],
   "source": [
    "print(X_train.shape)\n",
    "print(X_test.shape)"
   ]
  },
  {
   "cell_type": "code",
   "execution_count": 35,
   "metadata": {},
   "outputs": [
    {
     "name": "stdout",
     "output_type": "stream",
     "text": [
      "       0\n",
      "1   4973\n",
      "2  13987\n",
      "3   1574\n",
      "4   2298\n",
      "5   1009\n",
      "6   3772\n",
      "7    997\n",
      "8   2762\n",
      "9    710\n",
      "      0\n",
      "1  1658\n",
      "2  4662\n",
      "3   525\n",
      "4   766\n",
      "5   336\n",
      "6  1257\n",
      "7   333\n",
      "8   920\n",
      "9   237\n"
     ]
    }
   ],
   "source": [
    "label_tr,counts_tr=np.unique(y_train,return_counts=True)\n",
    "label_te,counts_te=np.unique(y_test,return_counts=True)\n",
    "print(pd.DataFrame(counts_tr,label_tr))\n",
    "print(pd.DataFrame(counts_te,label_te))"
   ]
  },
  {
   "cell_type": "code",
   "execution_count": 36,
   "metadata": {},
   "outputs": [],
   "source": [
    "#Applying Scalar to train and test Dataset\n",
    "\n",
    "from sklearn import preprocessing\n",
    "scaler = preprocessing.StandardScaler().fit(X_train) \n",
    "X_train= scaler.transform(X_train)\n",
    "X_test=scaler.transform(X_test)"
   ]
  },
  {
   "cell_type": "code",
   "execution_count": 37,
   "metadata": {},
   "outputs": [],
   "source": [
    "#Appplying SVM \n",
    "\n",
    "from sklearn.svm import SVC\n",
    "from sklearn import metrics"
   ]
  },
  {
   "cell_type": "code",
   "execution_count": 38,
   "metadata": {},
   "outputs": [
    {
     "name": "stdout",
     "output_type": "stream",
     "text": [
      "----------------------------------------------------------------\n",
      "C_train=  1  Best C_train =  1  gamma_train =  0.001  best_gamma_train=  0.001  Accuracy_train =  0.8376036406707811  Best Accuracy_train =  0.8376036406707811 \n",
      "\n",
      "C=  1  Best C =  1  gamma =  0.001  best_gamma=  0.001  Accuracy =  0.8342060968767533  Best Accuracy =  0.8342060968767533 \n",
      "\n",
      "----------------------------------------------------------------\n",
      "C_train=  1  Best C_train =  1  gamma_train =  0.006  best_gamma_train=  0.006  Accuracy_train =  0.8884421170749953  Best Accuracy_train =  0.8884421170749953 \n",
      "\n",
      "C=  1  Best C =  1  gamma =  0.006  best_gamma=  0.006  Accuracy =  0.8797456517673462  Best Accuracy =  0.8797456517673462 \n",
      "\n",
      "----------------------------------------------------------------\n",
      "C_train=  1  Best C_train =  1  gamma_train =  0.011  best_gamma_train=  0.011  Accuracy_train =  0.9089832304719158  Best Accuracy_train =  0.9089832304719158 \n",
      "\n",
      "C=  1  Best C =  1  gamma =  0.011  best_gamma=  0.011  Accuracy =  0.8985412380774266  Best Accuracy =  0.8985412380774266 \n",
      "\n",
      "----------------------------------------------------------------\n",
      "C_train=  1  Best C_train =  1  gamma_train =  0.016  best_gamma_train=  0.016  Accuracy_train =  0.9184901190698834  Best Accuracy_train =  0.9184901190698834 \n",
      "\n",
      "C=  1  Best C =  1  gamma =  0.016  best_gamma=  0.016  Accuracy =  0.9078922760426408  Best Accuracy =  0.9078922760426408 \n",
      "\n",
      "----------------------------------------------------------------\n",
      "C_train=  1  Best C_train =  1  gamma_train =  0.021  best_gamma_train=  0.021  Accuracy_train =  0.9253163767844897  Best Accuracy_train =  0.9253163767844897 \n",
      "\n",
      "C=  1  Best C =  1  gamma =  0.021  best_gamma=  0.021  Accuracy =  0.9122872638862913  Best Accuracy =  0.9122872638862913 \n",
      "\n",
      "----------------------------------------------------------------\n",
      "C_train=  1  Best C_train =  1  gamma_train =  0.026000000000000002  best_gamma_train=  0.026000000000000002  Accuracy_train =  0.9311763605760239  Best Accuracy_train =  0.9311763605760239 \n",
      "\n",
      "C=  1  Best C =  1  gamma =  0.026000000000000002  best_gamma=  0.026000000000000002  Accuracy =  0.9155601271741163  Best Accuracy =  0.9155601271741163 \n",
      "\n",
      "----------------------------------------------------------------\n",
      "C_train=  1  Best C_train =  1  gamma_train =  0.031  best_gamma_train=  0.031  Accuracy_train =  0.9362259210772396  Best Accuracy_train =  0.9362259210772396 \n",
      "\n",
      "C=  1  Best C =  1  gamma =  0.031  best_gamma=  0.031  Accuracy =  0.9181784178043763  Best Accuracy =  0.9181784178043763 \n",
      "\n",
      "----------------------------------------------------------------\n",
      "C_train=  1  Best C_train =  1  gamma_train =  0.036000000000000004  best_gamma_train=  0.036000000000000004  Accuracy_train =  0.9409326101863974  Best Accuracy_train =  0.9409326101863974 \n",
      "\n",
      "C=  1  Best C =  1  gamma =  0.036000000000000004  best_gamma=  0.031  Accuracy =  0.9180849074247242  Best Accuracy =  0.9181784178043763 \n",
      "\n",
      "----------------------------------------------------------------\n",
      "C_train=  1  Best C_train =  1  gamma_train =  0.041  best_gamma_train=  0.041  Accuracy_train =  0.945327598030048  Best Accuracy_train =  0.945327598030048 \n",
      "\n",
      "C=  1  Best C =  1  gamma =  0.041  best_gamma=  0.031  Accuracy =  0.9177108659061156  Best Accuracy =  0.9181784178043763 \n",
      "\n",
      "----------------------------------------------------------------\n",
      "C_train=  1  Best C_train =  1  gamma_train =  0.046  best_gamma_train=  0.046  Accuracy_train =  0.9489121625833801  Best Accuracy_train =  0.9489121625833801 \n",
      "\n",
      "C=  1  Best C =  1  gamma =  0.046  best_gamma=  0.031  Accuracy =  0.917336824387507  Best Accuracy =  0.9181784178043763 \n",
      "\n",
      "----------------------------------------------------------------\n",
      "C_train=  1  Best C_train =  1  gamma_train =  0.051000000000000004  best_gamma_train=  0.051000000000000004  Accuracy_train =  0.9529019387818715  Best Accuracy_train =  0.9529019387818715 \n",
      "\n",
      "C=  1  Best C =  1  gamma =  0.051000000000000004  best_gamma=  0.031  Accuracy =  0.9172433140078549  Best Accuracy =  0.9181784178043763 \n",
      "\n",
      "----------------------------------------------------------------\n",
      "C_train=  1  Best C_train =  1  gamma_train =  0.056  best_gamma_train=  0.056  Accuracy_train =  0.9564553332086528  Best Accuracy_train =  0.9564553332086528 \n",
      "\n",
      "C=  1  Best C =  1  gamma =  0.056  best_gamma=  0.031  Accuracy =  0.9167757621095942  Best Accuracy =  0.9181784178043763 \n",
      "\n",
      "----------------------------------------------------------------\n",
      "C_train=  1  Best C_train =  1  gamma_train =  0.061  best_gamma_train=  0.061  Accuracy_train =  0.9600710678885356  Best Accuracy_train =  0.9600710678885356 \n",
      "\n",
      "C=  1  Best C =  1  gamma =  0.061  best_gamma=  0.031  Accuracy =  0.9165887413502899  Best Accuracy =  0.9181784178043763 \n",
      "\n",
      "----------------------------------------------------------------\n",
      "C_train=  1  Best C_train =  1  gamma_train =  0.066  best_gamma_train=  0.066  Accuracy_train =  0.9632192506701577  Best Accuracy_train =  0.9632192506701577 \n",
      "\n",
      "C=  1  Best C =  1  gamma =  0.066  best_gamma=  0.031  Accuracy =  0.9152795960351598  Best Accuracy =  0.9181784178043763 \n",
      "\n",
      "----------------------------------------------------------------\n",
      "C_train=  1  Best C_train =  1  gamma_train =  0.07100000000000001  best_gamma_train=  0.07100000000000001  Accuracy_train =  0.9657440309207656  Best Accuracy_train =  0.9657440309207656 \n",
      "\n",
      "C=  1  Best C =  1  gamma =  0.07100000000000001  best_gamma=  0.031  Accuracy =  0.9143444922386385  Best Accuracy =  0.9181784178043763 \n",
      "\n",
      "----------------------------------------------------------------\n",
      "C_train=  1  Best C_train =  1  gamma_train =  0.076  best_gamma_train=  0.076  Accuracy_train =  0.9680817904120691  Best Accuracy_train =  0.9680817904120691 \n",
      "\n",
      "C=  1  Best C =  1  gamma =  0.076  best_gamma=  0.031  Accuracy =  0.9137834299607256  Best Accuracy =  0.9181784178043763 \n",
      "\n",
      "----------------------------------------------------------------\n",
      "C_train=  1  Best C_train =  1  gamma_train =  0.081  best_gamma_train=  0.081  Accuracy_train =  0.9702013590175176  Best Accuracy_train =  0.9702013590175176 \n",
      "\n",
      "C=  1  Best C =  1  gamma =  0.081  best_gamma=  0.031  Accuracy =  0.9121002431269871  Best Accuracy =  0.9181784178043763 \n",
      "\n",
      "----------------------------------------------------------------\n",
      "C_train=  1  Best C_train =  1  gamma_train =  0.08600000000000001  best_gamma_train=  0.08600000000000001  Accuracy_train =  0.9725702886353719  Best Accuracy_train =  0.9725702886353719 \n",
      "\n",
      "C=  1  Best C =  1  gamma =  0.08600000000000001  best_gamma=  0.031  Accuracy =  0.9105105666729006  Best Accuracy =  0.9181784178043763 \n",
      "\n",
      "----------------------------------------------------------------\n",
      "C_train=  1  Best C_train =  1  gamma_train =  0.091  best_gamma_train=  0.091  Accuracy_train =  0.9745340066080669  Best Accuracy_train =  0.9745340066080669 \n",
      "\n",
      "C=  1  Best C =  1  gamma =  0.091  best_gamma=  0.031  Accuracy =  0.908079296801945  Best Accuracy =  0.9181784178043763 \n",
      "\n",
      "----------------------------------------------------------------\n",
      "C_train=  1  Best C_train =  1  gamma_train =  0.096  best_gamma_train=  0.096  Accuracy_train =  0.9762795336949068  Best Accuracy_train =  0.9762795336949068 \n",
      "\n",
      "C=  1  Best C =  1  gamma =  0.096  best_gamma=  0.031  Accuracy =  0.9063025995885543  Best Accuracy =  0.9181784178043763 \n",
      "\n",
      "----------------------------------------------------------------\n",
      "C_train=  26  Best C_train =  1  gamma_train =  0.001  best_gamma_train=  0.096  Accuracy_train =  0.9004737859235709  Best Accuracy_train =  0.9762795336949068 \n",
      "\n",
      "C=  26  Best C =  1  gamma =  0.001  best_gamma=  0.031  Accuracy =  0.8932111464372545  Best Accuracy =  0.9181784178043763 \n",
      "\n",
      "----------------------------------------------------------------\n",
      "C_train=  26  Best C_train =  1  gamma_train =  0.006  best_gamma_train=  0.096  Accuracy_train =  0.9415560127174116  Best Accuracy_train =  0.9762795336949068 \n",
      "\n",
      "C=  26  Best C =  26  gamma =  0.006  best_gamma=  0.006  Accuracy =  0.927248924630634  Best Accuracy =  0.927248924630634 \n",
      "\n",
      "----------------------------------------------------------------\n",
      "C_train=  26  Best C_train =  1  gamma_train =  0.011  best_gamma_train=  0.096  Accuracy_train =  0.9591983043451157  Best Accuracy_train =  0.9762795336949068 \n",
      "\n",
      "C=  26  Best C =  26  gamma =  0.011  best_gamma=  0.011  Accuracy =  0.9289321114643726  Best Accuracy =  0.9289321114643726 \n",
      "\n",
      "----------------------------------------------------------------\n"
     ]
    },
    {
     "name": "stdout",
     "output_type": "stream",
     "text": [
      "C_train=  26  Best C_train =  1  gamma_train =  0.016  best_gamma_train=  0.096  Accuracy_train =  0.9718845458512562  Best Accuracy_train =  0.9762795336949068 \n",
      "\n",
      "C=  26  Best C =  26  gamma =  0.016  best_gamma=  0.011  Accuracy =  0.9278099869085469  Best Accuracy =  0.9289321114643726 \n",
      "\n",
      "----------------------------------------------------------------\n",
      "C_train=  26  Best C_train =  26  gamma_train =  0.021  best_gamma_train=  0.021  Accuracy_train =  0.9809238825509632  Best Accuracy_train =  0.9809238825509632 \n",
      "\n",
      "C=  26  Best C =  26  gamma =  0.021  best_gamma=  0.011  Accuracy =  0.9247241443800261  Best Accuracy =  0.9289321114643726 \n",
      "\n",
      "----------------------------------------------------------------\n",
      "C_train=  26  Best C_train =  26  gamma_train =  0.026000000000000002  best_gamma_train=  0.026000000000000002  Accuracy_train =  0.9877501402655695  Best Accuracy_train =  0.9877501402655695 \n",
      "\n",
      "C=  26  Best C =  26  gamma =  0.026000000000000002  best_gamma=  0.011  Accuracy =  0.9216383018515055  Best Accuracy =  0.9289321114643726 \n",
      "\n",
      "----------------------------------------------------------------\n",
      "C_train=  26  Best C_train =  26  gamma_train =  0.031  best_gamma_train=  0.031  Accuracy_train =  0.9925503397543795  Best Accuracy_train =  0.9925503397543795 \n",
      "\n",
      "C=  26  Best C =  26  gamma =  0.031  best_gamma=  0.011  Accuracy =  0.9195810734991584  Best Accuracy =  0.9289321114643726 \n",
      "\n",
      "----------------------------------------------------------------\n",
      "C_train=  26  Best C_train =  26  gamma_train =  0.036000000000000004  best_gamma_train=  0.036000000000000004  Accuracy_train =  0.9957608627891029  Best Accuracy_train =  0.9957608627891029 \n",
      "\n",
      "C=  26  Best C =  26  gamma =  0.036000000000000004  best_gamma=  0.011  Accuracy =  0.9163082102113335  Best Accuracy =  0.9289321114643726 \n",
      "\n",
      "----------------------------------------------------------------\n",
      "C_train=  26  Best C_train =  26  gamma_train =  0.041  best_gamma_train=  0.041  Accuracy_train =  0.9979116015211021  Best Accuracy_train =  0.9979116015211021 \n",
      "\n",
      "C=  26  Best C =  26  gamma =  0.041  best_gamma=  0.011  Accuracy =  0.9151860856555077  Best Accuracy =  0.9289321114643726 \n",
      "\n",
      "----------------------------------------------------------------\n",
      "C_train=  26  Best C_train =  26  gamma_train =  0.046  best_gamma_train=  0.046  Accuracy_train =  0.9985661741786672  Best Accuracy_train =  0.9985661741786672 \n",
      "\n",
      "C=  26  Best C =  26  gamma =  0.046  best_gamma=  0.011  Accuracy =  0.9135964092014214  Best Accuracy =  0.9289321114643726 \n",
      "\n",
      "----------------------------------------------------------------\n",
      "C_train=  26  Best C_train =  26  gamma_train =  0.051000000000000004  best_gamma_train=  0.051000000000000004  Accuracy_train =  0.9994389377220871  Best Accuracy_train =  0.9994389377220871 \n",
      "\n",
      "C=  26  Best C =  26  gamma =  0.051000000000000004  best_gamma=  0.011  Accuracy =  0.9135028988217693  Best Accuracy =  0.9289321114643726 \n",
      "\n",
      "----------------------------------------------------------------\n",
      "C_train=  26  Best C_train =  26  gamma_train =  0.056  best_gamma_train=  0.056  Accuracy_train =  0.9996882987344928  Best Accuracy_train =  0.9996882987344928 \n",
      "\n",
      "C=  26  Best C =  26  gamma =  0.056  best_gamma=  0.011  Accuracy =  0.9112586497101178  Best Accuracy =  0.9289321114643726 \n",
      "\n",
      "----------------------------------------------------------------\n",
      "C_train=  26  Best C_train =  26  gamma_train =  0.061  best_gamma_train=  0.061  Accuracy_train =  0.9999064896203479  Best Accuracy_train =  0.9999064896203479 \n",
      "\n",
      "C=  26  Best C =  26  gamma =  0.061  best_gamma=  0.011  Accuracy =  0.9109781185711614  Best Accuracy =  0.9289321114643726 \n",
      "\n",
      "----------------------------------------------------------------\n",
      "C_train=  26  Best C_train =  26  gamma_train =  0.066  best_gamma_train=  0.066  Accuracy_train =  0.9999688298734493  Best Accuracy_train =  0.9999688298734493 \n",
      "\n",
      "C=  26  Best C =  26  gamma =  0.066  best_gamma=  0.011  Accuracy =  0.91004301477464  Best Accuracy =  0.9289321114643726 \n",
      "\n",
      "----------------------------------------------------------------\n",
      "C_train=  26  Best C_train =  26  gamma_train =  0.07100000000000001  best_gamma_train=  0.07100000000000001  Accuracy_train =  1.0  Best Accuracy_train =  1.0 \n",
      "\n",
      "C=  26  Best C =  26  gamma =  0.07100000000000001  best_gamma=  0.011  Accuracy =  0.91004301477464  Best Accuracy =  0.9289321114643726 \n",
      "\n",
      "----------------------------------------------------------------\n",
      "C_train=  26  Best C_train =  26  gamma_train =  0.076  best_gamma_train=  0.07100000000000001  Accuracy_train =  1.0  Best Accuracy_train =  1.0 \n",
      "\n",
      "C=  26  Best C =  26  gamma =  0.076  best_gamma=  0.011  Accuracy =  0.9098559940153357  Best Accuracy =  0.9289321114643726 \n",
      "\n",
      "----------------------------------------------------------------\n",
      "C_train=  26  Best C_train =  26  gamma_train =  0.081  best_gamma_train=  0.07100000000000001  Accuracy_train =  1.0  Best Accuracy_train =  1.0 \n",
      "\n",
      "C=  26  Best C =  26  gamma =  0.081  best_gamma=  0.011  Accuracy =  0.9092014213577707  Best Accuracy =  0.9289321114643726 \n",
      "\n",
      "----------------------------------------------------------------\n",
      "C_train=  26  Best C_train =  26  gamma_train =  0.08600000000000001  best_gamma_train=  0.07100000000000001  Accuracy_train =  1.0  Best Accuracy_train =  1.0 \n",
      "\n",
      "C=  26  Best C =  26  gamma =  0.08600000000000001  best_gamma=  0.011  Accuracy =  0.9079857864222929  Best Accuracy =  0.9289321114643726 \n",
      "\n",
      "----------------------------------------------------------------\n",
      "C_train=  26  Best C_train =  26  gamma_train =  0.091  best_gamma_train=  0.07100000000000001  Accuracy_train =  1.0  Best Accuracy_train =  1.0 \n",
      "\n",
      "C=  26  Best C =  26  gamma =  0.091  best_gamma=  0.011  Accuracy =  0.9059285580699458  Best Accuracy =  0.9289321114643726 \n",
      "\n",
      "----------------------------------------------------------------\n",
      "C_train=  26  Best C_train =  26  gamma_train =  0.096  best_gamma_train=  0.07100000000000001  Accuracy_train =  1.0  Best Accuracy_train =  1.0 \n",
      "\n",
      "C=  26  Best C =  26  gamma =  0.096  best_gamma=  0.011  Accuracy =  0.904058350476903  Best Accuracy =  0.9289321114643726 \n",
      "\n",
      "----------------------------------------------------------------\n",
      "C_train=  51  Best C_train =  26  gamma_train =  0.001  best_gamma_train=  0.07100000000000001  Accuracy_train =  0.9083286578143507  Best Accuracy_train =  1.0 \n",
      "\n",
      "C=  51  Best C =  26  gamma =  0.001  best_gamma=  0.011  Accuracy =  0.9021881428838601  Best Accuracy =  0.9289321114643726 \n",
      "\n",
      "----------------------------------------------------------------\n",
      "C_train=  51  Best C_train =  26  gamma_train =  0.006  best_gamma_train=  0.07100000000000001  Accuracy_train =  0.9496602456205973  Best Accuracy_train =  1.0 \n",
      "\n",
      "C=  51  Best C =  26  gamma =  0.006  best_gamma=  0.011  Accuracy =  0.9284645595661118  Best Accuracy =  0.9289321114643726 \n",
      "\n",
      "----------------------------------------------------------------\n",
      "C_train=  51  Best C_train =  26  gamma_train =  0.011  best_gamma_train=  0.07100000000000001  Accuracy_train =  0.9686740228165326  Best Accuracy_train =  1.0 \n",
      "\n",
      "C=  51  Best C =  26  gamma =  0.011  best_gamma=  0.011  Accuracy =  0.9274359453899382  Best Accuracy =  0.9289321114643726 \n",
      "\n",
      "----------------------------------------------------------------\n",
      "C_train=  51  Best C_train =  26  gamma_train =  0.016  best_gamma_train=  0.07100000000000001  Accuracy_train =  0.9809862228040646  Best Accuracy_train =  1.0 \n",
      "\n",
      "C=  51  Best C =  26  gamma =  0.016  best_gamma=  0.011  Accuracy =  0.9260332896951562  Best Accuracy =  0.9289321114643726 \n",
      "\n",
      "----------------------------------------------------------------\n",
      "C_train=  51  Best C_train =  26  gamma_train =  0.021  best_gamma_train=  0.07100000000000001  Accuracy_train =  0.9888722648213951  Best Accuracy_train =  1.0 \n",
      "\n",
      "C=  51  Best C =  26  gamma =  0.021  best_gamma=  0.011  Accuracy =  0.9225734056480269  Best Accuracy =  0.9289321114643726 \n",
      "\n",
      "----------------------------------------------------------------\n",
      "C_train=  51  Best C_train =  26  gamma_train =  0.026000000000000002  best_gamma_train=  0.07100000000000001  Accuracy_train =  0.9944205473474222  Best Accuracy_train =  1.0 \n",
      "\n",
      "C=  51  Best C =  26  gamma =  0.026000000000000002  best_gamma=  0.011  Accuracy =  0.9174303347671592  Best Accuracy =  0.9289321114643726 \n",
      "\n",
      "----------------------------------------------------------------\n"
     ]
    },
    {
     "name": "stdout",
     "output_type": "stream",
     "text": [
      "C_train=  51  Best C_train =  26  gamma_train =  0.031  best_gamma_train=  0.07100000000000001  Accuracy_train =  0.9975999002555951  Best Accuracy_train =  1.0 \n",
      "\n",
      "C=  51  Best C =  26  gamma =  0.031  best_gamma=  0.011  Accuracy =  0.9153731064148121  Best Accuracy =  0.9289321114643726 \n",
      "\n",
      "----------------------------------------------------------------\n",
      "C_train=  51  Best C_train =  26  gamma_train =  0.036000000000000004  best_gamma_train=  0.07100000000000001  Accuracy_train =  0.9987531949379714  Best Accuracy_train =  1.0 \n",
      "\n",
      "C=  51  Best C =  26  gamma =  0.036000000000000004  best_gamma=  0.011  Accuracy =  0.9137834299607256  Best Accuracy =  0.9289321114643726 \n",
      "\n",
      "----------------------------------------------------------------\n",
      "C_train=  51  Best C_train =  26  gamma_train =  0.041  best_gamma_train=  0.07100000000000001  Accuracy_train =  0.9995324481017392  Best Accuracy_train =  1.0 \n",
      "\n",
      "C=  51  Best C =  26  gamma =  0.041  best_gamma=  0.011  Accuracy =  0.9125677950252478  Best Accuracy =  0.9289321114643726 \n",
      "\n",
      "----------------------------------------------------------------\n",
      "C_train=  51  Best C_train =  26  gamma_train =  0.046  best_gamma_train=  0.07100000000000001  Accuracy_train =  0.9998753194937972  Best Accuracy_train =  1.0 \n",
      "\n",
      "C=  51  Best C =  26  gamma =  0.046  best_gamma=  0.011  Accuracy =  0.9118197119880307  Best Accuracy =  0.9289321114643726 \n",
      "\n",
      "----------------------------------------------------------------\n",
      "C_train=  51  Best C_train =  26  gamma_train =  0.051000000000000004  best_gamma_train=  0.07100000000000001  Accuracy_train =  0.9999688298734493  Best Accuracy_train =  1.0 \n",
      "\n",
      "C=  51  Best C =  26  gamma =  0.051000000000000004  best_gamma=  0.011  Accuracy =  0.9110716289508135  Best Accuracy =  0.9289321114643726 \n",
      "\n",
      "----------------------------------------------------------------\n",
      "C_train=  51  Best C_train =  26  gamma_train =  0.056  best_gamma_train=  0.07100000000000001  Accuracy_train =  1.0  Best Accuracy_train =  1.0 \n",
      "\n",
      "C=  51  Best C =  26  gamma =  0.056  best_gamma=  0.011  Accuracy =  0.9110716289508135  Best Accuracy =  0.9289321114643726 \n",
      "\n",
      "----------------------------------------------------------------\n",
      "C_train=  51  Best C_train =  26  gamma_train =  0.061  best_gamma_train=  0.07100000000000001  Accuracy_train =  1.0  Best Accuracy_train =  1.0 \n",
      "\n",
      "C=  51  Best C =  26  gamma =  0.061  best_gamma=  0.011  Accuracy =  0.9104170562932485  Best Accuracy =  0.9289321114643726 \n",
      "\n",
      "----------------------------------------------------------------\n",
      "C_train=  51  Best C_train =  26  gamma_train =  0.066  best_gamma_train=  0.07100000000000001  Accuracy_train =  1.0  Best Accuracy_train =  1.0 \n",
      "\n",
      "C=  51  Best C =  26  gamma =  0.066  best_gamma=  0.011  Accuracy =  0.9099495043949879  Best Accuracy =  0.9289321114643726 \n",
      "\n",
      "----------------------------------------------------------------\n",
      "C_train=  51  Best C_train =  26  gamma_train =  0.07100000000000001  best_gamma_train=  0.07100000000000001  Accuracy_train =  1.0  Best Accuracy_train =  1.0 \n",
      "\n",
      "C=  51  Best C =  26  gamma =  0.07100000000000001  best_gamma=  0.011  Accuracy =  0.9095754628763792  Best Accuracy =  0.9289321114643726 \n",
      "\n",
      "----------------------------------------------------------------\n",
      "C_train=  51  Best C_train =  26  gamma_train =  0.076  best_gamma_train=  0.07100000000000001  Accuracy_train =  1.0  Best Accuracy_train =  1.0 \n",
      "\n",
      "C=  51  Best C =  26  gamma =  0.076  best_gamma=  0.011  Accuracy =  0.9094819524967271  Best Accuracy =  0.9289321114643726 \n",
      "\n",
      "----------------------------------------------------------------\n",
      "C_train=  51  Best C_train =  26  gamma_train =  0.081  best_gamma_train=  0.07100000000000001  Accuracy_train =  1.0  Best Accuracy_train =  1.0 \n",
      "\n",
      "C=  51  Best C =  26  gamma =  0.081  best_gamma=  0.011  Accuracy =  0.9091079109781186  Best Accuracy =  0.9289321114643726 \n",
      "\n",
      "----------------------------------------------------------------\n",
      "C_train=  51  Best C_train =  26  gamma_train =  0.08600000000000001  best_gamma_train=  0.07100000000000001  Accuracy_train =  1.0  Best Accuracy_train =  1.0 \n",
      "\n",
      "C=  51  Best C =  26  gamma =  0.08600000000000001  best_gamma=  0.011  Accuracy =  0.9079857864222929  Best Accuracy =  0.9289321114643726 \n",
      "\n",
      "----------------------------------------------------------------\n",
      "C_train=  51  Best C_train =  26  gamma_train =  0.091  best_gamma_train=  0.07100000000000001  Accuracy_train =  1.0  Best Accuracy_train =  1.0 \n",
      "\n",
      "C=  51  Best C =  26  gamma =  0.091  best_gamma=  0.011  Accuracy =  0.9059285580699458  Best Accuracy =  0.9289321114643726 \n",
      "\n",
      "----------------------------------------------------------------\n",
      "C_train=  51  Best C_train =  26  gamma_train =  0.096  best_gamma_train=  0.07100000000000001  Accuracy_train =  1.0  Best Accuracy_train =  1.0 \n",
      "\n",
      "C=  51  Best C =  26  gamma =  0.096  best_gamma=  0.011  Accuracy =  0.904058350476903  Best Accuracy =  0.9289321114643726 \n",
      "\n",
      "----------------------------------------------------------------\n",
      "C_train=  76  Best C_train =  26  gamma_train =  0.001  best_gamma_train=  0.07100000000000001  Accuracy_train =  0.913752259834175  Best Accuracy_train =  1.0 \n",
      "\n",
      "C=  76  Best C =  26  gamma =  0.001  best_gamma=  0.011  Accuracy =  0.9067701514868151  Best Accuracy =  0.9289321114643726 \n",
      "\n",
      "----------------------------------------------------------------\n",
      "C_train=  76  Best C_train =  26  gamma_train =  0.006  best_gamma_train=  0.07100000000000001  Accuracy_train =  0.9550526775138707  Best Accuracy_train =  1.0 \n",
      "\n",
      "C=  76  Best C =  26  gamma =  0.006  best_gamma=  0.011  Accuracy =  0.9288386010847204  Best Accuracy =  0.9289321114643726 \n",
      "\n",
      "----------------------------------------------------------------\n",
      "C_train=  76  Best C_train =  26  gamma_train =  0.011  best_gamma_train=  0.07100000000000001  Accuracy_train =  0.9744716663549654  Best Accuracy_train =  1.0 \n",
      "\n",
      "C=  76  Best C =  26  gamma =  0.011  best_gamma=  0.011  Accuracy =  0.9284645595661118  Best Accuracy =  0.9289321114643726 \n",
      "\n",
      "----------------------------------------------------------------\n",
      "C_train=  76  Best C_train =  26  gamma_train =  0.016  best_gamma_train=  0.07100000000000001  Accuracy_train =  0.9853500405211645  Best Accuracy_train =  1.0 \n",
      "\n",
      "C=  76  Best C =  26  gamma =  0.016  best_gamma=  0.011  Accuracy =  0.9236020198242005  Best Accuracy =  0.9289321114643726 \n",
      "\n",
      "----------------------------------------------------------------\n",
      "C_train=  76  Best C_train =  26  gamma_train =  0.021  best_gamma_train=  0.07100000000000001  Accuracy_train =  0.9931737422853937  Best Accuracy_train =  1.0 \n",
      "\n",
      "C=  76  Best C =  26  gamma =  0.021  best_gamma=  0.011  Accuracy =  0.9194875631195063  Best Accuracy =  0.9289321114643726 \n",
      "\n",
      "----------------------------------------------------------------\n",
      "C_train=  76  Best C_train =  26  gamma_train =  0.026000000000000002  best_gamma_train=  0.07100000000000001  Accuracy_train =  0.9971323483573343  Best Accuracy_train =  1.0 \n",
      "\n",
      "C=  76  Best C =  26  gamma =  0.026000000000000002  best_gamma=  0.011  Accuracy =  0.9150925752758556  Best Accuracy =  0.9289321114643726 \n",
      "\n",
      "----------------------------------------------------------------\n",
      "C_train=  76  Best C_train =  26  gamma_train =  0.031  best_gamma_train=  0.07100000000000001  Accuracy_train =  0.9988467053176235  Best Accuracy_train =  1.0 \n",
      "\n",
      "C=  76  Best C =  26  gamma =  0.031  best_gamma=  0.011  Accuracy =  0.9144380026182907  Best Accuracy =  0.9289321114643726 \n",
      "\n",
      "----------------------------------------------------------------\n",
      "C_train=  76  Best C_train =  26  gamma_train =  0.036000000000000004  best_gamma_train=  0.07100000000000001  Accuracy_train =  0.99956361822829  Best Accuracy_train =  1.0 \n",
      "\n",
      "C=  76  Best C =  26  gamma =  0.036000000000000004  best_gamma=  0.011  Accuracy =  0.9110716289508135  Best Accuracy =  0.9289321114643726 \n",
      "\n",
      "----------------------------------------------------------------\n",
      "C_train=  76  Best C_train =  26  gamma_train =  0.041  best_gamma_train=  0.07100000000000001  Accuracy_train =  0.9999688298734493  Best Accuracy_train =  1.0 \n",
      "\n",
      "C=  76  Best C =  26  gamma =  0.041  best_gamma=  0.011  Accuracy =  0.9119132223676828  Best Accuracy =  0.9289321114643726 \n",
      "\n",
      "----------------------------------------------------------------\n"
     ]
    },
    {
     "name": "stdout",
     "output_type": "stream",
     "text": [
      "C_train=  76  Best C_train =  26  gamma_train =  0.046  best_gamma_train=  0.07100000000000001  Accuracy_train =  1.0  Best Accuracy_train =  1.0 \n",
      "\n",
      "C=  76  Best C =  26  gamma =  0.046  best_gamma=  0.011  Accuracy =  0.9111651393304657  Best Accuracy =  0.9289321114643726 \n",
      "\n",
      "----------------------------------------------------------------\n",
      "C_train=  76  Best C_train =  26  gamma_train =  0.051000000000000004  best_gamma_train=  0.07100000000000001  Accuracy_train =  1.0  Best Accuracy_train =  1.0 \n",
      "\n",
      "C=  76  Best C =  26  gamma =  0.051000000000000004  best_gamma=  0.011  Accuracy =  0.910697587432205  Best Accuracy =  0.9289321114643726 \n",
      "\n",
      "----------------------------------------------------------------\n",
      "C_train=  76  Best C_train =  26  gamma_train =  0.056  best_gamma_train=  0.07100000000000001  Accuracy_train =  1.0  Best Accuracy_train =  1.0 \n",
      "\n",
      "C=  76  Best C =  26  gamma =  0.056  best_gamma=  0.011  Accuracy =  0.9108846081915093  Best Accuracy =  0.9289321114643726 \n",
      "\n",
      "----------------------------------------------------------------\n",
      "C_train=  76  Best C_train =  26  gamma_train =  0.061  best_gamma_train=  0.07100000000000001  Accuracy_train =  1.0  Best Accuracy_train =  1.0 \n",
      "\n",
      "C=  76  Best C =  26  gamma =  0.061  best_gamma=  0.011  Accuracy =  0.9105105666729006  Best Accuracy =  0.9289321114643726 \n",
      "\n",
      "----------------------------------------------------------------\n",
      "C_train=  76  Best C_train =  26  gamma_train =  0.066  best_gamma_train=  0.07100000000000001  Accuracy_train =  1.0  Best Accuracy_train =  1.0 \n",
      "\n",
      "C=  76  Best C =  26  gamma =  0.066  best_gamma=  0.011  Accuracy =  0.9099495043949879  Best Accuracy =  0.9289321114643726 \n",
      "\n",
      "----------------------------------------------------------------\n",
      "C_train=  76  Best C_train =  26  gamma_train =  0.07100000000000001  best_gamma_train=  0.07100000000000001  Accuracy_train =  1.0  Best Accuracy_train =  1.0 \n",
      "\n",
      "C=  76  Best C =  26  gamma =  0.07100000000000001  best_gamma=  0.011  Accuracy =  0.9095754628763792  Best Accuracy =  0.9289321114643726 \n",
      "\n",
      "----------------------------------------------------------------\n",
      "C_train=  76  Best C_train =  26  gamma_train =  0.076  best_gamma_train=  0.07100000000000001  Accuracy_train =  1.0  Best Accuracy_train =  1.0 \n",
      "\n",
      "C=  76  Best C =  26  gamma =  0.076  best_gamma=  0.011  Accuracy =  0.9094819524967271  Best Accuracy =  0.9289321114643726 \n",
      "\n",
      "----------------------------------------------------------------\n",
      "C_train=  76  Best C_train =  26  gamma_train =  0.081  best_gamma_train=  0.07100000000000001  Accuracy_train =  1.0  Best Accuracy_train =  1.0 \n",
      "\n",
      "C=  76  Best C =  26  gamma =  0.081  best_gamma=  0.011  Accuracy =  0.9091079109781186  Best Accuracy =  0.9289321114643726 \n",
      "\n",
      "----------------------------------------------------------------\n",
      "C_train=  76  Best C_train =  26  gamma_train =  0.08600000000000001  best_gamma_train=  0.07100000000000001  Accuracy_train =  1.0  Best Accuracy_train =  1.0 \n",
      "\n",
      "C=  76  Best C =  26  gamma =  0.08600000000000001  best_gamma=  0.011  Accuracy =  0.9079857864222929  Best Accuracy =  0.9289321114643726 \n",
      "\n",
      "----------------------------------------------------------------\n",
      "C_train=  76  Best C_train =  26  gamma_train =  0.091  best_gamma_train=  0.07100000000000001  Accuracy_train =  1.0  Best Accuracy_train =  1.0 \n",
      "\n",
      "C=  76  Best C =  26  gamma =  0.091  best_gamma=  0.011  Accuracy =  0.9059285580699458  Best Accuracy =  0.9289321114643726 \n",
      "\n",
      "----------------------------------------------------------------\n",
      "C_train=  76  Best C_train =  26  gamma_train =  0.096  best_gamma_train=  0.07100000000000001  Accuracy_train =  1.0  Best Accuracy_train =  1.0 \n",
      "\n",
      "C=  76  Best C =  26  gamma =  0.096  best_gamma=  0.011  Accuracy =  0.904058350476903  Best Accuracy =  0.9289321114643726 \n",
      "\n",
      "----------------------------------------------------------------\n",
      "C_train=  101  Best C_train =  26  gamma_train =  0.001  best_gamma_train=  0.07100000000000001  Accuracy_train =  0.9169627828688984  Best Accuracy_train =  1.0 \n",
      "\n",
      "C=  101  Best C =  26  gamma =  0.001  best_gamma=  0.011  Accuracy =  0.9107910978118571  Best Accuracy =  0.9289321114643726 \n",
      "\n",
      "----------------------------------------------------------------\n",
      "C_train=  101  Best C_train =  26  gamma_train =  0.006  best_gamma_train=  0.07100000000000001  Accuracy_train =  0.9581073499158407  Best Accuracy_train =  1.0 \n",
      "\n",
      "C=  101  Best C =  101  gamma =  0.006  best_gamma=  0.006  Accuracy =  0.9294931737422854  Best Accuracy =  0.9294931737422854 \n",
      "\n",
      "----------------------------------------------------------------\n",
      "C_train=  101  Best C_train =  26  gamma_train =  0.011  best_gamma_train=  0.07100000000000001  Accuracy_train =  0.9780250607817468  Best Accuracy_train =  1.0 \n",
      "\n",
      "C=  101  Best C =  101  gamma =  0.011  best_gamma=  0.006  Accuracy =  0.9271554142509819  Best Accuracy =  0.9294931737422854 \n",
      "\n",
      "----------------------------------------------------------------\n",
      "C_train=  101  Best C_train =  26  gamma_train =  0.016  best_gamma_train=  0.07100000000000001  Accuracy_train =  0.9887475843151923  Best Accuracy_train =  1.0 \n",
      "\n",
      "C=  101  Best C =  101  gamma =  0.016  best_gamma=  0.006  Accuracy =  0.9236020198242005  Best Accuracy =  0.9294931737422854 \n",
      "\n",
      "----------------------------------------------------------------\n",
      "C_train=  101  Best C_train =  26  gamma_train =  0.021  best_gamma_train=  0.07100000000000001  Accuracy_train =  0.9952933108908422  Best Accuracy_train =  1.0 \n",
      "\n",
      "C=  101  Best C =  101  gamma =  0.021  best_gamma=  0.006  Accuracy =  0.9172433140078549  Best Accuracy =  0.9294931737422854 \n",
      "\n",
      "----------------------------------------------------------------\n",
      "C_train=  101  Best C_train =  26  gamma_train =  0.026000000000000002  best_gamma_train=  0.07100000000000001  Accuracy_train =  0.9984103235459136  Best Accuracy_train =  1.0 \n",
      "\n",
      "C=  101  Best C =  101  gamma =  0.026000000000000002  best_gamma=  0.006  Accuracy =  0.9141574714793342  Best Accuracy =  0.9294931737422854 \n",
      "\n",
      "----------------------------------------------------------------\n",
      "C_train=  101  Best C_train =  26  gamma_train =  0.031  best_gamma_train=  0.07100000000000001  Accuracy_train =  0.9994389377220871  Best Accuracy_train =  1.0 \n",
      "\n",
      "C=  101  Best C =  101  gamma =  0.031  best_gamma=  0.006  Accuracy =  0.9128483261642042  Best Accuracy =  0.9294931737422854 \n",
      "\n",
      "----------------------------------------------------------------\n",
      "C_train=  101  Best C_train =  26  gamma_train =  0.036000000000000004  best_gamma_train=  0.07100000000000001  Accuracy_train =  0.9999064896203479  Best Accuracy_train =  1.0 \n",
      "\n",
      "C=  101  Best C =  101  gamma =  0.036000000000000004  best_gamma=  0.006  Accuracy =  0.9113521600897699  Best Accuracy =  0.9294931737422854 \n",
      "\n",
      "----------------------------------------------------------------\n",
      "C_train=  101  Best C_train =  26  gamma_train =  0.041  best_gamma_train=  0.07100000000000001  Accuracy_train =  1.0  Best Accuracy_train =  1.0 \n",
      "\n",
      "C=  101  Best C =  101  gamma =  0.041  best_gamma=  0.006  Accuracy =  0.9108846081915093  Best Accuracy =  0.9294931737422854 \n",
      "\n",
      "----------------------------------------------------------------\n",
      "C_train=  101  Best C_train =  26  gamma_train =  0.046  best_gamma_train=  0.07100000000000001  Accuracy_train =  1.0  Best Accuracy_train =  1.0 \n",
      "\n",
      "C=  101  Best C =  101  gamma =  0.046  best_gamma=  0.006  Accuracy =  0.9104170562932485  Best Accuracy =  0.9294931737422854 \n",
      "\n",
      "----------------------------------------------------------------\n",
      "C_train=  101  Best C_train =  26  gamma_train =  0.051000000000000004  best_gamma_train=  0.07100000000000001  Accuracy_train =  1.0  Best Accuracy_train =  1.0 \n",
      "\n",
      "C=  101  Best C =  101  gamma =  0.051000000000000004  best_gamma=  0.006  Accuracy =  0.9103235459135964  Best Accuracy =  0.9294931737422854 \n",
      "\n",
      "----------------------------------------------------------------\n",
      "C_train=  101  Best C_train =  26  gamma_train =  0.056  best_gamma_train=  0.07100000000000001  Accuracy_train =  1.0  Best Accuracy_train =  1.0 \n",
      "\n",
      "C=  101  Best C =  101  gamma =  0.056  best_gamma=  0.006  Accuracy =  0.9108846081915093  Best Accuracy =  0.9294931737422854 \n",
      "\n",
      "----------------------------------------------------------------\n",
      "C_train=  101  Best C_train =  26  gamma_train =  0.061  best_gamma_train=  0.07100000000000001  Accuracy_train =  1.0  Best Accuracy_train =  1.0 \n",
      "\n",
      "C=  101  Best C =  101  gamma =  0.061  best_gamma=  0.006  Accuracy =  0.9105105666729006  Best Accuracy =  0.9294931737422854 \n",
      "\n",
      "----------------------------------------------------------------\n"
     ]
    },
    {
     "name": "stdout",
     "output_type": "stream",
     "text": [
      "C_train=  101  Best C_train =  26  gamma_train =  0.066  best_gamma_train=  0.07100000000000001  Accuracy_train =  1.0  Best Accuracy_train =  1.0 \n",
      "\n",
      "C=  101  Best C =  101  gamma =  0.066  best_gamma=  0.006  Accuracy =  0.9099495043949879  Best Accuracy =  0.9294931737422854 \n",
      "\n",
      "----------------------------------------------------------------\n",
      "C_train=  101  Best C_train =  26  gamma_train =  0.07100000000000001  best_gamma_train=  0.07100000000000001  Accuracy_train =  1.0  Best Accuracy_train =  1.0 \n",
      "\n",
      "C=  101  Best C =  101  gamma =  0.07100000000000001  best_gamma=  0.006  Accuracy =  0.9095754628763792  Best Accuracy =  0.9294931737422854 \n",
      "\n",
      "----------------------------------------------------------------\n",
      "C_train=  101  Best C_train =  26  gamma_train =  0.076  best_gamma_train=  0.07100000000000001  Accuracy_train =  1.0  Best Accuracy_train =  1.0 \n",
      "\n",
      "C=  101  Best C =  101  gamma =  0.076  best_gamma=  0.006  Accuracy =  0.9094819524967271  Best Accuracy =  0.9294931737422854 \n",
      "\n",
      "----------------------------------------------------------------\n",
      "C_train=  101  Best C_train =  26  gamma_train =  0.081  best_gamma_train=  0.07100000000000001  Accuracy_train =  1.0  Best Accuracy_train =  1.0 \n",
      "\n",
      "C=  101  Best C =  101  gamma =  0.081  best_gamma=  0.006  Accuracy =  0.9091079109781186  Best Accuracy =  0.9294931737422854 \n",
      "\n",
      "----------------------------------------------------------------\n",
      "C_train=  101  Best C_train =  26  gamma_train =  0.08600000000000001  best_gamma_train=  0.07100000000000001  Accuracy_train =  1.0  Best Accuracy_train =  1.0 \n",
      "\n",
      "C=  101  Best C =  101  gamma =  0.08600000000000001  best_gamma=  0.006  Accuracy =  0.9079857864222929  Best Accuracy =  0.9294931737422854 \n",
      "\n",
      "----------------------------------------------------------------\n",
      "C_train=  101  Best C_train =  26  gamma_train =  0.091  best_gamma_train=  0.07100000000000001  Accuracy_train =  1.0  Best Accuracy_train =  1.0 \n",
      "\n",
      "C=  101  Best C =  101  gamma =  0.091  best_gamma=  0.006  Accuracy =  0.9059285580699458  Best Accuracy =  0.9294931737422854 \n",
      "\n",
      "----------------------------------------------------------------\n",
      "C_train=  101  Best C_train =  26  gamma_train =  0.096  best_gamma_train=  0.07100000000000001  Accuracy_train =  1.0  Best Accuracy_train =  1.0 \n",
      "\n",
      "C=  101  Best C =  101  gamma =  0.096  best_gamma=  0.006  Accuracy =  0.904058350476903  Best Accuracy =  0.9294931737422854 \n",
      "\n"
     ]
    }
   ],
   "source": [
    "classifiers = []\n",
    "\n",
    "Train_acc=[]\n",
    "Valid_acc=[]\n",
    "accuracy = -1\n",
    "accuracy_train = -1\n",
    "for C in np.arange(1,102,25):\n",
    "    for gamma in np.arange(0.001,0.1,0.005):\n",
    "        \n",
    "        clf = SVC(C=C, gamma=gamma)\n",
    "        print(\"----------------------------------------------------------------\")\n",
    "        clf.fit(X_train, y_train)\n",
    "        classifiers.append((C, gamma, clf))\n",
    "        y_pred = clf.predict(X_train)\n",
    "        acc_train =metrics.accuracy_score(y_train, y_pred)\n",
    "        Train_acc.append(acc_train)\n",
    "        y_pred = clf.predict(X_test)\n",
    "        acc=metrics.accuracy_score(y_test, y_pred)\n",
    "        Valid_acc.append(acc)\n",
    "        if (acc_train>accuracy_train):\n",
    "            \n",
    "            accuracy_train=acc_train\n",
    "            best_c_train = C\n",
    "            best_g_train=gamma\n",
    "        print(\"C_train= \",C,\" Best C_train = \",best_c_train,\" gamma_train = \",gamma,\" best_gamma_train= \",best_g_train,\" Accuracy_train = \",acc_train,\" Best Accuracy_train = \",accuracy_train,\"\\n\")\n",
    "\n",
    "        if (acc>accuracy):\n",
    "            accuracy=acc\n",
    "            best_c = C\n",
    "            best_g=gamma\n",
    "        \n",
    "        print(\"C= \",C,\" Best C = \",best_c,\" gamma = \",gamma,\" best_gamma= \",best_g,\" Accuracy = \",acc,\" Best Accuracy = \",accuracy,\"\\n\")\n",
    "        \n",
    "        "
   ]
  },
  {
   "cell_type": "code",
   "execution_count": 40,
   "metadata": {},
   "outputs": [],
   "source": [
    "clf = SVC(C=101,gamma=0.006,decision_function_shape='ovo')"
   ]
  },
  {
   "cell_type": "code",
   "execution_count": 41,
   "metadata": {},
   "outputs": [
    {
     "data": {
      "text/plain": [
       "SVC(C=101, cache_size=200, class_weight=None, coef0=0.0,\n",
       "    decision_function_shape='ovo', degree=3, gamma=0.006, kernel='rbf',\n",
       "    max_iter=-1, probability=False, random_state=None, shrinking=True,\n",
       "    tol=0.001, verbose=False)"
      ]
     },
     "execution_count": 41,
     "metadata": {},
     "output_type": "execute_result"
    }
   ],
   "source": [
    "clf.fit(X_train, y_train)"
   ]
  },
  {
   "cell_type": "code",
   "execution_count": 42,
   "metadata": {},
   "outputs": [],
   "source": [
    "y_pred = clf.predict(X_test)"
   ]
  },
  {
   "cell_type": "code",
   "execution_count": 43,
   "metadata": {},
   "outputs": [
    {
     "name": "stdout",
     "output_type": "stream",
     "text": [
      "Accuracy : 92.94931737422854\n"
     ]
    }
   ],
   "source": [
    "print(\"Accuracy :\",metrics.accuracy_score(y_pred, y_test)*100)"
   ]
  },
  {
   "cell_type": "code",
   "execution_count": 44,
   "metadata": {},
   "outputs": [
    {
     "name": "stdout",
     "output_type": "stream",
     "text": [
      "Cohen Kappa Score : 90.62601890454405\n"
     ]
    }
   ],
   "source": [
    "from sklearn.metrics import cohen_kappa_score\n",
    "print(\"Cohen Kappa Score :\",cohen_kappa_score(y_pred, y_test)*100)"
   ]
  },
  {
   "cell_type": "code",
   "execution_count": 45,
   "metadata": {},
   "outputs": [
    {
     "name": "stdout",
     "output_type": "stream",
     "text": [
      "[[1539    4   19    0    0    1   32   47   16]\n",
      " [   0 4567    0   23    0   69    0    3    0]\n",
      " [  12    0  371    0    0    0    0  142    0]\n",
      " [   0   30    0  733    0    3    0    0    0]\n",
      " [   0    0    0    0  336    0    0    0    0]\n",
      " [   4  118    0    3    0 1130    0    2    0]\n",
      " [  67    0    0    0    0    0  259    7    0]\n",
      " [  54    7   73    0    0    5    1  780    0]\n",
      " [  12    0    0    0    0    0    0    0  225]]\n"
     ]
    }
   ],
   "source": [
    "from sklearn.metrics import confusion_matrix,classification_report\n",
    "mat = confusion_matrix(y_pred, y_test)\n",
    "pd.DataFrame(mat)\n",
    "print(confusion_matrix(y_test, y_pred ))"
   ]
  },
  {
   "cell_type": "code",
   "execution_count": 46,
   "metadata": {},
   "outputs": [
    {
     "name": "stdout",
     "output_type": "stream",
     "text": [
      "              precision    recall  f1-score   support\n",
      "\n",
      "           1       0.91      0.93      0.92      1658\n",
      "           2       0.97      0.98      0.97      4662\n",
      "           3       0.80      0.71      0.75       525\n",
      "           4       0.97      0.96      0.96       766\n",
      "           5       1.00      1.00      1.00       336\n",
      "           6       0.94      0.90      0.92      1257\n",
      "           7       0.89      0.78      0.83       333\n",
      "           8       0.80      0.85      0.82       920\n",
      "           9       0.93      0.95      0.94       237\n",
      "\n",
      "    accuracy                           0.93     10694\n",
      "   macro avg       0.91      0.89      0.90     10694\n",
      "weighted avg       0.93      0.93      0.93     10694\n",
      "\n"
     ]
    }
   ],
   "source": [
    "print(classification_report(y_test, y_pred ))"
   ]
  },
  {
   "cell_type": "code",
   "execution_count": null,
   "metadata": {},
   "outputs": [],
   "source": []
  }
 ],
 "metadata": {
  "kernelspec": {
   "display_name": "Python 3",
   "language": "python",
   "name": "python3"
  },
  "language_info": {
   "codemirror_mode": {
    "name": "ipython",
    "version": 3
   },
   "file_extension": ".py",
   "mimetype": "text/x-python",
   "name": "python",
   "nbconvert_exporter": "python",
   "pygments_lexer": "ipython3",
   "version": "3.7.4"
  }
 },
 "nbformat": 4,
 "nbformat_minor": 2
}
