{
 "cells": [
  {
   "cell_type": "code",
   "execution_count": 1,
   "metadata": {},
   "outputs": [],
   "source": [
    "import numpy as np\n",
    "import matplotlib.pyplot as plt\n",
    "import pandas as pd\n",
    "from sklearn import decomposition\n",
    "from sklearn.preprocessing import MinMaxScaler\n",
    "from sklearn.decomposition import PCA\n",
    "import seaborn as sns\n",
    "from scipy.io import loadmat"
   ]
  },
  {
   "cell_type": "code",
   "execution_count": 2,
   "metadata": {},
   "outputs": [],
   "source": [
    "X = loadmat('Indian_pines_corrected.mat')['indian_pines_corrected']\n",
    "y = loadmat('Indian_pines_gt.mat')['indian_pines_gt']"
   ]
  },
  {
   "cell_type": "code",
   "execution_count": 3,
   "metadata": {},
   "outputs": [
    {
     "name": "stdout",
     "output_type": "stream",
     "text": [
      "X: (145, 145, 200)\n",
      "y: (145, 145)\n"
     ]
    }
   ],
   "source": [
    "print(\"X:\", (X.shape))\n",
    "print(\"y:\", (y.shape))"
   ]
  },
  {
   "cell_type": "code",
   "execution_count": 4,
   "metadata": {},
   "outputs": [
    {
     "data": {
      "text/plain": [
       "array([ 0,  1,  2,  3,  4,  5,  6,  7,  8,  9, 10, 11, 12, 13, 14, 15, 16],\n",
       "      dtype=uint8)"
      ]
     },
     "execution_count": 4,
     "metadata": {},
     "output_type": "execute_result"
    }
   ],
   "source": [
    "np.unique(y)"
   ]
  },
  {
   "cell_type": "code",
   "execution_count": 5,
   "metadata": {},
   "outputs": [
    {
     "data": {
      "image/png": "[encoded data removed]",
      "text/plain": [
       "<Figure size 576x432 with 2 Axes>"
      ]
     },
     "metadata": {
      "needs_background": "light"
     },
     "output_type": "display_data"
    }
   ],
   "source": [
    "plt.figure(figsize=(8, 6))\n",
    "plt.imshow(y, cmap='jet')\n",
    "plt.colorbar()\n",
    "plt.axis('off')\n",
    "plt.title('Ground Truth')\n",
    "plt.gca().legend(['0', '1', '2', '3', '4', '5', '6', '7', '8', '9','10', '11', '12', '13', '14', '15', '16'], loc='upper left')\n",
    "#plt.savefig('ground_truth.png')\n",
    "plt.show()"
   ]
  },
  {
   "cell_type": "code",
   "execution_count": 6,
   "metadata": {},
   "outputs": [],
   "source": [
    "X = X.reshape(X.shape[0]*X.shape[1], X.shape[2])"
   ]
  },
  {
   "cell_type": "code",
   "execution_count": 7,
   "metadata": {},
   "outputs": [],
   "source": [
    "y = y.ravel()"
   ]
  },
  {
   "cell_type": "code",
   "execution_count": 8,
   "metadata": {},
   "outputs": [
    {
     "name": "stdout",
     "output_type": "stream",
     "text": [
      "X: (21025, 200)\n",
      "y: (21025,)\n"
     ]
    }
   ],
   "source": [
    "print(\"X:\", (X.shape))\n",
    "print(\"y:\", (y.shape))"
   ]
  },
  {
   "cell_type": "code",
   "execution_count": 9,
   "metadata": {},
   "outputs": [
    {
     "name": "stdout",
     "output_type": "stream",
     "text": [
      "[ 0  1  2  3  4  5  6  7  8  9 10 11 12 13 14 15 16]\n",
      "[10776    46  1428   830   237   483   730    28   478    20   972  2455\n",
      "   593   205  1265   386    93]\n"
     ]
    }
   ],
   "source": [
    "label,counts=np.unique(y,return_counts=True)\n",
    "print(label)\n",
    "print(counts)"
   ]
  },
  {
   "cell_type": "code",
   "execution_count": 10,
   "metadata": {},
   "outputs": [],
   "source": [
    "# Standardizing the features\n",
    "from sklearn.preprocessing import StandardScaler\n",
    "scaler_model = StandardScaler()\n",
    "scaler_model.fit(X.astype(float))\n",
    "X=scaler_model.transform(X)"
   ]
  },
  {
   "cell_type": "code",
   "execution_count": 11,
   "metadata": {},
   "outputs": [
    {
     "name": "stdout",
     "output_type": "stream",
     "text": [
      "X: (21025, 200)\n"
     ]
    }
   ],
   "source": [
    "print(\"X:\", (X.shape))"
   ]
  },
  {
   "cell_type": "code",
   "execution_count": 12,
   "metadata": {},
   "outputs": [],
   "source": [
    "X = (X[y>0,:])\n",
    "Y = (y[y>0])"
   ]
  },
  {
   "cell_type": "code",
   "execution_count": 13,
   "metadata": {},
   "outputs": [
    {
     "name": "stdout",
     "output_type": "stream",
     "text": [
      "(10249, 200)\n",
      "(10249,)\n"
     ]
    }
   ],
   "source": [
    "print(X.shape)\n",
    "print(Y.shape)"
   ]
  },
  {
   "cell_type": "code",
   "execution_count": 14,
   "metadata": {},
   "outputs": [],
   "source": [
    "pca = PCA(n_components=0.99)"
   ]
  },
  {
   "cell_type": "code",
   "execution_count": 15,
   "metadata": {},
   "outputs": [],
   "source": [
    "X = pca.fit_transform(X)\n"
   ]
  },
  {
   "cell_type": "code",
   "execution_count": 16,
   "metadata": {},
   "outputs": [
    {
     "data": {
      "text/plain": [
       "array([0.68738846, 0.87307195, 0.90336774, 0.92106184, 0.93397519,\n",
       "       0.9404841 , 0.94555385, 0.94971401, 0.95342082, 0.95677653,\n",
       "       0.95947647, 0.96214806, 0.96447112, 0.96662825, 0.96869344,\n",
       "       0.97052915, 0.97210577, 0.97363506, 0.97513317, 0.97647022,\n",
       "       0.97772841, 0.97886063, 0.97996183, 0.98098477, 0.98193106,\n",
       "       0.98279177, 0.98363225, 0.98442276, 0.98520169, 0.98597545,\n",
       "       0.98669647, 0.98733939, 0.98793382, 0.98851366, 0.98906986,\n",
       "       0.98959938, 0.99006071])"
      ]
     },
     "execution_count": 16,
     "metadata": {},
     "output_type": "execute_result"
    }
   ],
   "source": [
    "np.cumsum(pca.explained_variance_ratio_)"
   ]
  },
  {
   "cell_type": "code",
   "execution_count": 17,
   "metadata": {},
   "outputs": [
    {
     "name": "stdout",
     "output_type": "stream",
     "text": [
      "(10249, 37)\n",
      "37\n"
     ]
    }
   ],
   "source": [
    "print(X.shape)\n",
    "print(pca.n_components_)"
   ]
  },
  {
   "cell_type": "code",
   "execution_count": 18,
   "metadata": {},
   "outputs": [],
   "source": [
    "from sklearn.model_selection import train_test_split\n",
    "X_train, X_test, y_train, y_test = train_test_split(X, Y, random_state = 10, test_size = 0.25, stratify=Y )"
   ]
  },
  {
   "cell_type": "code",
   "execution_count": 19,
   "metadata": {},
   "outputs": [
    {
     "name": "stdout",
     "output_type": "stream",
     "text": [
      "(7686, 37)\n",
      "(2563, 37)\n"
     ]
    }
   ],
   "source": [
    "print(X_train.shape)\n",
    "print(X_test.shape)"
   ]
  },
  {
   "cell_type": "code",
   "execution_count": 39,
   "metadata": {},
   "outputs": [
    {
     "name": "stdout",
     "output_type": "stream",
     "text": [
      "       0\n",
      "1     35\n",
      "2   1071\n",
      "3    622\n",
      "4    178\n",
      "5    362\n",
      "6    547\n",
      "7     21\n",
      "8    358\n",
      "9     15\n",
      "10   729\n",
      "11  1841\n",
      "12   445\n",
      "13   154\n",
      "14   949\n",
      "15   289\n",
      "16    70\n",
      "      0\n",
      "1    11\n",
      "2   357\n",
      "3   208\n",
      "4    59\n",
      "5   121\n",
      "6   183\n",
      "7     7\n",
      "8   120\n",
      "9     5\n",
      "10  243\n",
      "11  614\n",
      "12  148\n",
      "13   51\n",
      "14  316\n",
      "15   97\n",
      "16   23\n"
     ]
    }
   ],
   "source": [
    "label_tr,counts_tr=np.unique(y_train,return_counts=True)\n",
    "label_te,counts_te=np.unique(y_test,return_counts=True)\n",
    "print(pd.DataFrame(counts_tr,label_tr))\n",
    "print(pd.DataFrame(counts_te,label_te))"
   ]
  },
  {
   "cell_type": "code",
   "execution_count": 20,
   "metadata": {},
   "outputs": [],
   "source": [
    "#Applying Scalar to train and test Dataset\n",
    "\n",
    "from sklearn import preprocessing\n",
    "scaler = preprocessing.StandardScaler().fit(X_train) \n",
    "X_train= scaler.transform(X_train)\n",
    "X_test=scaler.transform(X_test)"
   ]
  },
  {
   "cell_type": "code",
   "execution_count": 40,
   "metadata": {},
   "outputs": [
    {
     "name": "stdout",
     "output_type": "stream",
     "text": [
      "37\n"
     ]
    },
    {
     "data": {
      "image/png": "[encoded data removed]",
      "text/plain": [
       "<Figure size 432x288 with 1 Axes>"
      ]
     },
     "metadata": {
      "needs_background": "light"
     },
     "output_type": "display_data"
    }
   ],
   "source": [
    "print(pca.n_components_)\n",
    "plt.figure()\n",
    "plt.plot(np.cumsum(pca.explained_variance_ratio_))\n",
    "plt.xlabel('Number of Components')\n",
    "plt.ylabel('Cumulative Variance') #for each component\n",
    "#plt.title('Inidian_pines Dataset Explained Variance')\n",
    "plt.savefig('indian_pines_explainedvariance_final')\n",
    "plt.show()"
   ]
  },
  {
   "cell_type": "code",
   "execution_count": 27,
   "metadata": {},
   "outputs": [],
   "source": [
    "#Appplying SVM \n",
    "\n",
    "from sklearn.svm import SVC"
   ]
  },
  {
   "cell_type": "code",
   "execution_count": 28,
   "metadata": {},
   "outputs": [],
   "source": [
    "from sklearn import metrics"
   ]
  },
  {
   "cell_type": "code",
   "execution_count": 29,
   "metadata": {},
   "outputs": [
    {
     "name": "stdout",
     "output_type": "stream",
     "text": [
      "----------------------------------------------------------------\n",
      "C_train=  1  Best C_train =  1  gamma_train =  0.001  best_gamma_train=  0.001  Accuracy_train =  0.6362217017954723  Best Accuracy_train =  0.6362217017954723 \n",
      "\n",
      "C=  1  Best C =  1  gamma =  0.001  best_gamma=  0.001  Accuracy =  0.6281701131486539  Best Accuracy =  0.6281701131486539 \n",
      "\n",
      "----------------------------------------------------------------\n",
      "C_train=  1  Best C_train =  1  gamma_train =  0.006  best_gamma_train=  0.006  Accuracy_train =  0.7927400468384075  Best Accuracy_train =  0.7927400468384075 \n",
      "\n",
      "C=  1  Best C =  1  gamma =  0.006  best_gamma=  0.006  Accuracy =  0.7557549746390948  Best Accuracy =  0.7557549746390948 \n",
      "\n",
      "----------------------------------------------------------------\n",
      "C_train=  1  Best C_train =  1  gamma_train =  0.011  best_gamma_train=  0.011  Accuracy_train =  0.8263075722092116  Best Accuracy_train =  0.8263075722092116 \n",
      "\n",
      "C=  1  Best C =  1  gamma =  0.011  best_gamma=  0.011  Accuracy =  0.7752633632461958  Best Accuracy =  0.7752633632461958 \n",
      "\n",
      "----------------------------------------------------------------\n",
      "C_train=  1  Best C_train =  1  gamma_train =  0.016  best_gamma_train=  0.016  Accuracy_train =  0.8506375227686703  Best Accuracy_train =  0.8506375227686703 \n",
      "\n",
      "C=  1  Best C =  1  gamma =  0.016  best_gamma=  0.016  Accuracy =  0.7795552087397581  Best Accuracy =  0.7795552087397581 \n",
      "\n",
      "----------------------------------------------------------------\n",
      "C_train=  1  Best C_train =  1  gamma_train =  0.021  best_gamma_train=  0.021  Accuracy_train =  0.8653395784543325  Best Accuracy_train =  0.8653395784543325 \n",
      "\n",
      "C=  1  Best C =  1  gamma =  0.021  best_gamma=  0.021  Accuracy =  0.7826765509168943  Best Accuracy =  0.7826765509168943 \n",
      "\n",
      "----------------------------------------------------------------\n",
      "C_train=  1  Best C_train =  1  gamma_train =  0.026000000000000002  best_gamma_train=  0.026000000000000002  Accuracy_train =  0.8766588602654176  Best Accuracy_train =  0.8766588602654176 \n",
      "\n",
      "C=  1  Best C =  1  gamma =  0.026000000000000002  best_gamma=  0.021  Accuracy =  0.7826765509168943  Best Accuracy =  0.7826765509168943 \n",
      "\n",
      "----------------------------------------------------------------\n",
      "C_train=  1  Best C_train =  1  gamma_train =  0.031  best_gamma_train=  0.031  Accuracy_train =  0.8888888888888888  Best Accuracy_train =  0.8888888888888888 \n",
      "\n",
      "C=  1  Best C =  1  gamma =  0.031  best_gamma=  0.021  Accuracy =  0.7822863831447523  Best Accuracy =  0.7826765509168943 \n",
      "\n",
      "----------------------------------------------------------------\n",
      "C_train=  1  Best C_train =  1  gamma_train =  0.036000000000000004  best_gamma_train=  0.036000000000000004  Accuracy_train =  0.8992974238875878  Best Accuracy_train =  0.8992974238875878 \n",
      "\n",
      "C=  1  Best C =  1  gamma =  0.036000000000000004  best_gamma=  0.021  Accuracy =  0.7791650409676161  Best Accuracy =  0.7826765509168943 \n",
      "\n",
      "----------------------------------------------------------------\n",
      "C_train=  1  Best C_train =  1  gamma_train =  0.041  best_gamma_train=  0.041  Accuracy_train =  0.9097059588862868  Best Accuracy_train =  0.9097059588862868 \n",
      "\n",
      "C=  1  Best C =  1  gamma =  0.041  best_gamma=  0.021  Accuracy =  0.7760436987904799  Best Accuracy =  0.7826765509168943 \n",
      "\n",
      "----------------------------------------------------------------\n",
      "C_train=  1  Best C_train =  1  gamma_train =  0.046  best_gamma_train=  0.046  Accuracy_train =  0.9192037470725996  Best Accuracy_train =  0.9192037470725996 \n",
      "\n",
      "C=  1  Best C =  1  gamma =  0.046  best_gamma=  0.021  Accuracy =  0.7737026921576278  Best Accuracy =  0.7826765509168943 \n",
      "\n",
      "----------------------------------------------------------------\n",
      "C_train=  1  Best C_train =  1  gamma_train =  0.051000000000000004  best_gamma_train=  0.051000000000000004  Accuracy_train =  0.9254488680718189  Best Accuracy_train =  0.9254488680718189 \n",
      "\n",
      "C=  1  Best C =  1  gamma =  0.051000000000000004  best_gamma=  0.021  Accuracy =  0.7666796722590714  Best Accuracy =  0.7826765509168943 \n",
      "\n",
      "----------------------------------------------------------------\n",
      "C_train=  1  Best C_train =  1  gamma_train =  0.056  best_gamma_train=  0.056  Accuracy_train =  0.9314337756960708  Best Accuracy_train =  0.9314337756960708 \n",
      "\n",
      "C=  1  Best C =  1  gamma =  0.056  best_gamma=  0.021  Accuracy =  0.7651190011705034  Best Accuracy =  0.7826765509168943 \n",
      "\n",
      "----------------------------------------------------------------\n",
      "C_train=  1  Best C_train =  1  gamma_train =  0.061  best_gamma_train=  0.061  Accuracy_train =  0.9384595368201926  Best Accuracy_train =  0.9384595368201926 \n",
      "\n",
      "C=  1  Best C =  1  gamma =  0.061  best_gamma=  0.021  Accuracy =  0.7604369879047991  Best Accuracy =  0.7826765509168943 \n",
      "\n",
      "----------------------------------------------------------------\n",
      "C_train=  1  Best C_train =  1  gamma_train =  0.066  best_gamma_train=  0.066  Accuracy_train =  0.9440541243819932  Best Accuracy_train =  0.9440541243819932 \n",
      "\n",
      "C=  1  Best C =  1  gamma =  0.066  best_gamma=  0.021  Accuracy =  0.7541943035505267  Best Accuracy =  0.7826765509168943 \n",
      "\n",
      "----------------------------------------------------------------\n",
      "C_train=  1  Best C_train =  1  gamma_train =  0.07100000000000001  best_gamma_train=  0.07100000000000001  Accuracy_train =  0.9488680718188915  Best Accuracy_train =  0.9488680718188915 \n",
      "\n",
      "C=  1  Best C =  1  gamma =  0.07100000000000001  best_gamma=  0.021  Accuracy =  0.7467811158798283  Best Accuracy =  0.7826765509168943 \n",
      "\n",
      "----------------------------------------------------------------\n",
      "C_train=  1  Best C_train =  1  gamma_train =  0.076  best_gamma_train=  0.076  Accuracy_train =  0.9538121259432735  Best Accuracy_train =  0.9538121259432735 \n",
      "\n",
      "C=  1  Best C =  1  gamma =  0.076  best_gamma=  0.021  Accuracy =  0.7370269215762778  Best Accuracy =  0.7826765509168943 \n",
      "\n",
      "----------------------------------------------------------------\n",
      "C_train=  1  Best C_train =  1  gamma_train =  0.081  best_gamma_train=  0.081  Accuracy_train =  0.9575852198803019  Best Accuracy_train =  0.9575852198803019 \n",
      "\n",
      "C=  1  Best C =  1  gamma =  0.081  best_gamma=  0.021  Accuracy =  0.7307842372220055  Best Accuracy =  0.7826765509168943 \n",
      "\n",
      "----------------------------------------------------------------\n",
      "C_train=  1  Best C_train =  1  gamma_train =  0.08600000000000001  best_gamma_train=  0.08600000000000001  Accuracy_train =  0.9618787405672652  Best Accuracy_train =  0.9618787405672652 \n",
      "\n",
      "C=  1  Best C =  1  gamma =  0.08600000000000001  best_gamma=  0.021  Accuracy =  0.7237612173234491  Best Accuracy =  0.7826765509168943 \n",
      "\n",
      "----------------------------------------------------------------\n",
      "C_train=  1  Best C_train =  1  gamma_train =  0.091  best_gamma_train=  0.091  Accuracy_train =  0.9644808743169399  Best Accuracy_train =  0.9644808743169399 \n",
      "\n",
      "C=  1  Best C =  1  gamma =  0.091  best_gamma=  0.021  Accuracy =  0.7167381974248928  Best Accuracy =  0.7826765509168943 \n",
      "\n",
      "----------------------------------------------------------------\n",
      "C_train=  1  Best C_train =  1  gamma_train =  0.096  best_gamma_train=  0.096  Accuracy_train =  0.9674733281290658  Best Accuracy_train =  0.9674733281290658 \n",
      "\n",
      "C=  1  Best C =  1  gamma =  0.096  best_gamma=  0.021  Accuracy =  0.7104955130706204  Best Accuracy =  0.7826765509168943 \n",
      "\n",
      "----------------------------------------------------------------\n",
      "C_train=  26  Best C_train =  1  gamma_train =  0.001  best_gamma_train=  0.096  Accuracy_train =  0.8225344782721832  Best Accuracy_train =  0.9674733281290658 \n",
      "\n",
      "C=  26  Best C =  26  gamma =  0.001  best_gamma=  0.001  Accuracy =  0.7857978930940305  Best Accuracy =  0.7857978930940305 \n",
      "\n",
      "----------------------------------------------------------------\n",
      "C_train=  26  Best C_train =  1  gamma_train =  0.006  best_gamma_train=  0.096  Accuracy_train =  0.9303929221962008  Best Accuracy_train =  0.9674733281290658 \n",
      "\n",
      "C=  26  Best C =  26  gamma =  0.006  best_gamma=  0.006  Accuracy =  0.8252048380803746  Best Accuracy =  0.8252048380803746 \n",
      "\n",
      "----------------------------------------------------------------\n",
      "C_train=  26  Best C_train =  1  gamma_train =  0.011  best_gamma_train=  0.096  Accuracy_train =  0.9651314077543586  Best Accuracy_train =  0.9674733281290658 \n",
      "\n",
      "C=  26  Best C =  26  gamma =  0.011  best_gamma=  0.006  Accuracy =  0.8213031603589543  Best Accuracy =  0.8252048380803746 \n",
      "\n",
      "----------------------------------------------------------------\n"
     ]
    },
    {
     "name": "stdout",
     "output_type": "stream",
     "text": [
      "C_train=  26  Best C_train =  26  gamma_train =  0.016  best_gamma_train=  0.016  Accuracy_train =  0.985167837626854  Best Accuracy_train =  0.985167837626854 \n",
      "\n",
      "C=  26  Best C =  26  gamma =  0.016  best_gamma=  0.006  Accuracy =  0.8181818181818182  Best Accuracy =  0.8252048380803746 \n",
      "\n",
      "----------------------------------------------------------------\n",
      "C_train=  26  Best C_train =  26  gamma_train =  0.021  best_gamma_train=  0.021  Accuracy_train =  0.9936247723132969  Best Accuracy_train =  0.9936247723132969 \n",
      "\n",
      "C=  26  Best C =  26  gamma =  0.021  best_gamma=  0.006  Accuracy =  0.8095981271946937  Best Accuracy =  0.8252048380803746 \n",
      "\n",
      "----------------------------------------------------------------\n",
      "C_train=  26  Best C_train =  26  gamma_train =  0.026000000000000002  best_gamma_train=  0.026000000000000002  Accuracy_train =  0.998048399687744  Best Accuracy_train =  0.998048399687744 \n",
      "\n",
      "C=  26  Best C =  26  gamma =  0.026000000000000002  best_gamma=  0.006  Accuracy =  0.8021849395239953  Best Accuracy =  0.8252048380803746 \n",
      "\n",
      "----------------------------------------------------------------\n",
      "C_train=  26  Best C_train =  26  gamma_train =  0.031  best_gamma_train=  0.031  Accuracy_train =  0.9993494665625813  Best Accuracy_train =  0.9993494665625813 \n",
      "\n",
      "C=  26  Best C =  26  gamma =  0.031  best_gamma=  0.006  Accuracy =  0.7978930940304331  Best Accuracy =  0.8252048380803746 \n",
      "\n",
      "----------------------------------------------------------------\n",
      "C_train=  26  Best C_train =  26  gamma_train =  0.036000000000000004  best_gamma_train=  0.036000000000000004  Accuracy_train =  0.9997397866250325  Best Accuracy_train =  0.9997397866250325 \n",
      "\n",
      "C=  26  Best C =  26  gamma =  0.036000000000000004  best_gamma=  0.006  Accuracy =  0.7939914163090128  Best Accuracy =  0.8252048380803746 \n",
      "\n",
      "----------------------------------------------------------------\n",
      "C_train=  26  Best C_train =  26  gamma_train =  0.041  best_gamma_train=  0.041  Accuracy_train =  1.0  Best Accuracy_train =  1.0 \n",
      "\n",
      "C=  26  Best C =  26  gamma =  0.041  best_gamma=  0.006  Accuracy =  0.7885290674990246  Best Accuracy =  0.8252048380803746 \n",
      "\n",
      "----------------------------------------------------------------\n",
      "C_train=  26  Best C_train =  26  gamma_train =  0.046  best_gamma_train=  0.041  Accuracy_train =  1.0  Best Accuracy_train =  1.0 \n",
      "\n",
      "C=  26  Best C =  26  gamma =  0.046  best_gamma=  0.006  Accuracy =  0.7826765509168943  Best Accuracy =  0.8252048380803746 \n",
      "\n",
      "----------------------------------------------------------------\n",
      "C_train=  26  Best C_train =  26  gamma_train =  0.051000000000000004  best_gamma_train=  0.041  Accuracy_train =  1.0  Best Accuracy_train =  1.0 \n",
      "\n",
      "C=  26  Best C =  26  gamma =  0.051000000000000004  best_gamma=  0.006  Accuracy =  0.77799453765119  Best Accuracy =  0.8252048380803746 \n",
      "\n",
      "----------------------------------------------------------------\n",
      "C_train=  26  Best C_train =  26  gamma_train =  0.056  best_gamma_train=  0.041  Accuracy_train =  1.0  Best Accuracy_train =  1.0 \n",
      "\n",
      "C=  26  Best C =  26  gamma =  0.056  best_gamma=  0.006  Accuracy =  0.7705813499804917  Best Accuracy =  0.8252048380803746 \n",
      "\n",
      "----------------------------------------------------------------\n",
      "C_train=  26  Best C_train =  26  gamma_train =  0.061  best_gamma_train=  0.041  Accuracy_train =  1.0  Best Accuracy_train =  1.0 \n",
      "\n",
      "C=  26  Best C =  26  gamma =  0.061  best_gamma=  0.006  Accuracy =  0.7662895044869293  Best Accuracy =  0.8252048380803746 \n",
      "\n",
      "----------------------------------------------------------------\n",
      "C_train=  26  Best C_train =  26  gamma_train =  0.066  best_gamma_train=  0.041  Accuracy_train =  1.0  Best Accuracy_train =  1.0 \n",
      "\n",
      "C=  26  Best C =  26  gamma =  0.066  best_gamma=  0.006  Accuracy =  0.7631681623097932  Best Accuracy =  0.8252048380803746 \n",
      "\n",
      "----------------------------------------------------------------\n",
      "C_train=  26  Best C_train =  26  gamma_train =  0.07100000000000001  best_gamma_train=  0.041  Accuracy_train =  1.0  Best Accuracy_train =  1.0 \n",
      "\n",
      "C=  26  Best C =  26  gamma =  0.07100000000000001  best_gamma=  0.006  Accuracy =  0.7569254779555209  Best Accuracy =  0.8252048380803746 \n",
      "\n",
      "----------------------------------------------------------------\n",
      "C_train=  26  Best C_train =  26  gamma_train =  0.076  best_gamma_train=  0.041  Accuracy_train =  1.0  Best Accuracy_train =  1.0 \n",
      "\n",
      "C=  26  Best C =  26  gamma =  0.076  best_gamma=  0.006  Accuracy =  0.7522434646898166  Best Accuracy =  0.8252048380803746 \n",
      "\n",
      "----------------------------------------------------------------\n",
      "C_train=  26  Best C_train =  26  gamma_train =  0.081  best_gamma_train=  0.041  Accuracy_train =  1.0  Best Accuracy_train =  1.0 \n",
      "\n",
      "C=  26  Best C =  26  gamma =  0.081  best_gamma=  0.006  Accuracy =  0.742099102614124  Best Accuracy =  0.8252048380803746 \n",
      "\n",
      "----------------------------------------------------------------\n",
      "C_train=  26  Best C_train =  26  gamma_train =  0.08600000000000001  best_gamma_train=  0.041  Accuracy_train =  1.0  Best Accuracy_train =  1.0 \n",
      "\n",
      "C=  26  Best C =  26  gamma =  0.08600000000000001  best_gamma=  0.006  Accuracy =  0.7366367538041357  Best Accuracy =  0.8252048380803746 \n",
      "\n",
      "----------------------------------------------------------------\n",
      "C_train=  26  Best C_train =  26  gamma_train =  0.091  best_gamma_train=  0.041  Accuracy_train =  1.0  Best Accuracy_train =  1.0 \n",
      "\n",
      "C=  26  Best C =  26  gamma =  0.091  best_gamma=  0.006  Accuracy =  0.7311744049941474  Best Accuracy =  0.8252048380803746 \n",
      "\n",
      "----------------------------------------------------------------\n",
      "C_train=  26  Best C_train =  26  gamma_train =  0.096  best_gamma_train=  0.041  Accuracy_train =  1.0  Best Accuracy_train =  1.0 \n",
      "\n",
      "C=  26  Best C =  26  gamma =  0.096  best_gamma=  0.006  Accuracy =  0.722590714007023  Best Accuracy =  0.8252048380803746 \n",
      "\n",
      "----------------------------------------------------------------\n",
      "C_train=  51  Best C_train =  26  gamma_train =  0.001  best_gamma_train=  0.041  Accuracy_train =  0.843871975019516  Best Accuracy_train =  1.0 \n",
      "\n",
      "C=  51  Best C =  26  gamma =  0.001  best_gamma=  0.006  Accuracy =  0.7982832618025751  Best Accuracy =  0.8252048380803746 \n",
      "\n",
      "----------------------------------------------------------------\n",
      "C_train=  51  Best C_train =  26  gamma_train =  0.006  best_gamma_train=  0.041  Accuracy_train =  0.949128285193859  Best Accuracy_train =  1.0 \n",
      "\n",
      "C=  51  Best C =  51  gamma =  0.006  best_gamma=  0.006  Accuracy =  0.8271556769410847  Best Accuracy =  0.8271556769410847 \n",
      "\n",
      "----------------------------------------------------------------\n",
      "C_train=  51  Best C_train =  26  gamma_train =  0.011  best_gamma_train=  0.041  Accuracy_train =  0.9823054905022118  Best Accuracy_train =  1.0 \n",
      "\n",
      "C=  51  Best C =  51  gamma =  0.011  best_gamma=  0.006  Accuracy =  0.8197424892703863  Best Accuracy =  0.8271556769410847 \n",
      "\n",
      "----------------------------------------------------------------\n",
      "C_train=  51  Best C_train =  26  gamma_train =  0.016  best_gamma_train=  0.041  Accuracy_train =  0.9944054124381994  Best Accuracy_train =  1.0 \n",
      "\n",
      "C=  51  Best C =  51  gamma =  0.016  best_gamma=  0.006  Accuracy =  0.814280140460398  Best Accuracy =  0.8271556769410847 \n",
      "\n",
      "----------------------------------------------------------------\n",
      "C_train=  51  Best C_train =  26  gamma_train =  0.021  best_gamma_train=  0.041  Accuracy_train =  0.9990892531876139  Best Accuracy_train =  1.0 \n",
      "\n",
      "C=  51  Best C =  51  gamma =  0.021  best_gamma=  0.006  Accuracy =  0.8068669527896996  Best Accuracy =  0.8271556769410847 \n",
      "\n",
      "----------------------------------------------------------------\n",
      "C_train=  51  Best C_train =  26  gamma_train =  0.026000000000000002  best_gamma_train=  0.041  Accuracy_train =  0.9997397866250325  Best Accuracy_train =  1.0 \n",
      "\n",
      "C=  51  Best C =  51  gamma =  0.026000000000000002  best_gamma=  0.006  Accuracy =  0.796722590714007  Best Accuracy =  0.8271556769410847 \n",
      "\n",
      "----------------------------------------------------------------\n",
      "C_train=  51  Best C_train =  26  gamma_train =  0.031  best_gamma_train=  0.041  Accuracy_train =  1.0  Best Accuracy_train =  1.0 \n",
      "\n",
      "C=  51  Best C =  51  gamma =  0.031  best_gamma=  0.006  Accuracy =  0.796332422941865  Best Accuracy =  0.8271556769410847 \n",
      "\n",
      "----------------------------------------------------------------\n"
     ]
    },
    {
     "name": "stdout",
     "output_type": "stream",
     "text": [
      "C_train=  51  Best C_train =  26  gamma_train =  0.036000000000000004  best_gamma_train=  0.041  Accuracy_train =  1.0  Best Accuracy_train =  1.0 \n",
      "\n",
      "C=  51  Best C =  51  gamma =  0.036000000000000004  best_gamma=  0.006  Accuracy =  0.7908700741318767  Best Accuracy =  0.8271556769410847 \n",
      "\n",
      "----------------------------------------------------------------\n",
      "C_train=  51  Best C_train =  26  gamma_train =  0.041  best_gamma_train=  0.041  Accuracy_train =  1.0  Best Accuracy_train =  1.0 \n",
      "\n",
      "C=  51  Best C =  51  gamma =  0.041  best_gamma=  0.006  Accuracy =  0.7885290674990246  Best Accuracy =  0.8271556769410847 \n",
      "\n",
      "----------------------------------------------------------------\n",
      "C_train=  51  Best C_train =  26  gamma_train =  0.046  best_gamma_train=  0.041  Accuracy_train =  1.0  Best Accuracy_train =  1.0 \n",
      "\n",
      "C=  51  Best C =  51  gamma =  0.046  best_gamma=  0.006  Accuracy =  0.7822863831447523  Best Accuracy =  0.8271556769410847 \n",
      "\n",
      "----------------------------------------------------------------\n",
      "C_train=  51  Best C_train =  26  gamma_train =  0.051000000000000004  best_gamma_train=  0.041  Accuracy_train =  1.0  Best Accuracy_train =  1.0 \n",
      "\n",
      "C=  51  Best C =  51  gamma =  0.051000000000000004  best_gamma=  0.006  Accuracy =  0.77799453765119  Best Accuracy =  0.8271556769410847 \n",
      "\n",
      "----------------------------------------------------------------\n",
      "C_train=  51  Best C_train =  26  gamma_train =  0.056  best_gamma_train=  0.041  Accuracy_train =  1.0  Best Accuracy_train =  1.0 \n",
      "\n",
      "C=  51  Best C =  51  gamma =  0.056  best_gamma=  0.006  Accuracy =  0.7705813499804917  Best Accuracy =  0.8271556769410847 \n",
      "\n",
      "----------------------------------------------------------------\n",
      "C_train=  51  Best C_train =  26  gamma_train =  0.061  best_gamma_train=  0.041  Accuracy_train =  1.0  Best Accuracy_train =  1.0 \n",
      "\n",
      "C=  51  Best C =  51  gamma =  0.061  best_gamma=  0.006  Accuracy =  0.7662895044869293  Best Accuracy =  0.8271556769410847 \n",
      "\n",
      "----------------------------------------------------------------\n",
      "C_train=  51  Best C_train =  26  gamma_train =  0.066  best_gamma_train=  0.041  Accuracy_train =  1.0  Best Accuracy_train =  1.0 \n",
      "\n",
      "C=  51  Best C =  51  gamma =  0.066  best_gamma=  0.006  Accuracy =  0.7631681623097932  Best Accuracy =  0.8271556769410847 \n",
      "\n",
      "----------------------------------------------------------------\n",
      "C_train=  51  Best C_train =  26  gamma_train =  0.07100000000000001  best_gamma_train=  0.041  Accuracy_train =  1.0  Best Accuracy_train =  1.0 \n",
      "\n",
      "C=  51  Best C =  51  gamma =  0.07100000000000001  best_gamma=  0.006  Accuracy =  0.7569254779555209  Best Accuracy =  0.8271556769410847 \n",
      "\n",
      "----------------------------------------------------------------\n",
      "C_train=  51  Best C_train =  26  gamma_train =  0.076  best_gamma_train=  0.041  Accuracy_train =  1.0  Best Accuracy_train =  1.0 \n",
      "\n",
      "C=  51  Best C =  51  gamma =  0.076  best_gamma=  0.006  Accuracy =  0.7522434646898166  Best Accuracy =  0.8271556769410847 \n",
      "\n",
      "----------------------------------------------------------------\n",
      "C_train=  51  Best C_train =  26  gamma_train =  0.081  best_gamma_train=  0.041  Accuracy_train =  1.0  Best Accuracy_train =  1.0 \n",
      "\n",
      "C=  51  Best C =  51  gamma =  0.081  best_gamma=  0.006  Accuracy =  0.742099102614124  Best Accuracy =  0.8271556769410847 \n",
      "\n",
      "----------------------------------------------------------------\n",
      "C_train=  51  Best C_train =  26  gamma_train =  0.08600000000000001  best_gamma_train=  0.041  Accuracy_train =  1.0  Best Accuracy_train =  1.0 \n",
      "\n",
      "C=  51  Best C =  51  gamma =  0.08600000000000001  best_gamma=  0.006  Accuracy =  0.7366367538041357  Best Accuracy =  0.8271556769410847 \n",
      "\n",
      "----------------------------------------------------------------\n",
      "C_train=  51  Best C_train =  26  gamma_train =  0.091  best_gamma_train=  0.041  Accuracy_train =  1.0  Best Accuracy_train =  1.0 \n",
      "\n",
      "C=  51  Best C =  51  gamma =  0.091  best_gamma=  0.006  Accuracy =  0.7311744049941474  Best Accuracy =  0.8271556769410847 \n",
      "\n",
      "----------------------------------------------------------------\n",
      "C_train=  51  Best C_train =  26  gamma_train =  0.096  best_gamma_train=  0.041  Accuracy_train =  1.0  Best Accuracy_train =  1.0 \n",
      "\n",
      "C=  51  Best C =  51  gamma =  0.096  best_gamma=  0.006  Accuracy =  0.722590714007023  Best Accuracy =  0.8271556769410847 \n",
      "\n",
      "----------------------------------------------------------------\n",
      "C_train=  76  Best C_train =  26  gamma_train =  0.001  best_gamma_train=  0.041  Accuracy_train =  0.8566224303929222  Best Accuracy_train =  1.0 \n",
      "\n",
      "C=  76  Best C =  51  gamma =  0.001  best_gamma=  0.006  Accuracy =  0.7990635973468592  Best Accuracy =  0.8271556769410847 \n",
      "\n",
      "----------------------------------------------------------------\n",
      "C_train=  76  Best C_train =  26  gamma_train =  0.006  best_gamma_train=  0.041  Accuracy_train =  0.9591465001301067  Best Accuracy_train =  1.0 \n",
      "\n",
      "C=  76  Best C =  51  gamma =  0.006  best_gamma=  0.006  Accuracy =  0.8240343347639485  Best Accuracy =  0.8271556769410847 \n",
      "\n",
      "----------------------------------------------------------------\n",
      "C_train=  76  Best C_train =  26  gamma_train =  0.011  best_gamma_train=  0.041  Accuracy_train =  0.9886807181889149  Best Accuracy_train =  1.0 \n",
      "\n",
      "C=  76  Best C =  51  gamma =  0.011  best_gamma=  0.006  Accuracy =  0.8181818181818182  Best Accuracy =  0.8271556769410847 \n",
      "\n",
      "----------------------------------------------------------------\n",
      "C_train=  76  Best C_train =  26  gamma_train =  0.016  best_gamma_train=  0.041  Accuracy_train =  0.998048399687744  Best Accuracy_train =  1.0 \n",
      "\n",
      "C=  76  Best C =  51  gamma =  0.016  best_gamma=  0.006  Accuracy =  0.8084276238782676  Best Accuracy =  0.8271556769410847 \n",
      "\n",
      "----------------------------------------------------------------\n",
      "C_train=  76  Best C_train =  26  gamma_train =  0.021  best_gamma_train=  0.041  Accuracy_train =  0.9996096799375488  Best Accuracy_train =  1.0 \n",
      "\n",
      "C=  76  Best C =  51  gamma =  0.021  best_gamma=  0.006  Accuracy =  0.8017947717518533  Best Accuracy =  0.8271556769410847 \n",
      "\n",
      "----------------------------------------------------------------\n",
      "C_train=  76  Best C_train =  26  gamma_train =  0.026000000000000002  best_gamma_train=  0.041  Accuracy_train =  1.0  Best Accuracy_train =  1.0 \n",
      "\n",
      "C=  76  Best C =  51  gamma =  0.026000000000000002  best_gamma=  0.006  Accuracy =  0.796722590714007  Best Accuracy =  0.8271556769410847 \n",
      "\n",
      "----------------------------------------------------------------\n",
      "C_train=  76  Best C_train =  26  gamma_train =  0.031  best_gamma_train=  0.041  Accuracy_train =  1.0  Best Accuracy_train =  1.0 \n",
      "\n",
      "C=  76  Best C =  51  gamma =  0.031  best_gamma=  0.006  Accuracy =  0.7943815840811549  Best Accuracy =  0.8271556769410847 \n",
      "\n",
      "----------------------------------------------------------------\n",
      "C_train=  76  Best C_train =  26  gamma_train =  0.036000000000000004  best_gamma_train=  0.041  Accuracy_train =  1.0  Best Accuracy_train =  1.0 \n",
      "\n",
      "C=  76  Best C =  51  gamma =  0.036000000000000004  best_gamma=  0.006  Accuracy =  0.7908700741318767  Best Accuracy =  0.8271556769410847 \n",
      "\n",
      "----------------------------------------------------------------\n",
      "C_train=  76  Best C_train =  26  gamma_train =  0.041  best_gamma_train=  0.041  Accuracy_train =  1.0  Best Accuracy_train =  1.0 \n",
      "\n",
      "C=  76  Best C =  51  gamma =  0.041  best_gamma=  0.006  Accuracy =  0.7885290674990246  Best Accuracy =  0.8271556769410847 \n",
      "\n",
      "----------------------------------------------------------------\n",
      "C_train=  76  Best C_train =  26  gamma_train =  0.046  best_gamma_train=  0.041  Accuracy_train =  1.0  Best Accuracy_train =  1.0 \n",
      "\n",
      "C=  76  Best C =  51  gamma =  0.046  best_gamma=  0.006  Accuracy =  0.7822863831447523  Best Accuracy =  0.8271556769410847 \n",
      "\n",
      "----------------------------------------------------------------\n",
      "C_train=  76  Best C_train =  26  gamma_train =  0.051000000000000004  best_gamma_train=  0.041  Accuracy_train =  1.0  Best Accuracy_train =  1.0 \n",
      "\n",
      "C=  76  Best C =  51  gamma =  0.051000000000000004  best_gamma=  0.006  Accuracy =  0.77799453765119  Best Accuracy =  0.8271556769410847 \n",
      "\n",
      "----------------------------------------------------------------\n",
      "C_train=  76  Best C_train =  26  gamma_train =  0.056  best_gamma_train=  0.041  Accuracy_train =  1.0  Best Accuracy_train =  1.0 \n",
      "\n",
      "C=  76  Best C =  51  gamma =  0.056  best_gamma=  0.006  Accuracy =  0.7705813499804917  Best Accuracy =  0.8271556769410847 \n",
      "\n",
      "----------------------------------------------------------------\n"
     ]
    },
    {
     "name": "stdout",
     "output_type": "stream",
     "text": [
      "C_train=  76  Best C_train =  26  gamma_train =  0.061  best_gamma_train=  0.041  Accuracy_train =  1.0  Best Accuracy_train =  1.0 \n",
      "\n",
      "C=  76  Best C =  51  gamma =  0.061  best_gamma=  0.006  Accuracy =  0.7662895044869293  Best Accuracy =  0.8271556769410847 \n",
      "\n",
      "----------------------------------------------------------------\n",
      "C_train=  76  Best C_train =  26  gamma_train =  0.066  best_gamma_train=  0.041  Accuracy_train =  1.0  Best Accuracy_train =  1.0 \n",
      "\n",
      "C=  76  Best C =  51  gamma =  0.066  best_gamma=  0.006  Accuracy =  0.7631681623097932  Best Accuracy =  0.8271556769410847 \n",
      "\n",
      "----------------------------------------------------------------\n",
      "C_train=  76  Best C_train =  26  gamma_train =  0.07100000000000001  best_gamma_train=  0.041  Accuracy_train =  1.0  Best Accuracy_train =  1.0 \n",
      "\n",
      "C=  76  Best C =  51  gamma =  0.07100000000000001  best_gamma=  0.006  Accuracy =  0.7569254779555209  Best Accuracy =  0.8271556769410847 \n",
      "\n",
      "----------------------------------------------------------------\n",
      "C_train=  76  Best C_train =  26  gamma_train =  0.076  best_gamma_train=  0.041  Accuracy_train =  1.0  Best Accuracy_train =  1.0 \n",
      "\n",
      "C=  76  Best C =  51  gamma =  0.076  best_gamma=  0.006  Accuracy =  0.7522434646898166  Best Accuracy =  0.8271556769410847 \n",
      "\n",
      "----------------------------------------------------------------\n",
      "C_train=  76  Best C_train =  26  gamma_train =  0.081  best_gamma_train=  0.041  Accuracy_train =  1.0  Best Accuracy_train =  1.0 \n",
      "\n",
      "C=  76  Best C =  51  gamma =  0.081  best_gamma=  0.006  Accuracy =  0.742099102614124  Best Accuracy =  0.8271556769410847 \n",
      "\n",
      "----------------------------------------------------------------\n",
      "C_train=  76  Best C_train =  26  gamma_train =  0.08600000000000001  best_gamma_train=  0.041  Accuracy_train =  1.0  Best Accuracy_train =  1.0 \n",
      "\n",
      "C=  76  Best C =  51  gamma =  0.08600000000000001  best_gamma=  0.006  Accuracy =  0.7366367538041357  Best Accuracy =  0.8271556769410847 \n",
      "\n",
      "----------------------------------------------------------------\n",
      "C_train=  76  Best C_train =  26  gamma_train =  0.091  best_gamma_train=  0.041  Accuracy_train =  1.0  Best Accuracy_train =  1.0 \n",
      "\n",
      "C=  76  Best C =  51  gamma =  0.091  best_gamma=  0.006  Accuracy =  0.7311744049941474  Best Accuracy =  0.8271556769410847 \n",
      "\n",
      "----------------------------------------------------------------\n",
      "C_train=  76  Best C_train =  26  gamma_train =  0.096  best_gamma_train=  0.041  Accuracy_train =  1.0  Best Accuracy_train =  1.0 \n",
      "\n",
      "C=  76  Best C =  51  gamma =  0.096  best_gamma=  0.006  Accuracy =  0.722590714007023  Best Accuracy =  0.8271556769410847 \n",
      "\n",
      "----------------------------------------------------------------\n",
      "C_train=  101  Best C_train =  26  gamma_train =  0.001  best_gamma_train=  0.041  Accuracy_train =  0.8653395784543325  Best Accuracy_train =  1.0 \n",
      "\n",
      "C=  101  Best C =  51  gamma =  0.001  best_gamma=  0.006  Accuracy =  0.8029652750682793  Best Accuracy =  0.8271556769410847 \n",
      "\n",
      "----------------------------------------------------------------\n",
      "C_train=  101  Best C_train =  26  gamma_train =  0.006  best_gamma_train=  0.041  Accuracy_train =  0.9677335415040333  Best Accuracy_train =  1.0 \n",
      "\n",
      "C=  101  Best C =  51  gamma =  0.006  best_gamma=  0.006  Accuracy =  0.8271556769410847  Best Accuracy =  0.8271556769410847 \n",
      "\n",
      "----------------------------------------------------------------\n",
      "C_train=  101  Best C_train =  26  gamma_train =  0.011  best_gamma_train=  0.041  Accuracy_train =  0.9929742388758782  Best Accuracy_train =  1.0 \n",
      "\n",
      "C=  101  Best C =  51  gamma =  0.011  best_gamma=  0.006  Accuracy =  0.8162309793211081  Best Accuracy =  0.8271556769410847 \n",
      "\n",
      "----------------------------------------------------------------\n",
      "C_train=  101  Best C_train =  26  gamma_train =  0.016  best_gamma_train=  0.041  Accuracy_train =  0.9992193598750976  Best Accuracy_train =  1.0 \n",
      "\n",
      "C=  101  Best C =  51  gamma =  0.016  best_gamma=  0.006  Accuracy =  0.8092079594225517  Best Accuracy =  0.8271556769410847 \n",
      "\n",
      "----------------------------------------------------------------\n",
      "C_train=  101  Best C_train =  26  gamma_train =  0.021  best_gamma_train=  0.041  Accuracy_train =  1.0  Best Accuracy_train =  1.0 \n",
      "\n",
      "C=  101  Best C =  51  gamma =  0.021  best_gamma=  0.006  Accuracy =  0.8029652750682793  Best Accuracy =  0.8271556769410847 \n",
      "\n",
      "----------------------------------------------------------------\n",
      "C_train=  101  Best C_train =  26  gamma_train =  0.026000000000000002  best_gamma_train=  0.041  Accuracy_train =  1.0  Best Accuracy_train =  1.0 \n",
      "\n",
      "C=  101  Best C =  51  gamma =  0.026000000000000002  best_gamma=  0.006  Accuracy =  0.795942255169723  Best Accuracy =  0.8271556769410847 \n",
      "\n",
      "----------------------------------------------------------------\n",
      "C_train=  101  Best C_train =  26  gamma_train =  0.031  best_gamma_train=  0.041  Accuracy_train =  1.0  Best Accuracy_train =  1.0 \n",
      "\n",
      "C=  101  Best C =  51  gamma =  0.031  best_gamma=  0.006  Accuracy =  0.7943815840811549  Best Accuracy =  0.8271556769410847 \n",
      "\n",
      "----------------------------------------------------------------\n",
      "C_train=  101  Best C_train =  26  gamma_train =  0.036000000000000004  best_gamma_train=  0.041  Accuracy_train =  1.0  Best Accuracy_train =  1.0 \n",
      "\n",
      "C=  101  Best C =  51  gamma =  0.036000000000000004  best_gamma=  0.006  Accuracy =  0.7908700741318767  Best Accuracy =  0.8271556769410847 \n",
      "\n",
      "----------------------------------------------------------------\n",
      "C_train=  101  Best C_train =  26  gamma_train =  0.041  best_gamma_train=  0.041  Accuracy_train =  1.0  Best Accuracy_train =  1.0 \n",
      "\n",
      "C=  101  Best C =  51  gamma =  0.041  best_gamma=  0.006  Accuracy =  0.7885290674990246  Best Accuracy =  0.8271556769410847 \n",
      "\n",
      "----------------------------------------------------------------\n",
      "C_train=  101  Best C_train =  26  gamma_train =  0.046  best_gamma_train=  0.041  Accuracy_train =  1.0  Best Accuracy_train =  1.0 \n",
      "\n",
      "C=  101  Best C =  51  gamma =  0.046  best_gamma=  0.006  Accuracy =  0.7822863831447523  Best Accuracy =  0.8271556769410847 \n",
      "\n",
      "----------------------------------------------------------------\n",
      "C_train=  101  Best C_train =  26  gamma_train =  0.051000000000000004  best_gamma_train=  0.041  Accuracy_train =  1.0  Best Accuracy_train =  1.0 \n",
      "\n",
      "C=  101  Best C =  51  gamma =  0.051000000000000004  best_gamma=  0.006  Accuracy =  0.77799453765119  Best Accuracy =  0.8271556769410847 \n",
      "\n",
      "----------------------------------------------------------------\n",
      "C_train=  101  Best C_train =  26  gamma_train =  0.056  best_gamma_train=  0.041  Accuracy_train =  1.0  Best Accuracy_train =  1.0 \n",
      "\n",
      "C=  101  Best C =  51  gamma =  0.056  best_gamma=  0.006  Accuracy =  0.7705813499804917  Best Accuracy =  0.8271556769410847 \n",
      "\n",
      "----------------------------------------------------------------\n",
      "C_train=  101  Best C_train =  26  gamma_train =  0.061  best_gamma_train=  0.041  Accuracy_train =  1.0  Best Accuracy_train =  1.0 \n",
      "\n",
      "C=  101  Best C =  51  gamma =  0.061  best_gamma=  0.006  Accuracy =  0.7662895044869293  Best Accuracy =  0.8271556769410847 \n",
      "\n",
      "----------------------------------------------------------------\n",
      "C_train=  101  Best C_train =  26  gamma_train =  0.066  best_gamma_train=  0.041  Accuracy_train =  1.0  Best Accuracy_train =  1.0 \n",
      "\n",
      "C=  101  Best C =  51  gamma =  0.066  best_gamma=  0.006  Accuracy =  0.7631681623097932  Best Accuracy =  0.8271556769410847 \n",
      "\n",
      "----------------------------------------------------------------\n",
      "C_train=  101  Best C_train =  26  gamma_train =  0.07100000000000001  best_gamma_train=  0.041  Accuracy_train =  1.0  Best Accuracy_train =  1.0 \n",
      "\n",
      "C=  101  Best C =  51  gamma =  0.07100000000000001  best_gamma=  0.006  Accuracy =  0.7569254779555209  Best Accuracy =  0.8271556769410847 \n",
      "\n",
      "----------------------------------------------------------------\n",
      "C_train=  101  Best C_train =  26  gamma_train =  0.076  best_gamma_train=  0.041  Accuracy_train =  1.0  Best Accuracy_train =  1.0 \n",
      "\n",
      "C=  101  Best C =  51  gamma =  0.076  best_gamma=  0.006  Accuracy =  0.7522434646898166  Best Accuracy =  0.8271556769410847 \n",
      "\n",
      "----------------------------------------------------------------\n",
      "C_train=  101  Best C_train =  26  gamma_train =  0.081  best_gamma_train=  0.041  Accuracy_train =  1.0  Best Accuracy_train =  1.0 \n",
      "\n",
      "C=  101  Best C =  51  gamma =  0.081  best_gamma=  0.006  Accuracy =  0.742099102614124  Best Accuracy =  0.8271556769410847 \n",
      "\n",
      "----------------------------------------------------------------\n"
     ]
    },
    {
     "name": "stdout",
     "output_type": "stream",
     "text": [
      "C_train=  101  Best C_train =  26  gamma_train =  0.08600000000000001  best_gamma_train=  0.041  Accuracy_train =  1.0  Best Accuracy_train =  1.0 \n",
      "\n",
      "C=  101  Best C =  51  gamma =  0.08600000000000001  best_gamma=  0.006  Accuracy =  0.7366367538041357  Best Accuracy =  0.8271556769410847 \n",
      "\n",
      "----------------------------------------------------------------\n",
      "C_train=  101  Best C_train =  26  gamma_train =  0.091  best_gamma_train=  0.041  Accuracy_train =  1.0  Best Accuracy_train =  1.0 \n",
      "\n",
      "C=  101  Best C =  51  gamma =  0.091  best_gamma=  0.006  Accuracy =  0.7311744049941474  Best Accuracy =  0.8271556769410847 \n",
      "\n",
      "----------------------------------------------------------------\n",
      "C_train=  101  Best C_train =  26  gamma_train =  0.096  best_gamma_train=  0.041  Accuracy_train =  1.0  Best Accuracy_train =  1.0 \n",
      "\n",
      "C=  101  Best C =  51  gamma =  0.096  best_gamma=  0.006  Accuracy =  0.722590714007023  Best Accuracy =  0.8271556769410847 \n",
      "\n"
     ]
    }
   ],
   "source": [
    "# C_2d_range = range(10)/0.1\n",
    "# gamma_2d_range = [0.01,0.1,0.2,0.3,1]\n",
    "classifiers = []\n",
    "# C_range=10\n",
    "# Gamma_range = 10\n",
    "Train_acc=[]\n",
    "Valid_acc=[]\n",
    "accuracy = -1\n",
    "accuracy_train = -1\n",
    "for C in np.arange(1,102,25):\n",
    "    for gamma in np.arange(0.001,0.1,0.005):\n",
    "        \n",
    "        clf = SVC(C=C, gamma=gamma)\n",
    "        print(\"----------------------------------------------------------------\")\n",
    "        clf.fit(X_train, y_train)\n",
    "        classifiers.append((C, gamma, clf))\n",
    "        y_pred = clf.predict(X_train)\n",
    "        acc_train =metrics.accuracy_score(y_train, y_pred)\n",
    "        Train_acc.append(acc_train)\n",
    "        y_pred = clf.predict(X_test)\n",
    "        acc=metrics.accuracy_score(y_test, y_pred)\n",
    "        Valid_acc.append(acc)\n",
    "        if (acc_train>accuracy_train):\n",
    "            \n",
    "            accuracy_train=acc_train\n",
    "            best_c_train = C\n",
    "            best_g_train=gamma\n",
    "        print(\"C_train= \",C,\" Best C_train = \",best_c_train,\" gamma_train = \",gamma,\" best_gamma_train= \",best_g_train,\" Accuracy_train = \",acc_train,\" Best Accuracy_train = \",accuracy_train,\"\\n\")\n",
    "\n",
    "        if (acc>accuracy):\n",
    "            accuracy=acc\n",
    "            best_c = C\n",
    "            best_g=gamma\n",
    "        \n",
    "        print(\"C= \",C,\" Best C = \",best_c,\" gamma = \",gamma,\" best_gamma= \",best_g,\" Accuracy = \",acc,\" Best Accuracy = \",accuracy,\"\\n\")\n",
    "        \n",
    "        "
   ]
  },
  {
   "cell_type": "code",
   "execution_count": 31,
   "metadata": {},
   "outputs": [],
   "source": [
    "clf = SVC(C=51,gamma=0.006,decision_function_shape='ovo')"
   ]
  },
  {
   "cell_type": "code",
   "execution_count": 32,
   "metadata": {},
   "outputs": [
    {
     "data": {
      "text/plain": [
       "SVC(C=51, cache_size=200, class_weight=None, coef0=0.0,\n",
       "    decision_function_shape='ovo', degree=3, gamma=0.006, kernel='rbf',\n",
       "    max_iter=-1, probability=False, random_state=None, shrinking=True,\n",
       "    tol=0.001, verbose=False)"
      ]
     },
     "execution_count": 32,
     "metadata": {},
     "output_type": "execute_result"
    }
   ],
   "source": [
    "clf.fit(X_train, y_train)"
   ]
  },
  {
   "cell_type": "code",
   "execution_count": 33,
   "metadata": {},
   "outputs": [],
   "source": [
    "y_pred = clf.predict(X_test)"
   ]
  },
  {
   "cell_type": "code",
   "execution_count": 34,
   "metadata": {},
   "outputs": [],
   "source": [
    "from sklearn import metrics"
   ]
  },
  {
   "cell_type": "code",
   "execution_count": 35,
   "metadata": {},
   "outputs": [
    {
     "name": "stdout",
     "output_type": "stream",
     "text": [
      "Accuracy : 82.71556769410847\n"
     ]
    }
   ],
   "source": [
    "print(\"Accuracy :\",metrics.accuracy_score(y_pred, y_test)*100)"
   ]
  },
  {
   "cell_type": "code",
   "execution_count": 36,
   "metadata": {},
   "outputs": [
    {
     "name": "stdout",
     "output_type": "stream",
     "text": [
      "Cohen Kappa Score : 80.24717453676739\n"
     ]
    }
   ],
   "source": [
    "from sklearn.metrics import cohen_kappa_score\n",
    "print(\"Cohen Kappa Score :\",cohen_kappa_score(y_pred, y_test)*100)"
   ]
  },
  {
   "cell_type": "code",
   "execution_count": 37,
   "metadata": {},
   "outputs": [
    {
     "name": "stdout",
     "output_type": "stream",
     "text": [
      "              precision    recall  f1-score   support\n",
      "\n",
      "           1       0.82      0.82      0.82        11\n",
      "           2       0.73      0.79      0.76       357\n",
      "           3       0.79      0.72      0.76       208\n",
      "           4       0.70      0.66      0.68        59\n",
      "           5       0.91      0.92      0.91       121\n",
      "           6       0.94      0.96      0.95       183\n",
      "           7       0.88      1.00      0.93         7\n",
      "           8       0.98      0.98      0.98       120\n",
      "           9       1.00      1.00      1.00         5\n",
      "          10       0.76      0.75      0.76       243\n",
      "          11       0.78      0.79      0.79       614\n",
      "          12       0.84      0.75      0.79       148\n",
      "          13       1.00      1.00      1.00        51\n",
      "          14       0.92      0.97      0.94       316\n",
      "          15       0.83      0.65      0.73        97\n",
      "          16       1.00      0.96      0.98        23\n",
      "\n",
      "    accuracy                           0.83      2563\n",
      "   macro avg       0.87      0.86      0.86      2563\n",
      "weighted avg       0.83      0.83      0.83      2563\n",
      "\n"
     ]
    }
   ],
   "source": [
    "from sklearn.metrics import confusion_matrix,classification_report\n",
    "mat = confusion_matrix(y_pred, y_test)\n",
    "pd.DataFrame(mat)\n",
    "# print(confusion_matrix(y_test, y_pred ))\n",
    "print(classification_report(y_test, y_pred ))"
   ]
  },
  {
   "cell_type": "code",
   "execution_count": 38,
   "metadata": {},
   "outputs": [
    {
     "name": "stdout",
     "output_type": "stream",
     "text": [
      "    0    1    2   3    4    5  6    7  8    9   10   11  12   13  14  15\n",
      "0   9    0    0   0    0    0  0    2  0    0    0    0   0    0   0   0\n",
      "1   0  282   14   9    0    0  0    0  0   17   58    6   0    0   0   0\n",
      "2   0    3  150   5    1    0  0    0  0    2   19    9   0    0   0   0\n",
      "3   0    1    7  39    3    0  0    0  0    1    0    5   0    0   0   0\n",
      "4   1    1    0   0  111    2  0    0  0    1    1    1   0    3   1   0\n",
      "5   0    2    0   1    3  176  0    0  0    1    0    0   0    1   4   0\n",
      "6   0    0    0   0    0    0  7    0  0    0    1    0   0    0   0   0\n",
      "7   1    0    0   1    0    0  0  118  0    0    0    0   0    0   0   0\n",
      "8   0    0    0   0    0    0  0    0  5    0    0    0   0    0   0   0\n",
      "9   0   15    4   1    0    0  0    0  0  183   34    3   0    0   0   0\n",
      "10  0   51   33   2    0    0  0    0  0   36  488   13   0    0   1   0\n",
      "11  0    2    0   1    1    0  0    0  0    2   13  111   0    0   1   1\n",
      "12  0    0    0   0    0    0  0    0  0    0    0    0  51    0   0   0\n",
      "13  0    0    0   0    1    0  0    0  0    0    0    0   0  305  27   0\n",
      "14  0    0    0   0    1    5  0    0  0    0    0    0   0    7  63   0\n",
      "15  0    0    0   0    0    0  0    0  0    0    0    0   0    0   0  22\n"
     ]
    }
   ],
   "source": [
    "print(pd.DataFrame(mat))"
   ]
  },
  {
   "cell_type": "code",
   "execution_count": null,
   "metadata": {},
   "outputs": [],
   "source": []
  }
 ],
 "metadata": {
  "kernelspec": {
   "display_name": "Python 3",
   "language": "python",
   "name": "python3"
  },
  "language_info": {
   "codemirror_mode": {
    "name": "ipython",
    "version": 3
   },
   "file_extension": ".py",
   "mimetype": "text/x-python",
   "name": "python",
   "nbconvert_exporter": "python",
   "pygments_lexer": "ipython3",
   "version": "3.7.4"
  }
 },
 "nbformat": 4,
 "nbformat_minor": 2
}
